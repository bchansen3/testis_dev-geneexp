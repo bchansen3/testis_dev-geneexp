{
 "cells": [
  {
   "cell_type": "code",
   "execution_count": 4,
   "metadata": {},
   "outputs": [],
   "source": [
    "library(DESeq2)\n",
    "\n",
    "\n",
    "## followed https://bioconductor.org/packages/release/workflows/vignettes/rnaseqGene/inst/doc/rnaseqGene.html#exploratory-analysis-and-visualization"
   ]
  },
  {
   "cell_type": "code",
   "execution_count": 10,
   "metadata": {},
   "outputs": [],
   "source": [
    "counts_file <- as.matrix(read.csv(\"/bigdata/faustmanlab/bch/csv_files/combined_counts.csv\", row.names=1,))\n",
    "\n",
    "metadata <- read.csv(\"/bigdata/faustmanlab/bch/csv_files/combined_metadata.csv\", colClasses=c(\"age_week\"=\"character\"))\n"
   ]
  },
  {
   "cell_type": "code",
   "execution_count": 9,
   "metadata": {},
   "outputs": [
    {
     "name": "stderr",
     "output_type": "stream",
     "text": [
      "Warning message in DESeqDataSet(se, design = design, ignoreRank):\n",
      "“some variables in design formula are characters, converting to factors”\n",
      "  Note: levels of factors in the design contain characters other than\n",
      "  letters, numbers, '_' and '.'. It is recommended (but not required) to use\n",
      "  only letters, numbers, and delimiters '_' or '.', as these are safe characters\n",
      "  for column names in R. [This is a message, not a warning or an error]\n",
      "\n"
     ]
    }
   ],
   "source": [
    "\n",
    "dds_comb <- DESeqDataSetFromMatrix(countData = counts_file, \n",
    "                                colData = metadata, \n",
    "                                design = ~ strain + age_week)\n"
   ]
  },
  {
   "cell_type": "code",
   "execution_count": 11,
   "metadata": {},
   "outputs": [
    {
     "data": {
      "text/html": [
       "30560"
      ],
      "text/latex": [
       "30560"
      ],
      "text/markdown": [
       "30560"
      ],
      "text/plain": [
       "[1] 30560"
      ]
     },
     "metadata": {},
     "output_type": "display_data"
    }
   ],
   "source": [
    "nrow(dds_comb)"
   ]
  },
  {
   "cell_type": "code",
   "execution_count": 13,
   "metadata": {},
   "outputs": [
    {
     "data": {
      "text/html": [
       "27855"
      ],
      "text/latex": [
       "27855"
      ],
      "text/markdown": [
       "27855"
      ],
      "text/plain": [
       "[1] 27855"
      ]
     },
     "metadata": {},
     "output_type": "display_data"
    }
   ],
   "source": [
    "keep <- rowSums(counts(dds_comb)) > 1\n",
    "dds_comb <- dds_comb[keep,]\n",
    "nrow(dds_comb)"
   ]
  },
  {
   "cell_type": "code",
   "execution_count": 14,
   "metadata": {},
   "outputs": [],
   "source": [
    "keep <- rowSums(counts(dds_comb) >= 10) >= 3\n"
   ]
  }
 ],
 "metadata": {
  "kernelspec": {
   "display_name": "R",
   "language": "R",
   "name": "ir"
  },
  "language_info": {
   "codemirror_mode": "r",
   "file_extension": ".r",
   "mimetype": "text/x-r-source",
   "name": "R",
   "pygments_lexer": "r",
   "version": "4.1.3"
  },
  "orig_nbformat": 4
 },
 "nbformat": 4,
 "nbformat_minor": 2
}
