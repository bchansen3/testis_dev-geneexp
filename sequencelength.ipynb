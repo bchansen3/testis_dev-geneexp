{
 "cells": [
  {
   "cell_type": "code",
   "execution_count": 17,
   "metadata": {},
   "outputs": [
    {
     "data": {
      "text/html": [
       "100"
      ],
      "text/latex": [
       "100"
      ],
      "text/markdown": [
       "100"
      ],
      "text/plain": [
       "[1] 100"
      ]
     },
     "metadata": {},
     "output_type": "display_data"
    }
   ],
   "source": [
    "#check reads at https://trace.ncbi.nlm.nih.gov/Traces/sra/?run=SRR6396803\n",
    "\n",
    "a = ('CCACCATTCCACTTTGTCACAGCTCACCCCTTGGTCCTGTTCCTCCTCCTTCTCATAAGTCAGTGGCGCCTGCTTCCGTTCTGGGTGCTTATGGTGCAGG')\n",
    "nchar(a)\n"
   ]
  }
 ],
 "metadata": {
  "kernelspec": {
   "display_name": "R",
   "language": "R",
   "name": "ir"
  },
  "language_info": {
   "codemirror_mode": "r",
   "file_extension": ".r",
   "mimetype": "text/x-r-source",
   "name": "R",
   "pygments_lexer": "r",
   "version": "4.1.3"
  },
  "orig_nbformat": 4
 },
 "nbformat": 4,
 "nbformat_minor": 2
}
