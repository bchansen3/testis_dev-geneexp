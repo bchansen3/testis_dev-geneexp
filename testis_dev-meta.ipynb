{
 "cells": [
  {
   "cell_type": "code",
   "execution_count": null,
   "metadata": {},
   "outputs": [],
   "source": [
    "wget \n",
    "\n",
    "\n",
    "wget https://repo.continuum.io/archive/Anaconda3-5.3.1-Linux-x86_64.sh"
   ]
  },
  {
   "cell_type": "markdown",
   "metadata": {},
   "source": [
    "conda create -n testis-meta r r-tidyverse r-irkernel r-dplyr bioconductor-plyranges bioconductor-deseq2 bioconductor-genomicfeatures bioconductor-rtracklayer bioconductor-ggbio -c conda-forge -c bioconda"
   ]
  },
  {
   "cell_type": "markdown",
   "metadata": {},
   "source": [
    "git config --global user.email \"bhansen3@uw.edu\"\n",
    "  git config --global user.name \"Brad Hansen\""
   ]
  }
 ],
 "metadata": {
  "language_info": {
   "name": "plaintext"
  },
  "orig_nbformat": 4
 },
 "nbformat": 4,
 "nbformat_minor": 2
}
