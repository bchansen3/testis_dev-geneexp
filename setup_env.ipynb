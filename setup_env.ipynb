{
 "cells": [
  {
   "cell_type": "code",
   "execution_count": null,
   "metadata": {},
   "outputs": [],
   "source": [
    "wget \n",
    "\n",
    "\n",
    "wget https://repo.continuum.io/archive/Anaconda3-5.3.1-Linux-x86_64.sh"
   ]
  },
  {
   "cell_type": "markdown",
   "metadata": {},
   "source": [
    "conda create -n testis-meta r r-tidyverse r-irkernel r-dplyr bioconductor-plyranges bioconductor-deseq2 bioconductor-genomicfeatures bioconductor-rtracklayer bioconductor-ggbio -c conda-forge -c bioconda"
   ]
  },
  {
   "cell_type": "markdown",
   "metadata": {},
   "source": [
    "git config --global user.email \"bhansen3@uw.edu\"\n",
    "  git config --global user.name \"Brad Hansen\""
   ]
  },
  {
   "cell_type": "code",
   "execution_count": null,
   "metadata": {},
   "outputs": [],
   "source": [
    "# Setup R kernel\n",
    "/home/NETID/bhansen3/anaconda3/envs/testis-meta/bin/R\n",
    "\n",
    "conda config --set auto_activate_base True\n",
    "\n",
    "# load conda environment\n",
    "source ~/anaconda3/bin/activate\n",
    "conda activate testis-meta"
   ]
  }
 ],
 "metadata": {
  "language_info": {
   "name": "plaintext"
  },
  "orig_nbformat": 4
 },
 "nbformat": 4,
 "nbformat_minor": 2
}
