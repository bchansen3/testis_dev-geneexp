{
 "cells": [
  {
   "cell_type": "markdown",
   "metadata": {},
   "source": [
    "# Gene Expression Analysis of Rat Testis Across Developmental Stages\n",
    "\n",
    "## Brad Hansen\n",
    "\n",
    "### Data from [NCBI GEO](https://www.ncbi.nlm.nih.gov/geo/)\n",
    "\n",
    "Search terms: *testis*, *rat*, *testes*, *postnatal*,\n",
    "\n",
    "Only RNA-seq data used (not microarray).\n",
    "\n",
    "Data used:\n",
    "\n",
    "GEO study [GSE108348](https://www.ncbi.nlm.nih.gov/geo/query/acc.cgi?acc=GSE108348)\n",
    "\n",
    "> Study GSE108348 includes transcriptomes from three species (*mouse, rat, chicken*), four organs (*testis, brain, liver, kidney*), across five developmental stages (*E 13.5, E 18.5-19, PND 1-2, 8-10 weeks, 24 months*). This project considers the testis data for rats (Wistar) across the development stages. The data is Bulk RNA-seq from a Illumina HiSeq 2000.\n",
    "\n",
    "GEO study [GSE162152](https://www.ncbi.nlm.nih.gov/geo/query/acc.cgi?acc=GSE162152)\n",
    "\n",
    "> Study GSE162152 includes gene expression profiling of testis (*also liver and cerebellum*) across five species (*opossum, mouse, rat, rhesus macaque, human*). The authors specifically targeted circRNAs through RNA R treatment, though this analysis only uses the untreated samples. The data is Bulk RNA-seq from Illumina HiSeq 2500. Rat samples taken at 16 weeks of age.\n",
    "\n",
    "GEO study [GSE125483](https://www.ncbi.nlm.nih.gov/geo/query/acc.cgi?acc=GSE125483)\n",
    "\n",
    "> Study GSE1235483 includes gene expression profiles from 12 tissues, across 4 species (*cynomolgus macaque, mouse, rat, and dog*). Here we use testis data from 9 week old brown norway rats.\n",
    "\n",
    "GEO study [GSE85420](https://www.ncbi.nlm.nih.gov/geo/query/acc.cgi?acc=GSE85420)\n",
    "\n",
    "> Study GSE85420 includes gene expression profiling after exposure to 2,2',4'4' --Tetrabromodiphenyl Ether. This study looks at the testis RNA-seq data for the control group of Wistar rats at PND 120 (\\~17 weeks)\n",
    "\n",
    "GEO study [GSE41637](https://www.ncbi.nlm.nih.gov/geo/query/acc.cgi?acc=GSE41637)\n",
    "\n",
    "> Study GSE41637 looks at transciptome differences across mammals. The study reports that samples taken from animals *of breeding age* due to transcriptome stability. Samples analyses (for Rattus norvegicus) using Illumina Genome Analyzer IIx.\n",
    "\n",
    "GEO study [GSE53960](https://www.ncbi.nlm.nih.gov/geo/query/acc.cgi?acc=GSE53960)\n",
    "\n",
    "> Study GSE53960 assesses the *\"transcriptomic profiling across 11 organs, 4 ages, and 2 sexes of Fischer 344 rats.\"* This study uses the testis data from 2, 6, 21, and 104 week old Fischer 344 rats.\n",
    "\n",
    "\n",
    "# Periods Covered\n",
    "\n",
    "\n",
    "| Period     | Species    | Strain      | Source                        |\n",
    "|-------|-----|-----|----|\n",
    "| Embryonic Day 13.5 (*midstage embryo*)      | Rat        | Wistar                            | [GSE108348](https://www.ncbi.nlm.nih.gov/geo/query/acc.cgi?acc=GSE108348)                                                                            |\n",
    "| Embryonic Day 18.5-19 (*late Embryo*)       | Rat        | Wistar                            | [GSE108348](https://www.ncbi.nlm.nih.gov/geo/query/acc.cgi?acc=GSE108348)                                                                            |\n",
    "| Post Natal Day 1-2 (*neonate*)              | Rat        | Wistar                            | [GSE108348](https://www.ncbi.nlm.nih.gov/geo/query/acc.cgi?acc=GSE108348)                                                                            |\n",
    "| 2 weeks old (*young*)                       | Rat        | Fischer 344                       | [GSE53960](https://www.ncbi.nlm.nih.gov/geo/query/acc.cgi?acc=GSE53960)                                                                              |\n",
    "| 6 weeks old (*young*)                       | Rat        | Fischer 344                       | [GSE53960](https://www.ncbi.nlm.nih.gov/geo/query/acc.cgi?acc=GSE53960)                                                                              |\n",
    "| 8-10 weeks old (*young adult*), 9 weeks old | Rat        | Wistar, Brown rat                 | [GSE108348](https://www.ncbi.nlm.nih.gov/geo/query/acc.cgi?acc=GSE108348), [GSE125483](https://www.ncbi.nlm.nih.gov/geo/query/acc.cgi?acc=GSE125483) |\n",
    "| 16 weeks old (*adult*)                      | Rat        | Norway Brown (*NCBI Taxon 10116*) | [GSE162152](https://www.ncbi.nlm.nih.gov/geo/query/acc.cgi?acc=GSE162152)                                                                            |\n",
    "| 17 weeks old (*adult*)                      | Rat        | Wistar                            | [GSE85420](https://www.ncbi.nlm.nih.gov/geo/query/acc.cgi?acc=GSE85420)                                                                              |\n",
    "| 21 weeks old (*adult*)                      | Rat        | Fischer 344                       | [GSE53960](https://www.ncbi.nlm.nih.gov/geo/query/acc.cgi?acc=GSE53960)                                                                              |\n",
    "| 2 years old (*aged adult*)                  | Rat        | Wistar , Fisher 344               | [GSE108348](https://www.ncbi.nlm.nih.gov/geo/query/acc.cgi?acc=GSE108348), [GSE53960](https://www.ncbi.nlm.nih.gov/geo/query/acc.cgi?acc=GSE53960)   |\n",
    "| *Breeding Age*                              | Rat        | Sprague-Dawley                    | [GSE41637](https://www.ncbi.nlm.nih.gov/geo/query/acc.cgi?acc=GSE41637)                                                                              |\n"
   ]
  },
  {
   "cell_type": "code",
   "execution_count": 3,
   "metadata": {},
   "outputs": [],
   "source": [
    "library(plyranges)\n",
    "library(tidyverse)\n",
    "library(dplyr)\n",
    "library(plyr)\n",
    "library(DESeq2)\n",
    "library(DEGreport)\n",
    "library(GEOquery)\n",
    "library(Glimma)"
   ]
  },
  {
   "cell_type": "code",
   "execution_count": 4,
   "metadata": {},
   "outputs": [
    {
     "name": "stderr",
     "output_type": "stream",
     "text": [
      "'getOption(\"repos\")' replaces Bioconductor standard repositories, see\n",
      "'?repositories' for details\n",
      "\n",
      "replacement repositories:\n",
      "    CRAN: https://cran.r-project.org\n",
      "\n",
      "\n",
      "Bioconductor version 3.14 (BiocManager 1.30.16), R 4.1.3 (2022-03-10)\n",
      "\n",
      "Warning message:\n",
      "“package(s) not installed when version(s) same as current; use `force = TRUE` to\n",
      "  re-install: 'org.Rn.eg.db'”\n",
      "Old packages: 'BiocManager', 'blob', 'broom', 'checkmate', 'circlize', 'cli',\n",
      "  'clue', 'dbplyr', 'dichromat', 'dplyr', 'ggplot2', 'haven', 'Hmisc', 'httr',\n",
      "  'knitr', 'limma', 'MASS', 'matrixStats', 'mnormt', 'openssl', 'processx',\n",
      "  'ps', 'psych', 'RcppArmadillo', 'RCurl', 'reshape', 'restfulr', 'rmarkdown',\n",
      "  'RSQLite', 'scales', 'testthat', 'tibble', 'tinytex', 'uuid', 'vctrs',\n",
      "  'xfun', 'XML'\n",
      "\n"
     ]
    }
   ],
   "source": [
    "# load Rat Gene annotations \"Rn\"\n",
    "\n",
    "organism = \"org.Rn.eg.db\"\n",
    "BiocManager::install(organism, character.only = TRUE)\n",
    "library(organism, character.only = TRUE)"
   ]
  },
  {
   "cell_type": "markdown",
   "metadata": {},
   "source": [
    "GEO study [GSE108348](https://www.ncbi.nlm.nih.gov/geo/query/acc.cgi?acc=GSE108348)\n",
    "\n",
    "Data available: text file of unique read counts \n",
    "    * Aligned with HISAT2 (2.0.5)\n",
    "    * used Ensembl release 94 annotations as a reference and we assembled additional gene models with StringTie 1.3.5.\n",
    "    * Genome build = rn6\n",
    "    * uniquely mapped read counts using the Rsubread library in R (featureCounts) version 1.32.4, in R version 3.5.\n",
    "\n",
    "Strandness of data == Illumina Truseq == use reverse (column 4 in STAR output)\n",
    "\n",
    "SRR reads:\n",
    "        SRR6396793\n",
    "        SRR6396803\n",
    "        SRR6396794\n",
    "        SRR6396795\n",
    "        SRR6396796\n",
    "        SRR6396797\n",
    "        SRR6396798\n",
    "        SRR6396799\n",
    "        SRR6396800\n",
    "        SRR6396801\n",
    "        SRR6396802"
   ]
  },
  {
   "cell_type": "code",
   "execution_count": 5,
   "metadata": {},
   "outputs": [],
   "source": [
    "# load in files from STAR --quantMode genecounts\n",
    "\n",
    "countPATH <- \"/bigdata/faustmanlab/bch/gse108348_counts/counts\"\n",
    "\n",
    "files <- list.files(path=countPATH, pattern=\"*.tab\", full.names=TRUE)\n",
    "names(files) <- lapply(strsplit(files, \"/|_\"), \"[\",8)\n",
    "countslist <- lapply(files, read.delim, sep=\"\\t\", header=FALSE)\n",
    "names(countslist)<- names(files)\n"
   ]
  },
  {
   "cell_type": "code",
   "execution_count": 8,
   "metadata": {},
   "outputs": [],
   "source": [
    "colnames<- c(\"gene\", \"unstranded_counts\", \"htseq_count_Fstreadalign\",\"htseq_countrev_Sndreadalign\")\n",
    "\n",
    "\n",
    "# check that this is proper column\n",
    "\n",
    "for (i in seq_along(countslist)){\n",
    "  colnames(countslist[[i]]) <- colnames}\n",
    "\n",
    "counts_temp <- lapply(countslist, function(x) {x <- x %>% dplyr::select(-c(unstranded_counts,htseq_count_Fstreadalign))})\n",
    "counts_use <- lapply(counts_temp, function(x) {x <- x[-c(1:4),]})\n"
   ]
  },
  {
   "cell_type": "code",
   "execution_count": 9,
   "metadata": {},
   "outputs": [
    {
     "data": {
      "text/html": [
       "<table class=\"dataframe\">\n",
       "<caption>A data.frame: 6 × 11</caption>\n",
       "<thead>\n",
       "\t<tr><th></th><th scope=col>SRR6396793</th><th scope=col>SRR6396794</th><th scope=col>SRR6396795</th><th scope=col>SRR6396796</th><th scope=col>SRR6396797</th><th scope=col>SRR6396798</th><th scope=col>SRR6396799</th><th scope=col>SRR6396800</th><th scope=col>SRR6396801</th><th scope=col>SRR6396802</th><th scope=col>SRR6396803</th></tr>\n",
       "\t<tr><th></th><th scope=col>&lt;int&gt;</th><th scope=col>&lt;int&gt;</th><th scope=col>&lt;int&gt;</th><th scope=col>&lt;int&gt;</th><th scope=col>&lt;int&gt;</th><th scope=col>&lt;int&gt;</th><th scope=col>&lt;int&gt;</th><th scope=col>&lt;int&gt;</th><th scope=col>&lt;int&gt;</th><th scope=col>&lt;int&gt;</th><th scope=col>&lt;int&gt;</th></tr>\n",
       "</thead>\n",
       "<tbody>\n",
       "\t<tr><th scope=row>ENSRNOG00000066169</th><td> 3</td><td> 2</td><td> 0</td><td> 1</td><td>  2</td><td>  0</td><td>  8</td><td>  3</td><td>  21</td><td>  20</td><td>   3</td></tr>\n",
       "\t<tr><th scope=row>ENSRNOG00000070168</th><td> 0</td><td> 0</td><td> 0</td><td> 0</td><td>  0</td><td>  0</td><td>  0</td><td>  0</td><td>   0</td><td>   0</td><td>   0</td></tr>\n",
       "\t<tr><th scope=row>ENSRNOG00000070901</th><td>62</td><td>64</td><td>83</td><td>20</td><td>100</td><td>123</td><td>674</td><td>676</td><td>1695</td><td>2186</td><td>2386</td></tr>\n",
       "\t<tr><th scope=row>ENSRNOG00000018029</th><td> 1</td><td> 3</td><td> 2</td><td> 1</td><td>  5</td><td>  5</td><td> 10</td><td> 12</td><td>   9</td><td>  36</td><td>  38</td></tr>\n",
       "\t<tr><th scope=row>ENSRNOG00000031391</th><td> 6</td><td> 7</td><td>85</td><td>27</td><td> 37</td><td> 54</td><td>  3</td><td>  2</td><td>  13</td><td>  23</td><td>   8</td></tr>\n",
       "\t<tr><th scope=row>ENSRNOG00000055342</th><td> 0</td><td> 0</td><td> 0</td><td> 0</td><td>  0</td><td>  0</td><td>  0</td><td>  0</td><td>   0</td><td>   0</td><td>   0</td></tr>\n",
       "</tbody>\n",
       "</table>\n"
      ],
      "text/latex": [
       "A data.frame: 6 × 11\n",
       "\\begin{tabular}{r|lllllllllll}\n",
       "  & SRR6396793 & SRR6396794 & SRR6396795 & SRR6396796 & SRR6396797 & SRR6396798 & SRR6396799 & SRR6396800 & SRR6396801 & SRR6396802 & SRR6396803\\\\\n",
       "  & <int> & <int> & <int> & <int> & <int> & <int> & <int> & <int> & <int> & <int> & <int>\\\\\n",
       "\\hline\n",
       "\tENSRNOG00000066169 &  3 &  2 &  0 &  1 &   2 &   0 &   8 &   3 &   21 &   20 &    3\\\\\n",
       "\tENSRNOG00000070168 &  0 &  0 &  0 &  0 &   0 &   0 &   0 &   0 &    0 &    0 &    0\\\\\n",
       "\tENSRNOG00000070901 & 62 & 64 & 83 & 20 & 100 & 123 & 674 & 676 & 1695 & 2186 & 2386\\\\\n",
       "\tENSRNOG00000018029 &  1 &  3 &  2 &  1 &   5 &   5 &  10 &  12 &    9 &   36 &   38\\\\\n",
       "\tENSRNOG00000031391 &  6 &  7 & 85 & 27 &  37 &  54 &   3 &   2 &   13 &   23 &    8\\\\\n",
       "\tENSRNOG00000055342 &  0 &  0 &  0 &  0 &   0 &   0 &   0 &   0 &    0 &    0 &    0\\\\\n",
       "\\end{tabular}\n"
      ],
      "text/markdown": [
       "\n",
       "A data.frame: 6 × 11\n",
       "\n",
       "| <!--/--> | SRR6396793 &lt;int&gt; | SRR6396794 &lt;int&gt; | SRR6396795 &lt;int&gt; | SRR6396796 &lt;int&gt; | SRR6396797 &lt;int&gt; | SRR6396798 &lt;int&gt; | SRR6396799 &lt;int&gt; | SRR6396800 &lt;int&gt; | SRR6396801 &lt;int&gt; | SRR6396802 &lt;int&gt; | SRR6396803 &lt;int&gt; |\n",
       "|---|---|---|---|---|---|---|---|---|---|---|---|\n",
       "| ENSRNOG00000066169 |  3 |  2 |  0 |  1 |   2 |   0 |   8 |   3 |   21 |   20 |    3 |\n",
       "| ENSRNOG00000070168 |  0 |  0 |  0 |  0 |   0 |   0 |   0 |   0 |    0 |    0 |    0 |\n",
       "| ENSRNOG00000070901 | 62 | 64 | 83 | 20 | 100 | 123 | 674 | 676 | 1695 | 2186 | 2386 |\n",
       "| ENSRNOG00000018029 |  1 |  3 |  2 |  1 |   5 |   5 |  10 |  12 |    9 |   36 |   38 |\n",
       "| ENSRNOG00000031391 |  6 |  7 | 85 | 27 |  37 |  54 |   3 |   2 |   13 |   23 |    8 |\n",
       "| ENSRNOG00000055342 |  0 |  0 |  0 |  0 |   0 |   0 |   0 |   0 |    0 |    0 |    0 |\n",
       "\n"
      ],
      "text/plain": [
       "                   SRR6396793 SRR6396794 SRR6396795 SRR6396796 SRR6396797\n",
       "ENSRNOG00000066169  3          2          0          1           2       \n",
       "ENSRNOG00000070168  0          0          0          0           0       \n",
       "ENSRNOG00000070901 62         64         83         20         100       \n",
       "ENSRNOG00000018029  1          3          2          1           5       \n",
       "ENSRNOG00000031391  6          7         85         27          37       \n",
       "ENSRNOG00000055342  0          0          0          0           0       \n",
       "                   SRR6396798 SRR6396799 SRR6396800 SRR6396801 SRR6396802\n",
       "ENSRNOG00000066169   0          8          3          21         20      \n",
       "ENSRNOG00000070168   0          0          0           0          0      \n",
       "ENSRNOG00000070901 123        674        676        1695       2186      \n",
       "ENSRNOG00000018029   5         10         12           9         36      \n",
       "ENSRNOG00000031391  54          3          2          13         23      \n",
       "ENSRNOG00000055342   0          0          0           0          0      \n",
       "                   SRR6396803\n",
       "ENSRNOG00000066169    3      \n",
       "ENSRNOG00000070168    0      \n",
       "ENSRNOG00000070901 2386      \n",
       "ENSRNOG00000018029   38      \n",
       "ENSRNOG00000031391    8      \n",
       "ENSRNOG00000055342    0      "
      ]
     },
     "metadata": {},
     "output_type": "display_data"
    }
   ],
   "source": [
    "\n",
    "all_counts <- reduce(counts_use, full_join, by = \"gene\")\n",
    "colnames(all_counts)<-c(\"gene\", names(counts_use))\n",
    "\n",
    "rownames(all_counts)<- all_counts$gene\n",
    "all_counts <- all_counts[,-1]\n",
    "\n",
    "\n",
    "\n",
    "head(all_counts)\n",
    "\n",
    "counts108348 = all_counts\n"
   ]
  },
  {
   "cell_type": "code",
   "execution_count": 11,
   "metadata": {},
   "outputs": [
    {
     "data": {
      "text/html": [
       "<style>\n",
       ".list-inline {list-style: none; margin:0; padding: 0}\n",
       ".list-inline>li {display: inline-block}\n",
       ".list-inline>li:not(:last-child)::after {content: \"\\00b7\"; padding: 0 .5ex}\n",
       "</style>\n",
       "<ol class=list-inline><li>'Run'</li><li>'Assay.Type'</li><li>'AvgSpotLen'</li><li>'Bases'</li><li>'BioProject'</li><li>'BioSample'</li><li>'Bytes'</li><li>'Center.Name'</li><li>'Consent'</li><li>'DATASTORE.filetype'</li><li>'DATASTORE.provider'</li><li>'DATASTORE.region'</li><li>'Developmental_stage'</li><li>'Experiment'</li><li>'GEO_Accession..exp.'</li><li>'Instrument'</li><li>'LibraryLayout'</li><li>'LibrarySelection'</li><li>'LibrarySource'</li><li>'Organism'</li><li>'Platform'</li><li>'ReleaseDate'</li><li>'Sample.Name'</li><li>'source_name'</li><li>'SRA.Study'</li><li>'strain'</li><li>'BREED'</li></ol>\n"
      ],
      "text/latex": [
       "\\begin{enumerate*}\n",
       "\\item 'Run'\n",
       "\\item 'Assay.Type'\n",
       "\\item 'AvgSpotLen'\n",
       "\\item 'Bases'\n",
       "\\item 'BioProject'\n",
       "\\item 'BioSample'\n",
       "\\item 'Bytes'\n",
       "\\item 'Center.Name'\n",
       "\\item 'Consent'\n",
       "\\item 'DATASTORE.filetype'\n",
       "\\item 'DATASTORE.provider'\n",
       "\\item 'DATASTORE.region'\n",
       "\\item 'Developmental\\_stage'\n",
       "\\item 'Experiment'\n",
       "\\item 'GEO\\_Accession..exp.'\n",
       "\\item 'Instrument'\n",
       "\\item 'LibraryLayout'\n",
       "\\item 'LibrarySelection'\n",
       "\\item 'LibrarySource'\n",
       "\\item 'Organism'\n",
       "\\item 'Platform'\n",
       "\\item 'ReleaseDate'\n",
       "\\item 'Sample.Name'\n",
       "\\item 'source\\_name'\n",
       "\\item 'SRA.Study'\n",
       "\\item 'strain'\n",
       "\\item 'BREED'\n",
       "\\end{enumerate*}\n"
      ],
      "text/markdown": [
       "1. 'Run'\n",
       "2. 'Assay.Type'\n",
       "3. 'AvgSpotLen'\n",
       "4. 'Bases'\n",
       "5. 'BioProject'\n",
       "6. 'BioSample'\n",
       "7. 'Bytes'\n",
       "8. 'Center.Name'\n",
       "9. 'Consent'\n",
       "10. 'DATASTORE.filetype'\n",
       "11. 'DATASTORE.provider'\n",
       "12. 'DATASTORE.region'\n",
       "13. 'Developmental_stage'\n",
       "14. 'Experiment'\n",
       "15. 'GEO_Accession..exp.'\n",
       "16. 'Instrument'\n",
       "17. 'LibraryLayout'\n",
       "18. 'LibrarySelection'\n",
       "19. 'LibrarySource'\n",
       "20. 'Organism'\n",
       "21. 'Platform'\n",
       "22. 'ReleaseDate'\n",
       "23. 'Sample.Name'\n",
       "24. 'source_name'\n",
       "25. 'SRA.Study'\n",
       "26. 'strain'\n",
       "27. 'BREED'\n",
       "\n",
       "\n"
      ],
      "text/plain": [
       " [1] \"Run\"                 \"Assay.Type\"          \"AvgSpotLen\"         \n",
       " [4] \"Bases\"               \"BioProject\"          \"BioSample\"          \n",
       " [7] \"Bytes\"               \"Center.Name\"         \"Consent\"            \n",
       "[10] \"DATASTORE.filetype\"  \"DATASTORE.provider\"  \"DATASTORE.region\"   \n",
       "[13] \"Developmental_stage\" \"Experiment\"          \"GEO_Accession..exp.\"\n",
       "[16] \"Instrument\"          \"LibraryLayout\"       \"LibrarySelection\"   \n",
       "[19] \"LibrarySource\"       \"Organism\"            \"Platform\"           \n",
       "[22] \"ReleaseDate\"         \"Sample.Name\"         \"source_name\"        \n",
       "[25] \"SRA.Study\"           \"strain\"              \"BREED\"              "
      ]
     },
     "metadata": {},
     "output_type": "display_data"
    },
    {
     "data": {
      "text/html": [
       "<table class=\"dataframe\">\n",
       "<caption>A data.frame: 11 × 7</caption>\n",
       "<thead>\n",
       "\t<tr><th scope=col>Run</th><th scope=col>BioSample</th><th scope=col>Developmental_stage</th><th scope=col>Experiment</th><th scope=col>Sample.Name</th><th scope=col>strain</th><th scope=col>age_week</th></tr>\n",
       "\t<tr><th scope=col>&lt;chr&gt;</th><th scope=col>&lt;chr&gt;</th><th scope=col>&lt;chr&gt;</th><th scope=col>&lt;chr&gt;</th><th scope=col>&lt;chr&gt;</th><th scope=col>&lt;chr&gt;</th><th scope=col>&lt;chr&gt;</th></tr>\n",
       "</thead>\n",
       "<tbody>\n",
       "\t<tr><td>SRR6396793</td><td>SAMN08214008</td><td>young adult (8-10 weeks)    </td><td>SRX3489972</td><td>GSM2895826</td><td>Wistar</td><td>9    </td></tr>\n",
       "\t<tr><td>SRR6396794</td><td>SAMN08214008</td><td>young adult (8-10 weeks)    </td><td>SRX3489972</td><td>GSM2895826</td><td>Wistar</td><td>9    </td></tr>\n",
       "\t<tr><td>SRR6396795</td><td>SAMN08214100</td><td>young adult (8-10 weeks)    </td><td>SRX3489973</td><td>GSM2895827</td><td>Wistar</td><td>9    </td></tr>\n",
       "\t<tr><td>SRR6396796</td><td>SAMN08214100</td><td>young adult (8-10 weeks)    </td><td>SRX3489973</td><td>GSM2895827</td><td>Wistar</td><td>9    </td></tr>\n",
       "\t<tr><td>SRR6396797</td><td>SAMN08214099</td><td>aged adult (24 months)      </td><td>SRX3489974</td><td>GSM2895828</td><td>Wistar</td><td>104  </td></tr>\n",
       "\t<tr><td>SRR6396798</td><td>SAMN08214098</td><td>aged adult (24 months)      </td><td>SRX3489975</td><td>GSM2895829</td><td>Wistar</td><td>104  </td></tr>\n",
       "\t<tr><td>SRR6396799</td><td>SAMN08214097</td><td>embryonic day 18.5-19       </td><td>SRX3489976</td><td>GSM2895830</td><td>Wistar</td><td>-0.43</td></tr>\n",
       "\t<tr><td>SRR6396800</td><td>SAMN08214097</td><td>embryonic day 18.5-19       </td><td>SRX3489976</td><td>GSM2895830</td><td>Wistar</td><td>-0.43</td></tr>\n",
       "\t<tr><td>SRR6396801</td><td>SAMN08214096</td><td>embryonic day 18.5-19       </td><td>SRX3489977</td><td>GSM2895831</td><td>Wistar</td><td>-0.43</td></tr>\n",
       "\t<tr><td>SRR6396802</td><td>SAMN08214095</td><td>newborn (post-natal day 1-2)</td><td>SRX3489978</td><td>GSM2895832</td><td>Wistar</td><td>0.2  </td></tr>\n",
       "\t<tr><td>SRR6396803</td><td>SAMN08214094</td><td>newborn (post-natal day 1-2)</td><td>SRX3489979</td><td>GSM2895833</td><td>Wistar</td><td>0.2  </td></tr>\n",
       "</tbody>\n",
       "</table>\n"
      ],
      "text/latex": [
       "A data.frame: 11 × 7\n",
       "\\begin{tabular}{lllllll}\n",
       " Run & BioSample & Developmental\\_stage & Experiment & Sample.Name & strain & age\\_week\\\\\n",
       " <chr> & <chr> & <chr> & <chr> & <chr> & <chr> & <chr>\\\\\n",
       "\\hline\n",
       "\t SRR6396793 & SAMN08214008 & young adult (8-10 weeks)     & SRX3489972 & GSM2895826 & Wistar & 9    \\\\\n",
       "\t SRR6396794 & SAMN08214008 & young adult (8-10 weeks)     & SRX3489972 & GSM2895826 & Wistar & 9    \\\\\n",
       "\t SRR6396795 & SAMN08214100 & young adult (8-10 weeks)     & SRX3489973 & GSM2895827 & Wistar & 9    \\\\\n",
       "\t SRR6396796 & SAMN08214100 & young adult (8-10 weeks)     & SRX3489973 & GSM2895827 & Wistar & 9    \\\\\n",
       "\t SRR6396797 & SAMN08214099 & aged adult (24 months)       & SRX3489974 & GSM2895828 & Wistar & 104  \\\\\n",
       "\t SRR6396798 & SAMN08214098 & aged adult (24 months)       & SRX3489975 & GSM2895829 & Wistar & 104  \\\\\n",
       "\t SRR6396799 & SAMN08214097 & embryonic day 18.5-19        & SRX3489976 & GSM2895830 & Wistar & -0.43\\\\\n",
       "\t SRR6396800 & SAMN08214097 & embryonic day 18.5-19        & SRX3489976 & GSM2895830 & Wistar & -0.43\\\\\n",
       "\t SRR6396801 & SAMN08214096 & embryonic day 18.5-19        & SRX3489977 & GSM2895831 & Wistar & -0.43\\\\\n",
       "\t SRR6396802 & SAMN08214095 & newborn (post-natal day 1-2) & SRX3489978 & GSM2895832 & Wistar & 0.2  \\\\\n",
       "\t SRR6396803 & SAMN08214094 & newborn (post-natal day 1-2) & SRX3489979 & GSM2895833 & Wistar & 0.2  \\\\\n",
       "\\end{tabular}\n"
      ],
      "text/markdown": [
       "\n",
       "A data.frame: 11 × 7\n",
       "\n",
       "| Run &lt;chr&gt; | BioSample &lt;chr&gt; | Developmental_stage &lt;chr&gt; | Experiment &lt;chr&gt; | Sample.Name &lt;chr&gt; | strain &lt;chr&gt; | age_week &lt;chr&gt; |\n",
       "|---|---|---|---|---|---|---|\n",
       "| SRR6396793 | SAMN08214008 | young adult (8-10 weeks)     | SRX3489972 | GSM2895826 | Wistar | 9     |\n",
       "| SRR6396794 | SAMN08214008 | young adult (8-10 weeks)     | SRX3489972 | GSM2895826 | Wistar | 9     |\n",
       "| SRR6396795 | SAMN08214100 | young adult (8-10 weeks)     | SRX3489973 | GSM2895827 | Wistar | 9     |\n",
       "| SRR6396796 | SAMN08214100 | young adult (8-10 weeks)     | SRX3489973 | GSM2895827 | Wistar | 9     |\n",
       "| SRR6396797 | SAMN08214099 | aged adult (24 months)       | SRX3489974 | GSM2895828 | Wistar | 104   |\n",
       "| SRR6396798 | SAMN08214098 | aged adult (24 months)       | SRX3489975 | GSM2895829 | Wistar | 104   |\n",
       "| SRR6396799 | SAMN08214097 | embryonic day 18.5-19        | SRX3489976 | GSM2895830 | Wistar | -0.43 |\n",
       "| SRR6396800 | SAMN08214097 | embryonic day 18.5-19        | SRX3489976 | GSM2895830 | Wistar | -0.43 |\n",
       "| SRR6396801 | SAMN08214096 | embryonic day 18.5-19        | SRX3489977 | GSM2895831 | Wistar | -0.43 |\n",
       "| SRR6396802 | SAMN08214095 | newborn (post-natal day 1-2) | SRX3489978 | GSM2895832 | Wistar | 0.2   |\n",
       "| SRR6396803 | SAMN08214094 | newborn (post-natal day 1-2) | SRX3489979 | GSM2895833 | Wistar | 0.2   |\n",
       "\n"
      ],
      "text/plain": [
       "   Run        BioSample    Developmental_stage          Experiment Sample.Name\n",
       "1  SRR6396793 SAMN08214008 young adult (8-10 weeks)     SRX3489972 GSM2895826 \n",
       "2  SRR6396794 SAMN08214008 young adult (8-10 weeks)     SRX3489972 GSM2895826 \n",
       "3  SRR6396795 SAMN08214100 young adult (8-10 weeks)     SRX3489973 GSM2895827 \n",
       "4  SRR6396796 SAMN08214100 young adult (8-10 weeks)     SRX3489973 GSM2895827 \n",
       "5  SRR6396797 SAMN08214099 aged adult (24 months)       SRX3489974 GSM2895828 \n",
       "6  SRR6396798 SAMN08214098 aged adult (24 months)       SRX3489975 GSM2895829 \n",
       "7  SRR6396799 SAMN08214097 embryonic day 18.5-19        SRX3489976 GSM2895830 \n",
       "8  SRR6396800 SAMN08214097 embryonic day 18.5-19        SRX3489976 GSM2895830 \n",
       "9  SRR6396801 SAMN08214096 embryonic day 18.5-19        SRX3489977 GSM2895831 \n",
       "10 SRR6396802 SAMN08214095 newborn (post-natal day 1-2) SRX3489978 GSM2895832 \n",
       "11 SRR6396803 SAMN08214094 newborn (post-natal day 1-2) SRX3489979 GSM2895833 \n",
       "   strain age_week\n",
       "1  Wistar 9       \n",
       "2  Wistar 9       \n",
       "3  Wistar 9       \n",
       "4  Wistar 9       \n",
       "5  Wistar 104     \n",
       "6  Wistar 104     \n",
       "7  Wistar -0.43   \n",
       "8  Wistar -0.43   \n",
       "9  Wistar -0.43   \n",
       "10 Wistar 0.2     \n",
       "11 Wistar 0.2     "
      ]
     },
     "metadata": {},
     "output_type": "display_data"
    }
   ],
   "source": [
    "\n",
    "# add metadata\n",
    "\n",
    "metadata <- read.csv(\"/bigdata/faustmanlab/bch/gse108348_counts/gse108348meta.txt\")\n",
    "\n",
    "colnames(metadata)\n",
    "\n",
    "metadata<-dplyr::select(metadata,'Run', 'BioSample', 'Developmental_stage', 'Experiment', 'Sample.Name', 'strain')\n",
    "\n",
    "metadatatst <- metadata %>% \n",
    "  mutate(age_week = as.character(c(9,9,9,9,104,104,-.43,-.43,-.43,0.2,0.2)))\n",
    "\n",
    "metadatatst\n",
    "\n"
   ]
  },
  {
   "cell_type": "code",
   "execution_count": 12,
   "metadata": {},
   "outputs": [
    {
     "data": {
      "text/html": [
       "<table class=\"dataframe\">\n",
       "<caption>A data.frame: 6 × 5</caption>\n",
       "<thead>\n",
       "\t<tr><th></th><th scope=col>study</th><th scope=col>sample</th><th scope=col>strain</th><th scope=col>age_week</th><th scope=col>Run</th></tr>\n",
       "\t<tr><th></th><th scope=col>&lt;chr&gt;</th><th scope=col>&lt;chr&gt;</th><th scope=col>&lt;chr&gt;</th><th scope=col>&lt;chr&gt;</th><th scope=col>&lt;chr&gt;</th></tr>\n",
       "</thead>\n",
       "<tbody>\n",
       "\t<tr><th scope=row>1</th><td>gse108348</td><td>GSM2895826</td><td>Wistar</td><td>9  </td><td>SRR6396793</td></tr>\n",
       "\t<tr><th scope=row>2</th><td>gse108348</td><td>GSM2895826</td><td>Wistar</td><td>9  </td><td>SRR6396794</td></tr>\n",
       "\t<tr><th scope=row>3</th><td>gse108348</td><td>GSM2895827</td><td>Wistar</td><td>9  </td><td>SRR6396795</td></tr>\n",
       "\t<tr><th scope=row>4</th><td>gse108348</td><td>GSM2895827</td><td>Wistar</td><td>9  </td><td>SRR6396796</td></tr>\n",
       "\t<tr><th scope=row>5</th><td>gse108348</td><td>GSM2895828</td><td>Wistar</td><td>104</td><td>SRR6396797</td></tr>\n",
       "\t<tr><th scope=row>6</th><td>gse108348</td><td>GSM2895829</td><td>Wistar</td><td>104</td><td>SRR6396798</td></tr>\n",
       "</tbody>\n",
       "</table>\n"
      ],
      "text/latex": [
       "A data.frame: 6 × 5\n",
       "\\begin{tabular}{r|lllll}\n",
       "  & study & sample & strain & age\\_week & Run\\\\\n",
       "  & <chr> & <chr> & <chr> & <chr> & <chr>\\\\\n",
       "\\hline\n",
       "\t1 & gse108348 & GSM2895826 & Wistar & 9   & SRR6396793\\\\\n",
       "\t2 & gse108348 & GSM2895826 & Wistar & 9   & SRR6396794\\\\\n",
       "\t3 & gse108348 & GSM2895827 & Wistar & 9   & SRR6396795\\\\\n",
       "\t4 & gse108348 & GSM2895827 & Wistar & 9   & SRR6396796\\\\\n",
       "\t5 & gse108348 & GSM2895828 & Wistar & 104 & SRR6396797\\\\\n",
       "\t6 & gse108348 & GSM2895829 & Wistar & 104 & SRR6396798\\\\\n",
       "\\end{tabular}\n"
      ],
      "text/markdown": [
       "\n",
       "A data.frame: 6 × 5\n",
       "\n",
       "| <!--/--> | study &lt;chr&gt; | sample &lt;chr&gt; | strain &lt;chr&gt; | age_week &lt;chr&gt; | Run &lt;chr&gt; |\n",
       "|---|---|---|---|---|---|\n",
       "| 1 | gse108348 | GSM2895826 | Wistar | 9   | SRR6396793 |\n",
       "| 2 | gse108348 | GSM2895826 | Wistar | 9   | SRR6396794 |\n",
       "| 3 | gse108348 | GSM2895827 | Wistar | 9   | SRR6396795 |\n",
       "| 4 | gse108348 | GSM2895827 | Wistar | 9   | SRR6396796 |\n",
       "| 5 | gse108348 | GSM2895828 | Wistar | 104 | SRR6396797 |\n",
       "| 6 | gse108348 | GSM2895829 | Wistar | 104 | SRR6396798 |\n",
       "\n"
      ],
      "text/plain": [
       "  study     sample     strain age_week Run       \n",
       "1 gse108348 GSM2895826 Wistar 9        SRR6396793\n",
       "2 gse108348 GSM2895826 Wistar 9        SRR6396794\n",
       "3 gse108348 GSM2895827 Wistar 9        SRR6396795\n",
       "4 gse108348 GSM2895827 Wistar 9        SRR6396796\n",
       "5 gse108348 GSM2895828 Wistar 104      SRR6396797\n",
       "6 gse108348 GSM2895829 Wistar 104      SRR6396798"
      ]
     },
     "metadata": {},
     "output_type": "display_data"
    }
   ],
   "source": [
    "meta_combine_1<-dplyr::select(metadatatst, 'Sample.Name', 'strain', 'age_week','Run')\n",
    "names(meta_combine_1)[1] <- \"sample\"\n",
    "meta_combine_1<- data.frame(append(meta_combine_1, c(study='gse108348'), after=0))\n",
    "\n",
    "head(meta_combine_1)\n"
   ]
  },
  {
   "cell_type": "code",
   "execution_count": 13,
   "metadata": {},
   "outputs": [],
   "source": [
    "write.csv(all_counts, \"/bigdata/faustmanlab/bch/csv_files/gse108348_counts.csv\")\n",
    "\n",
    "write.csv(meta_combine_1, \"/bigdata/faustmanlab/bch/csv_files/gse108348_metadata.csv\")"
   ]
  },
  {
   "cell_type": "code",
   "execution_count": 25,
   "metadata": {},
   "outputs": [
    {
     "name": "stderr",
     "output_type": "stream",
     "text": [
      "Warning message in DESeqDataSet(se, design = design, ignoreRank):\n",
      "“some variables in design formula are characters, converting to factors”\n",
      "  Note: levels of factors in the design contain characters other than\n",
      "  letters, numbers, '_' and '.'. It is recommended (but not required) to use\n",
      "  only letters, numbers, and delimiters '_' or '.', as these are safe characters\n",
      "  for column names in R. [This is a message, not a warning or an error]\n",
      "\n"
     ]
    }
   ],
   "source": [
    "dds <- DESeqDataSetFromMatrix(countData=counts108348,\n",
    "                                colData = metadatatst,\n",
    "                                 design = ~age_week)\n",
    "\n"
   ]
  },
  {
   "cell_type": "code",
   "execution_count": 26,
   "metadata": {},
   "outputs": [
    {
     "data": {
      "text/plain": [
       "class: DESeqDataSet \n",
       "dim: 30560 8 \n",
       "metadata(1): version\n",
       "assays(1): counts\n",
       "rownames(30560): ENSRNOG00000066169 ENSRNOG00000070168 ...\n",
       "  ENSRNOG00000069230 ENSRNOG00000071103\n",
       "rowData names(0):\n",
       "colnames(8): GSM2895826 GSM2895827 ... GSM2895832 GSM2895833\n",
       "colData names(8): Run BioSample ... age_week runsCollapsed"
      ]
     },
     "metadata": {},
     "output_type": "display_data"
    }
   ],
   "source": [
    "dds <- collapseReplicates(dds, groupby= dds$Sample.Name, dds$Run)\n",
    "\n",
    "dds"
   ]
  },
  {
   "cell_type": "code",
   "execution_count": 27,
   "metadata": {},
   "outputs": [
    {
     "name": "stderr",
     "output_type": "stream",
     "text": [
      "estimating size factors\n",
      "\n",
      "  Note: levels of factors in the design contain characters other than\n",
      "  letters, numbers, '_' and '.'. It is recommended (but not required) to use\n",
      "  only letters, numbers, and delimiters '_' or '.', as these are safe characters\n",
      "  for column names in R. [This is a message, not a warning or an error]\n",
      "\n",
      "estimating dispersions\n",
      "\n",
      "gene-wise dispersion estimates\n",
      "\n",
      "mean-dispersion relationship\n",
      "\n",
      "  Note: levels of factors in the design contain characters other than\n",
      "  letters, numbers, '_' and '.'. It is recommended (but not required) to use\n",
      "  only letters, numbers, and delimiters '_' or '.', as these are safe characters\n",
      "  for column names in R. [This is a message, not a warning or an error]\n",
      "\n",
      "final dispersion estimates\n",
      "\n",
      "  Note: levels of factors in the design contain characters other than\n",
      "  letters, numbers, '_' and '.'. It is recommended (but not required) to use\n",
      "  only letters, numbers, and delimiters '_' or '.', as these are safe characters\n",
      "  for column names in R. [This is a message, not a warning or an error]\n",
      "\n",
      "fitting model and testing\n",
      "\n"
     ]
    }
   ],
   "source": [
    "dds <- DESeq(dds)\n",
    "\n"
   ]
  },
  {
   "cell_type": "code",
   "execution_count": 28,
   "metadata": {},
   "outputs": [
    {
     "data": {
      "text/plain": [
       "log2 fold change (MLE): age week 9 vs .0.43 \n",
       "Wald test p-value: age week 9 vs .0.43 \n",
       "DataFrame with 6 rows and 6 columns\n",
       "                    baseMean log2FoldChange     lfcSE       stat      pvalue\n",
       "                   <numeric>      <numeric> <numeric>  <numeric>   <numeric>\n",
       "ENSRNOG00000066169   6.25275       -1.32135  1.619995  -0.815648 4.14701e-01\n",
       "ENSRNOG00000070168   0.00000             NA        NA         NA          NA\n",
       "ENSRNOG00000070901 744.16711       -2.70924  0.201029 -13.476873 2.13984e-41\n",
       "ENSRNOG00000018029  12.27126       -1.16542  1.030591  -1.130824 2.58129e-01\n",
       "ENSRNOG00000031391  40.87872        3.75003  0.993222   3.775625 1.59607e-04\n",
       "ENSRNOG00000055342   0.00000             NA        NA         NA          NA\n",
       "                          padj\n",
       "                     <numeric>\n",
       "ENSRNOG00000066169 4.69065e-01\n",
       "ENSRNOG00000070168          NA\n",
       "ENSRNOG00000070901 1.04795e-40\n",
       "ENSRNOG00000018029 3.06977e-01\n",
       "ENSRNOG00000031391 2.65410e-04\n",
       "ENSRNOG00000055342          NA"
      ]
     },
     "metadata": {},
     "output_type": "display_data"
    },
    {
     "name": "stdout",
     "output_type": "stream",
     "text": [
      "\n",
      "out of 25062 with nonzero total read count\n",
      "adjusted p-value < 0.1\n",
      "LFC > 0 (up)       : 8924, 36%\n",
      "LFC < 0 (down)     : 7734, 31%\n",
      "outliers [1]       : 0, 0%\n",
      "low counts [2]     : 3362, 13%\n",
      "(mean count < 1)\n",
      "[1] see 'cooksCutoff' argument of ?results\n",
      "[2] see 'independentFiltering' argument of ?results\n",
      "\n"
     ]
    }
   ],
   "source": [
    "res <- results(dds)\n",
    "head(results(dds))\n",
    "summary(res) "
   ]
  },
  {
   "cell_type": "code",
   "execution_count": 29,
   "metadata": {},
   "outputs": [
    {
     "data": {
      "text/plain": [
       "log2 fold change (MLE): age week 9 vs .0.43 \n",
       "Wald test p-value: age week 9 vs .0.43 \n",
       "DataFrame with 6 rows and 6 columns\n",
       "                    baseMean log2FoldChange     lfcSE       stat      pvalue\n",
       "                   <numeric>      <numeric> <numeric>  <numeric>   <numeric>\n",
       "ENSRNOG00000066169   6.25275       -1.32135  1.619995  -0.815648 4.14701e-01\n",
       "ENSRNOG00000070168   0.00000             NA        NA         NA          NA\n",
       "ENSRNOG00000070901 744.16711       -2.70924  0.201029 -13.476873 2.13984e-41\n",
       "ENSRNOG00000018029  12.27126       -1.16542  1.030591  -1.130824 2.58129e-01\n",
       "ENSRNOG00000031391  40.87872        3.75003  0.993222   3.775625 1.59607e-04\n",
       "ENSRNOG00000055342   0.00000             NA        NA         NA          NA\n",
       "                          padj\n",
       "                     <numeric>\n",
       "ENSRNOG00000066169 4.69065e-01\n",
       "ENSRNOG00000070168          NA\n",
       "ENSRNOG00000070901 1.04795e-40\n",
       "ENSRNOG00000018029 3.06977e-01\n",
       "ENSRNOG00000031391 2.65410e-04\n",
       "ENSRNOG00000055342          NA"
      ]
     },
     "metadata": {},
     "output_type": "display_data"
    }
   ],
   "source": [
    "head(res)"
   ]
  },
  {
   "cell_type": "code",
   "execution_count": 31,
   "metadata": {},
   "outputs": [
    {
     "data": {
      "text/plain": [
       "log2 fold change (MLE): age_week 0.2 vs 9 \n",
       "Wald test p-value: age_week 0.2 vs 9 \n",
       "DataFrame with 6 rows and 6 columns\n",
       "                    baseMean log2FoldChange     lfcSE      stat      pvalue\n",
       "                   <numeric>      <numeric> <numeric> <numeric>   <numeric>\n",
       "ENSRNOG00000066169   6.25275       0.857827  1.627468  0.527093 5.98129e-01\n",
       "ENSRNOG00000070168   0.00000             NA        NA        NA          NA\n",
       "ENSRNOG00000070901 744.16711       3.292091  0.200448 16.423671 1.29491e-60\n",
       "ENSRNOG00000018029  12.27126       2.373897  1.012248  2.345174 1.90182e-02\n",
       "ENSRNOG00000031391  40.87872      -2.945991  0.967115 -3.046163 2.31782e-03\n",
       "ENSRNOG00000055342   0.00000             NA        NA        NA          NA\n",
       "                          padj\n",
       "                     <numeric>\n",
       "ENSRNOG00000066169 6.47319e-01\n",
       "ENSRNOG00000070168          NA\n",
       "ENSRNOG00000070901 8.13064e-60\n",
       "ENSRNOG00000018029 2.69032e-02\n",
       "ENSRNOG00000031391 3.55002e-03\n",
       "ENSRNOG00000055342          NA"
      ]
     },
     "metadata": {},
     "output_type": "display_data"
    }
   ],
   "source": [
    "resAge <- results(dds,\n",
    "                     contrast=c(\"age_week\", \"0.2\", \"9\"))\n",
    "head(resAge)"
   ]
  },
  {
   "cell_type": "code",
   "execution_count": 12,
   "metadata": {},
   "outputs": [
    {
     "data": {
      "image/png": "[encoded data removed]",
      "text/plain": [
       "plot without title"
      ]
     },
     "metadata": {
      "image/png": {
       "height": 420,
       "width": 420
      }
     },
     "output_type": "display_data"
    }
   ],
   "source": [
    "vsdata <- vst(dds, blind=FALSE)\n",
    "plotPCA(vsdata, intgroup=\"Developmental_stage\") "
   ]
  },
  {
   "cell_type": "markdown",
   "metadata": {},
   "source": []
  },
  {
   "cell_type": "markdown",
   "metadata": {},
   "source": [
    "GEO study [GSE53960](https://www.ncbi.nlm.nih.gov/geo/query/acc.cgi?acc=GSE53960)\n",
    "\n",
    "TAR of text files:\n",
    "    * \tSequenced reads were trimmed for adaptor sequence, and masked for low-complexity or low-quality sequence, then mapped to rn4 whole genome using TopHat v2.0.4 with default parameters\n",
    "    * Alignment results were then processed using Cufflinks v2.0.2 for gene and transcript quantification with default parameters. For samples with 2~3 technical replicates, average FPKM (Fragment Per Kilobase per Million mapped reads) values were used.\n",
    "    * Genome_build: rn4\n",
    "\n",
    "\n",
    "**Single -- Read length 50** [see here](https://trace.ncbi.nlm.nih.gov/Traces/sra/?run=SRR1170509)\n",
    "\n",
    "**unstranded reads -- use first column of STAR output** Method: [Illumina Tru-seq](https://www.illumina.com/products/by-type/sequencing-kits/library-prep-kits/truseq-rna-v2.html)\n",
    "\n",
    "\n",
    "\n",
    "\n",
    "\n",
    "\n",
    "\n",
    "SRR reads:\n",
    "        SRR1170487\n",
    "        SRR1170488\n",
    "        SRR1170489\n",
    "        SRR1170490\n",
    "        SRR1170491\n",
    "        SRR1170492\n",
    "        SRR1170493\n",
    "        SRR1170494\n",
    "        SRR1170495\n",
    "        SRR1170496\n",
    "        SRR1170497\n",
    "        SRR1170498\n",
    "        SRR1170499\n",
    "        SRR1170500\n",
    "        SRR1170501\n",
    "        SRR1170502\n",
    "        SRR1170503\n",
    "        SRR1170504\n",
    "        SRR1170505\n",
    "        SRR1170506\n",
    "        SRR1170507\n",
    "        SRR1170508\n",
    "        SRR1170509\n",
    "        SRR1170510\n",
    "        SRR1170511\n",
    "        SRR1170512\n",
    "        SRR1170513\n",
    "        SRR1170514\n",
    "        SRR1170515\n",
    "        SRR1170516\n",
    "        SRR1170517\n",
    "        SRR1170518"
   ]
  },
  {
   "cell_type": "code",
   "execution_count": 13,
   "metadata": {},
   "outputs": [],
   "source": [
    "# load in files from STAR --quantMode genecounts\n",
    "\n",
    "countPATH <- \"/bigdata/faustmanlab/bch/gse53960/counts\"\n",
    "\n",
    "files <- list.files(path=countPATH, pattern=\"*.tab\", full.names=TRUE)\n",
    "names(files) <- lapply(strsplit(files, \"/|_\"), \"[\",7)\n",
    "countslist <- lapply(files, read.delim, sep=\"\\t\", header=FALSE)\n",
    "names(countslist)<- names(files)"
   ]
  },
  {
   "cell_type": "code",
   "execution_count": 14,
   "metadata": {},
   "outputs": [],
   "source": [
    "colnames<- c(\"gene\", \"unstranded_counts\", \"htseq_count_Fstreadalign\",\"htseq_countrev_Sndreadalign\")\n",
    "\n",
    "## select the \"unstranded_counts\" - this is specific to each study and based on the information available in NCBI Geo\n",
    "\n",
    "for (i in seq_along(countslist)){\n",
    "  colnames(countslist[[i]]) <- colnames}\n",
    "\n",
    "counts_temp <- lapply(countslist, function(x) {x <- x %>% select(-c(htseq_countrev_Sndreadalign,htseq_count_Fstreadalign))})\n",
    "counts_use <- lapply(counts_temp, function(x) {x <- x[-c(1:4),]})"
   ]
  },
  {
   "cell_type": "code",
   "execution_count": 15,
   "metadata": {},
   "outputs": [],
   "source": [
    "colnames<- c(\"gene\", \"unstranded_counts\", \"htseq_count_Fstreadalign\",\"htseq_countrev_Sndreadalign\")\n",
    "\n",
    "\n",
    "for (i in seq_along(countslist)){\n",
    "  colnames(countslist[[i]]) <- colnames}\n",
    "\n",
    "counts_temp <- lapply(countslist, function(x) {x <- x %>% select(-c(htseq_count_Fstreadalign,htseq_countrev_Sndreadalign))})\n",
    "counts_use <- lapply(counts_temp, function(x) {x <- x[-c(1:4),]})\n",
    "\n"
   ]
  },
  {
   "cell_type": "code",
   "execution_count": 16,
   "metadata": {},
   "outputs": [
    {
     "data": {
      "text/html": [
       "<table class=\"dataframe\">\n",
       "<caption>A data.frame: 6 × 32</caption>\n",
       "<thead>\n",
       "\t<tr><th></th><th scope=col>SRR1170487</th><th scope=col>SRR1170488</th><th scope=col>SRR1170489</th><th scope=col>SRR1170490</th><th scope=col>SRR1170491</th><th scope=col>SRR1170492</th><th scope=col>SRR1170493</th><th scope=col>SRR1170494</th><th scope=col>SRR1170495</th><th scope=col>SRR1170496</th><th scope=col>⋯</th><th scope=col>SRR1170509</th><th scope=col>SRR1170510</th><th scope=col>SRR1170511</th><th scope=col>SRR1170512</th><th scope=col>SRR1170513</th><th scope=col>SRR1170514</th><th scope=col>SRR1170515</th><th scope=col>SRR1170516</th><th scope=col>SRR1170517</th><th scope=col>SRR1170518</th></tr>\n",
       "\t<tr><th></th><th scope=col>&lt;int&gt;</th><th scope=col>&lt;int&gt;</th><th scope=col>&lt;int&gt;</th><th scope=col>&lt;int&gt;</th><th scope=col>&lt;int&gt;</th><th scope=col>&lt;int&gt;</th><th scope=col>&lt;int&gt;</th><th scope=col>&lt;int&gt;</th><th scope=col>&lt;int&gt;</th><th scope=col>&lt;int&gt;</th><th scope=col>⋯</th><th scope=col>&lt;int&gt;</th><th scope=col>&lt;int&gt;</th><th scope=col>&lt;int&gt;</th><th scope=col>&lt;int&gt;</th><th scope=col>&lt;int&gt;</th><th scope=col>&lt;int&gt;</th><th scope=col>&lt;int&gt;</th><th scope=col>&lt;int&gt;</th><th scope=col>&lt;int&gt;</th><th scope=col>&lt;int&gt;</th></tr>\n",
       "</thead>\n",
       "<tbody>\n",
       "\t<tr><th scope=row>ENSRNOG00000066169</th><td>  3</td><td>  4</td><td>  1</td><td>  1</td><td>  0</td><td>  2</td><td>  2</td><td>  1</td><td> 0</td><td> 0</td><td>⋯</td><td> 1</td><td> 3</td><td> 13</td><td> 10</td><td>  6</td><td>  5</td><td>  4</td><td>  1</td><td>  1</td><td>  8</td></tr>\n",
       "\t<tr><th scope=row>ENSRNOG00000070168</th><td>  0</td><td>  0</td><td>  0</td><td>  0</td><td>  0</td><td>  0</td><td>  0</td><td>  0</td><td> 0</td><td> 0</td><td>⋯</td><td> 0</td><td> 0</td><td>  0</td><td>  0</td><td>  0</td><td>  0</td><td>  0</td><td>  0</td><td>  0</td><td>  0</td></tr>\n",
       "\t<tr><th scope=row>ENSRNOG00000070901</th><td>190</td><td>158</td><td>254</td><td>230</td><td>280</td><td>258</td><td>203</td><td>139</td><td>22</td><td>24</td><td>⋯</td><td>31</td><td>33</td><td>161</td><td>174</td><td>132</td><td>164</td><td>213</td><td>224</td><td>211</td><td>232</td></tr>\n",
       "\t<tr><th scope=row>ENSRNOG00000018029</th><td> 25</td><td> 18</td><td> 21</td><td> 23</td><td> 26</td><td> 29</td><td> 28</td><td> 19</td><td> 2</td><td> 4</td><td>⋯</td><td> 8</td><td> 7</td><td>  7</td><td> 19</td><td> 18</td><td> 11</td><td>  7</td><td>  7</td><td> 14</td><td> 17</td></tr>\n",
       "\t<tr><th scope=row>ENSRNOG00000031391</th><td> 81</td><td> 70</td><td>119</td><td>148</td><td>167</td><td>141</td><td>113</td><td> 75</td><td>15</td><td>17</td><td>⋯</td><td>28</td><td>12</td><td>  3</td><td>  5</td><td>  7</td><td>  3</td><td>  1</td><td>  0</td><td>  0</td><td>  2</td></tr>\n",
       "\t<tr><th scope=row>ENSRNOG00000055342</th><td>  0</td><td>  0</td><td>  0</td><td>  0</td><td>  0</td><td>  0</td><td>  0</td><td>  0</td><td> 0</td><td> 0</td><td>⋯</td><td> 0</td><td> 0</td><td>  0</td><td>  0</td><td>  0</td><td>  0</td><td>  0</td><td>  0</td><td>  0</td><td>  0</td></tr>\n",
       "</tbody>\n",
       "</table>\n"
      ],
      "text/latex": [
       "A data.frame: 6 × 32\n",
       "\\begin{tabular}{r|lllllllllllllllllllll}\n",
       "  & SRR1170487 & SRR1170488 & SRR1170489 & SRR1170490 & SRR1170491 & SRR1170492 & SRR1170493 & SRR1170494 & SRR1170495 & SRR1170496 & ⋯ & SRR1170509 & SRR1170510 & SRR1170511 & SRR1170512 & SRR1170513 & SRR1170514 & SRR1170515 & SRR1170516 & SRR1170517 & SRR1170518\\\\\n",
       "  & <int> & <int> & <int> & <int> & <int> & <int> & <int> & <int> & <int> & <int> & ⋯ & <int> & <int> & <int> & <int> & <int> & <int> & <int> & <int> & <int> & <int>\\\\\n",
       "\\hline\n",
       "\tENSRNOG00000066169 &   3 &   4 &   1 &   1 &   0 &   2 &   2 &   1 &  0 &  0 & ⋯ &  1 &  3 &  13 &  10 &   6 &   5 &   4 &   1 &   1 &   8\\\\\n",
       "\tENSRNOG00000070168 &   0 &   0 &   0 &   0 &   0 &   0 &   0 &   0 &  0 &  0 & ⋯ &  0 &  0 &   0 &   0 &   0 &   0 &   0 &   0 &   0 &   0\\\\\n",
       "\tENSRNOG00000070901 & 190 & 158 & 254 & 230 & 280 & 258 & 203 & 139 & 22 & 24 & ⋯ & 31 & 33 & 161 & 174 & 132 & 164 & 213 & 224 & 211 & 232\\\\\n",
       "\tENSRNOG00000018029 &  25 &  18 &  21 &  23 &  26 &  29 &  28 &  19 &  2 &  4 & ⋯ &  8 &  7 &   7 &  19 &  18 &  11 &   7 &   7 &  14 &  17\\\\\n",
       "\tENSRNOG00000031391 &  81 &  70 & 119 & 148 & 167 & 141 & 113 &  75 & 15 & 17 & ⋯ & 28 & 12 &   3 &   5 &   7 &   3 &   1 &   0 &   0 &   2\\\\\n",
       "\tENSRNOG00000055342 &   0 &   0 &   0 &   0 &   0 &   0 &   0 &   0 &  0 &  0 & ⋯ &  0 &  0 &   0 &   0 &   0 &   0 &   0 &   0 &   0 &   0\\\\\n",
       "\\end{tabular}\n"
      ],
      "text/markdown": [
       "\n",
       "A data.frame: 6 × 32\n",
       "\n",
       "| <!--/--> | SRR1170487 &lt;int&gt; | SRR1170488 &lt;int&gt; | SRR1170489 &lt;int&gt; | SRR1170490 &lt;int&gt; | SRR1170491 &lt;int&gt; | SRR1170492 &lt;int&gt; | SRR1170493 &lt;int&gt; | SRR1170494 &lt;int&gt; | SRR1170495 &lt;int&gt; | SRR1170496 &lt;int&gt; | ⋯ ⋯ | SRR1170509 &lt;int&gt; | SRR1170510 &lt;int&gt; | SRR1170511 &lt;int&gt; | SRR1170512 &lt;int&gt; | SRR1170513 &lt;int&gt; | SRR1170514 &lt;int&gt; | SRR1170515 &lt;int&gt; | SRR1170516 &lt;int&gt; | SRR1170517 &lt;int&gt; | SRR1170518 &lt;int&gt; |\n",
       "|---|---|---|---|---|---|---|---|---|---|---|---|---|---|---|---|---|---|---|---|---|---|\n",
       "| ENSRNOG00000066169 |   3 |   4 |   1 |   1 |   0 |   2 |   2 |   1 |  0 |  0 | ⋯ |  1 |  3 |  13 |  10 |   6 |   5 |   4 |   1 |   1 |   8 |\n",
       "| ENSRNOG00000070168 |   0 |   0 |   0 |   0 |   0 |   0 |   0 |   0 |  0 |  0 | ⋯ |  0 |  0 |   0 |   0 |   0 |   0 |   0 |   0 |   0 |   0 |\n",
       "| ENSRNOG00000070901 | 190 | 158 | 254 | 230 | 280 | 258 | 203 | 139 | 22 | 24 | ⋯ | 31 | 33 | 161 | 174 | 132 | 164 | 213 | 224 | 211 | 232 |\n",
       "| ENSRNOG00000018029 |  25 |  18 |  21 |  23 |  26 |  29 |  28 |  19 |  2 |  4 | ⋯ |  8 |  7 |   7 |  19 |  18 |  11 |   7 |   7 |  14 |  17 |\n",
       "| ENSRNOG00000031391 |  81 |  70 | 119 | 148 | 167 | 141 | 113 |  75 | 15 | 17 | ⋯ | 28 | 12 |   3 |   5 |   7 |   3 |   1 |   0 |   0 |   2 |\n",
       "| ENSRNOG00000055342 |   0 |   0 |   0 |   0 |   0 |   0 |   0 |   0 |  0 |  0 | ⋯ |  0 |  0 |   0 |   0 |   0 |   0 |   0 |   0 |   0 |   0 |\n",
       "\n"
      ],
      "text/plain": [
       "                   SRR1170487 SRR1170488 SRR1170489 SRR1170490 SRR1170491\n",
       "ENSRNOG00000066169   3          4          1          1          0       \n",
       "ENSRNOG00000070168   0          0          0          0          0       \n",
       "ENSRNOG00000070901 190        158        254        230        280       \n",
       "ENSRNOG00000018029  25         18         21         23         26       \n",
       "ENSRNOG00000031391  81         70        119        148        167       \n",
       "ENSRNOG00000055342   0          0          0          0          0       \n",
       "                   SRR1170492 SRR1170493 SRR1170494 SRR1170495 SRR1170496 ⋯\n",
       "ENSRNOG00000066169   2          2          1         0          0         ⋯\n",
       "ENSRNOG00000070168   0          0          0         0          0         ⋯\n",
       "ENSRNOG00000070901 258        203        139        22         24         ⋯\n",
       "ENSRNOG00000018029  29         28         19         2          4         ⋯\n",
       "ENSRNOG00000031391 141        113         75        15         17         ⋯\n",
       "ENSRNOG00000055342   0          0          0         0          0         ⋯\n",
       "                   SRR1170509 SRR1170510 SRR1170511 SRR1170512 SRR1170513\n",
       "ENSRNOG00000066169  1          3          13         10          6       \n",
       "ENSRNOG00000070168  0          0           0          0          0       \n",
       "ENSRNOG00000070901 31         33         161        174        132       \n",
       "ENSRNOG00000018029  8          7           7         19         18       \n",
       "ENSRNOG00000031391 28         12           3          5          7       \n",
       "ENSRNOG00000055342  0          0           0          0          0       \n",
       "                   SRR1170514 SRR1170515 SRR1170516 SRR1170517 SRR1170518\n",
       "ENSRNOG00000066169   5          4          1          1          8       \n",
       "ENSRNOG00000070168   0          0          0          0          0       \n",
       "ENSRNOG00000070901 164        213        224        211        232       \n",
       "ENSRNOG00000018029  11          7          7         14         17       \n",
       "ENSRNOG00000031391   3          1          0          0          2       \n",
       "ENSRNOG00000055342   0          0          0          0          0       "
      ]
     },
     "metadata": {},
     "output_type": "display_data"
    }
   ],
   "source": [
    "\n",
    "all_counts <- reduce(counts_use, full_join, by = \"gene\")\n",
    "colnames(all_counts)<-c(\"gene\", names(counts_use))\n",
    "\n",
    "rownames(all_counts)<- all_counts$gene\n",
    "all_counts <- all_counts[,-1]\n",
    "\n",
    "\n",
    "\n",
    "head(all_counts)\n",
    "\n",
    "counts53960 = all_counts\n",
    "\n"
   ]
  },
  {
   "cell_type": "code",
   "execution_count": 17,
   "metadata": {},
   "outputs": [
    {
     "data": {
      "text/html": [
       "<style>\n",
       ".list-inline {list-style: none; margin:0; padding: 0}\n",
       ".list-inline>li {display: inline-block}\n",
       ".list-inline>li:not(:last-child)::after {content: \"\\00b7\"; padding: 0 .5ex}\n",
       "</style>\n",
       "<ol class=list-inline><li>'Run'</li><li>'Assay.Type'</li><li>'AvgSpotLen'</li><li>'Bases'</li><li>'BioProject'</li><li>'BioSample'</li><li>'Bytes'</li><li>'Center.Name'</li><li>'Consent'</li><li>'DATASTORE.filetype'</li><li>'DATASTORE.provider'</li><li>'DATASTORE.region'</li><li>'Experiment'</li><li>'GEO_Accession..exp.'</li><li>'Instrument'</li><li>'LibraryLayout'</li><li>'LibrarySelection'</li><li>'LibrarySource'</li><li>'Organism'</li><li>'Platform'</li><li>'ReleaseDate'</li><li>'Sample.Name'</li><li>'sex'</li><li>'source_name'</li><li>'SRA.Study'</li><li>'strain'</li><li>'tissue'</li></ol>\n"
      ],
      "text/latex": [
       "\\begin{enumerate*}\n",
       "\\item 'Run'\n",
       "\\item 'Assay.Type'\n",
       "\\item 'AvgSpotLen'\n",
       "\\item 'Bases'\n",
       "\\item 'BioProject'\n",
       "\\item 'BioSample'\n",
       "\\item 'Bytes'\n",
       "\\item 'Center.Name'\n",
       "\\item 'Consent'\n",
       "\\item 'DATASTORE.filetype'\n",
       "\\item 'DATASTORE.provider'\n",
       "\\item 'DATASTORE.region'\n",
       "\\item 'Experiment'\n",
       "\\item 'GEO\\_Accession..exp.'\n",
       "\\item 'Instrument'\n",
       "\\item 'LibraryLayout'\n",
       "\\item 'LibrarySelection'\n",
       "\\item 'LibrarySource'\n",
       "\\item 'Organism'\n",
       "\\item 'Platform'\n",
       "\\item 'ReleaseDate'\n",
       "\\item 'Sample.Name'\n",
       "\\item 'sex'\n",
       "\\item 'source\\_name'\n",
       "\\item 'SRA.Study'\n",
       "\\item 'strain'\n",
       "\\item 'tissue'\n",
       "\\end{enumerate*}\n"
      ],
      "text/markdown": [
       "1. 'Run'\n",
       "2. 'Assay.Type'\n",
       "3. 'AvgSpotLen'\n",
       "4. 'Bases'\n",
       "5. 'BioProject'\n",
       "6. 'BioSample'\n",
       "7. 'Bytes'\n",
       "8. 'Center.Name'\n",
       "9. 'Consent'\n",
       "10. 'DATASTORE.filetype'\n",
       "11. 'DATASTORE.provider'\n",
       "12. 'DATASTORE.region'\n",
       "13. 'Experiment'\n",
       "14. 'GEO_Accession..exp.'\n",
       "15. 'Instrument'\n",
       "16. 'LibraryLayout'\n",
       "17. 'LibrarySelection'\n",
       "18. 'LibrarySource'\n",
       "19. 'Organism'\n",
       "20. 'Platform'\n",
       "21. 'ReleaseDate'\n",
       "22. 'Sample.Name'\n",
       "23. 'sex'\n",
       "24. 'source_name'\n",
       "25. 'SRA.Study'\n",
       "26. 'strain'\n",
       "27. 'tissue'\n",
       "\n",
       "\n"
      ],
      "text/plain": [
       " [1] \"Run\"                 \"Assay.Type\"          \"AvgSpotLen\"         \n",
       " [4] \"Bases\"               \"BioProject\"          \"BioSample\"          \n",
       " [7] \"Bytes\"               \"Center.Name\"         \"Consent\"            \n",
       "[10] \"DATASTORE.filetype\"  \"DATASTORE.provider\"  \"DATASTORE.region\"   \n",
       "[13] \"Experiment\"          \"GEO_Accession..exp.\" \"Instrument\"         \n",
       "[16] \"LibraryLayout\"       \"LibrarySelection\"    \"LibrarySource\"      \n",
       "[19] \"Organism\"            \"Platform\"            \"ReleaseDate\"        \n",
       "[22] \"Sample.Name\"         \"sex\"                 \"source_name\"        \n",
       "[25] \"SRA.Study\"           \"strain\"              \"tissue\"             "
      ]
     },
     "metadata": {},
     "output_type": "display_data"
    }
   ],
   "source": [
    "# add metadata\n",
    "\n",
    "metadata <- read.csv(\"/bigdata/faustmanlab/bch/gse53960/gse53960_metadata.txt\")\n",
    "\n",
    "colnames(metadata)\n",
    "\n",
    "metadata<-select(metadata,'Run', 'BioSample', 'Experiment', 'Sample.Name', 'source_name', 'strain')\n",
    "\n"
   ]
  },
  {
   "cell_type": "code",
   "execution_count": 18,
   "metadata": {},
   "outputs": [],
   "source": [
    "gse=getGEO(filename=\"/bigdata/faustmanlab/bch/gse53960/GSE53960_series_matrix.txt\", getGPL = FALSE)\n"
   ]
  },
  {
   "cell_type": "code",
   "execution_count": 19,
   "metadata": {},
   "outputs": [
    {
     "data": {
      "text/html": [
       "<table class=\"dataframe\">\n",
       "<caption>A data.frame: 6 × 2</caption>\n",
       "<thead>\n",
       "\t<tr><th></th><th scope=col>Sample.Name</th><th scope=col>age_week</th></tr>\n",
       "\t<tr><th></th><th scope=col>&lt;chr&gt;</th><th scope=col>&lt;chr&gt;</th></tr>\n",
       "</thead>\n",
       "<tbody>\n",
       "\t<tr><th scope=row>1</th><td>GSM1328469</td><td>2</td></tr>\n",
       "\t<tr><th scope=row>2</th><td>GSM1328470</td><td>2</td></tr>\n",
       "\t<tr><th scope=row>3</th><td>GSM1328471</td><td>2</td></tr>\n",
       "\t<tr><th scope=row>4</th><td>GSM1328472</td><td>2</td></tr>\n",
       "\t<tr><th scope=row>5</th><td>GSM1328473</td><td>6</td></tr>\n",
       "\t<tr><th scope=row>6</th><td>GSM1328474</td><td>6</td></tr>\n",
       "</tbody>\n",
       "</table>\n"
      ],
      "text/latex": [
       "A data.frame: 6 × 2\n",
       "\\begin{tabular}{r|ll}\n",
       "  & Sample.Name & age\\_week\\\\\n",
       "  & <chr> & <chr>\\\\\n",
       "\\hline\n",
       "\t1 & GSM1328469 & 2\\\\\n",
       "\t2 & GSM1328470 & 2\\\\\n",
       "\t3 & GSM1328471 & 2\\\\\n",
       "\t4 & GSM1328472 & 2\\\\\n",
       "\t5 & GSM1328473 & 6\\\\\n",
       "\t6 & GSM1328474 & 6\\\\\n",
       "\\end{tabular}\n"
      ],
      "text/markdown": [
       "\n",
       "A data.frame: 6 × 2\n",
       "\n",
       "| <!--/--> | Sample.Name &lt;chr&gt; | age_week &lt;chr&gt; |\n",
       "|---|---|---|\n",
       "| 1 | GSM1328469 | 2 |\n",
       "| 2 | GSM1328470 | 2 |\n",
       "| 3 | GSM1328471 | 2 |\n",
       "| 4 | GSM1328472 | 2 |\n",
       "| 5 | GSM1328473 | 6 |\n",
       "| 6 | GSM1328474 | 6 |\n",
       "\n"
      ],
      "text/plain": [
       "  Sample.Name age_week\n",
       "1 GSM1328469  2       \n",
       "2 GSM1328470  2       \n",
       "3 GSM1328471  2       \n",
       "4 GSM1328472  2       \n",
       "5 GSM1328473  6       \n",
       "6 GSM1328474  6       "
      ]
     },
     "metadata": {},
     "output_type": "display_data"
    }
   ],
   "source": [
    "\n",
    "# use varData() function to check for available sample details\n",
    "\n",
    "gsemeta = data.frame(\n",
    "    names = sampleNames(gse),\n",
    "    age_week = as.character(gse$'developmental stage (week):ch1'))\n",
    "\n",
    "\n",
    "\n",
    "names(gsemeta)[1] <- \"Sample.Name\"\n",
    "\n",
    "head(gsemeta)\n"
   ]
  },
  {
   "cell_type": "code",
   "execution_count": 20,
   "metadata": {},
   "outputs": [
    {
     "data": {
      "text/html": [
       "<table class=\"dataframe\">\n",
       "<caption>A data.frame: 6 × 7</caption>\n",
       "<thead>\n",
       "\t<tr><th></th><th scope=col>Sample.Name</th><th scope=col>Run</th><th scope=col>BioSample</th><th scope=col>Experiment</th><th scope=col>source_name</th><th scope=col>strain</th><th scope=col>age_week</th></tr>\n",
       "\t<tr><th></th><th scope=col>&lt;chr&gt;</th><th scope=col>&lt;chr&gt;</th><th scope=col>&lt;chr&gt;</th><th scope=col>&lt;chr&gt;</th><th scope=col>&lt;chr&gt;</th><th scope=col>&lt;chr&gt;</th><th scope=col>&lt;chr&gt;</th></tr>\n",
       "</thead>\n",
       "<tbody>\n",
       "\t<tr><th scope=row>1</th><td>GSM1328757</td><td>SRR1170487</td><td>SAMN02642706</td><td>SRX471656</td><td>Testes</td><td>Fisher 344</td><td>2</td></tr>\n",
       "\t<tr><th scope=row>2</th><td>GSM1328757</td><td>SRR1170488</td><td>SAMN02642706</td><td>SRX471656</td><td>Testes</td><td>Fisher 344</td><td>2</td></tr>\n",
       "\t<tr><th scope=row>3</th><td>GSM1328758</td><td>SRR1170489</td><td>SAMN02642705</td><td>SRX471657</td><td>Testes</td><td>Fisher 344</td><td>2</td></tr>\n",
       "\t<tr><th scope=row>4</th><td>GSM1328758</td><td>SRR1170490</td><td>SAMN02642705</td><td>SRX471657</td><td>Testes</td><td>Fisher 344</td><td>2</td></tr>\n",
       "\t<tr><th scope=row>5</th><td>GSM1328759</td><td>SRR1170492</td><td>SAMN02642714</td><td>SRX471658</td><td>Testes</td><td>Fisher 344</td><td>2</td></tr>\n",
       "\t<tr><th scope=row>6</th><td>GSM1328759</td><td>SRR1170491</td><td>SAMN02642714</td><td>SRX471658</td><td>Testes</td><td>Fisher 344</td><td>2</td></tr>\n",
       "</tbody>\n",
       "</table>\n"
      ],
      "text/latex": [
       "A data.frame: 6 × 7\n",
       "\\begin{tabular}{r|lllllll}\n",
       "  & Sample.Name & Run & BioSample & Experiment & source\\_name & strain & age\\_week\\\\\n",
       "  & <chr> & <chr> & <chr> & <chr> & <chr> & <chr> & <chr>\\\\\n",
       "\\hline\n",
       "\t1 & GSM1328757 & SRR1170487 & SAMN02642706 & SRX471656 & Testes & Fisher 344 & 2\\\\\n",
       "\t2 & GSM1328757 & SRR1170488 & SAMN02642706 & SRX471656 & Testes & Fisher 344 & 2\\\\\n",
       "\t3 & GSM1328758 & SRR1170489 & SAMN02642705 & SRX471657 & Testes & Fisher 344 & 2\\\\\n",
       "\t4 & GSM1328758 & SRR1170490 & SAMN02642705 & SRX471657 & Testes & Fisher 344 & 2\\\\\n",
       "\t5 & GSM1328759 & SRR1170492 & SAMN02642714 & SRX471658 & Testes & Fisher 344 & 2\\\\\n",
       "\t6 & GSM1328759 & SRR1170491 & SAMN02642714 & SRX471658 & Testes & Fisher 344 & 2\\\\\n",
       "\\end{tabular}\n"
      ],
      "text/markdown": [
       "\n",
       "A data.frame: 6 × 7\n",
       "\n",
       "| <!--/--> | Sample.Name &lt;chr&gt; | Run &lt;chr&gt; | BioSample &lt;chr&gt; | Experiment &lt;chr&gt; | source_name &lt;chr&gt; | strain &lt;chr&gt; | age_week &lt;chr&gt; |\n",
       "|---|---|---|---|---|---|---|---|\n",
       "| 1 | GSM1328757 | SRR1170487 | SAMN02642706 | SRX471656 | Testes | Fisher 344 | 2 |\n",
       "| 2 | GSM1328757 | SRR1170488 | SAMN02642706 | SRX471656 | Testes | Fisher 344 | 2 |\n",
       "| 3 | GSM1328758 | SRR1170489 | SAMN02642705 | SRX471657 | Testes | Fisher 344 | 2 |\n",
       "| 4 | GSM1328758 | SRR1170490 | SAMN02642705 | SRX471657 | Testes | Fisher 344 | 2 |\n",
       "| 5 | GSM1328759 | SRR1170492 | SAMN02642714 | SRX471658 | Testes | Fisher 344 | 2 |\n",
       "| 6 | GSM1328759 | SRR1170491 | SAMN02642714 | SRX471658 | Testes | Fisher 344 | 2 |\n",
       "\n"
      ],
      "text/plain": [
       "  Sample.Name Run        BioSample    Experiment source_name strain    \n",
       "1 GSM1328757  SRR1170487 SAMN02642706 SRX471656  Testes      Fisher 344\n",
       "2 GSM1328757  SRR1170488 SAMN02642706 SRX471656  Testes      Fisher 344\n",
       "3 GSM1328758  SRR1170489 SAMN02642705 SRX471657  Testes      Fisher 344\n",
       "4 GSM1328758  SRR1170490 SAMN02642705 SRX471657  Testes      Fisher 344\n",
       "5 GSM1328759  SRR1170492 SAMN02642714 SRX471658  Testes      Fisher 344\n",
       "6 GSM1328759  SRR1170491 SAMN02642714 SRX471658  Testes      Fisher 344\n",
       "  age_week\n",
       "1 2       \n",
       "2 2       \n",
       "3 2       \n",
       "4 2       \n",
       "5 2       \n",
       "6 2       "
      ]
     },
     "metadata": {},
     "output_type": "display_data"
    }
   ],
   "source": [
    "all_meta = merge(x=metadata,y=gsemeta,by=\"Sample.Name\")\n",
    "\n",
    "head(all_meta)"
   ]
  },
  {
   "cell_type": "code",
   "execution_count": 21,
   "metadata": {},
   "outputs": [
    {
     "data": {
      "text/html": [
       "<table class=\"dataframe\">\n",
       "<caption>A data.frame: 6 × 5</caption>\n",
       "<thead>\n",
       "\t<tr><th></th><th scope=col>study</th><th scope=col>sample</th><th scope=col>strain</th><th scope=col>age_week</th><th scope=col>Run</th></tr>\n",
       "\t<tr><th></th><th scope=col>&lt;chr&gt;</th><th scope=col>&lt;chr&gt;</th><th scope=col>&lt;chr&gt;</th><th scope=col>&lt;chr&gt;</th><th scope=col>&lt;chr&gt;</th></tr>\n",
       "</thead>\n",
       "<tbody>\n",
       "\t<tr><th scope=row>1</th><td>gse53960</td><td>GSM1328757</td><td>Fisher 344</td><td>2</td><td>SRR1170487</td></tr>\n",
       "\t<tr><th scope=row>2</th><td>gse53960</td><td>GSM1328757</td><td>Fisher 344</td><td>2</td><td>SRR1170488</td></tr>\n",
       "\t<tr><th scope=row>3</th><td>gse53960</td><td>GSM1328758</td><td>Fisher 344</td><td>2</td><td>SRR1170489</td></tr>\n",
       "\t<tr><th scope=row>4</th><td>gse53960</td><td>GSM1328758</td><td>Fisher 344</td><td>2</td><td>SRR1170490</td></tr>\n",
       "\t<tr><th scope=row>5</th><td>gse53960</td><td>GSM1328759</td><td>Fisher 344</td><td>2</td><td>SRR1170492</td></tr>\n",
       "\t<tr><th scope=row>6</th><td>gse53960</td><td>GSM1328759</td><td>Fisher 344</td><td>2</td><td>SRR1170491</td></tr>\n",
       "</tbody>\n",
       "</table>\n"
      ],
      "text/latex": [
       "A data.frame: 6 × 5\n",
       "\\begin{tabular}{r|lllll}\n",
       "  & study & sample & strain & age\\_week & Run\\\\\n",
       "  & <chr> & <chr> & <chr> & <chr> & <chr>\\\\\n",
       "\\hline\n",
       "\t1 & gse53960 & GSM1328757 & Fisher 344 & 2 & SRR1170487\\\\\n",
       "\t2 & gse53960 & GSM1328757 & Fisher 344 & 2 & SRR1170488\\\\\n",
       "\t3 & gse53960 & GSM1328758 & Fisher 344 & 2 & SRR1170489\\\\\n",
       "\t4 & gse53960 & GSM1328758 & Fisher 344 & 2 & SRR1170490\\\\\n",
       "\t5 & gse53960 & GSM1328759 & Fisher 344 & 2 & SRR1170492\\\\\n",
       "\t6 & gse53960 & GSM1328759 & Fisher 344 & 2 & SRR1170491\\\\\n",
       "\\end{tabular}\n"
      ],
      "text/markdown": [
       "\n",
       "A data.frame: 6 × 5\n",
       "\n",
       "| <!--/--> | study &lt;chr&gt; | sample &lt;chr&gt; | strain &lt;chr&gt; | age_week &lt;chr&gt; | Run &lt;chr&gt; |\n",
       "|---|---|---|---|---|---|\n",
       "| 1 | gse53960 | GSM1328757 | Fisher 344 | 2 | SRR1170487 |\n",
       "| 2 | gse53960 | GSM1328757 | Fisher 344 | 2 | SRR1170488 |\n",
       "| 3 | gse53960 | GSM1328758 | Fisher 344 | 2 | SRR1170489 |\n",
       "| 4 | gse53960 | GSM1328758 | Fisher 344 | 2 | SRR1170490 |\n",
       "| 5 | gse53960 | GSM1328759 | Fisher 344 | 2 | SRR1170492 |\n",
       "| 6 | gse53960 | GSM1328759 | Fisher 344 | 2 | SRR1170491 |\n",
       "\n"
      ],
      "text/plain": [
       "  study    sample     strain     age_week Run       \n",
       "1 gse53960 GSM1328757 Fisher 344 2        SRR1170487\n",
       "2 gse53960 GSM1328757 Fisher 344 2        SRR1170488\n",
       "3 gse53960 GSM1328758 Fisher 344 2        SRR1170489\n",
       "4 gse53960 GSM1328758 Fisher 344 2        SRR1170490\n",
       "5 gse53960 GSM1328759 Fisher 344 2        SRR1170492\n",
       "6 gse53960 GSM1328759 Fisher 344 2        SRR1170491"
      ]
     },
     "metadata": {},
     "output_type": "display_data"
    }
   ],
   "source": [
    "meta_combine_2<-select(all_meta, 'Sample.Name', 'strain', 'age_week','Run')\n",
    "names(meta_combine_2)[1] <- \"sample\"\n",
    "meta_combine_2 <- data.frame(append(meta_combine_2, c(study='gse53960'), after=0))\n",
    "\n",
    "head(meta_combine_2)\n"
   ]
  },
  {
   "cell_type": "code",
   "execution_count": 22,
   "metadata": {},
   "outputs": [],
   "source": [
    "write.csv(counts53960, \"/bigdata/faustmanlab/bch/csv_files/gse53960_counts.csv\")\n",
    "\n",
    "write.csv(meta_combine_2, \"/bigdata/faustmanlab/bch/csv_files/gse53960_metadata.csv\")"
   ]
  },
  {
   "cell_type": "markdown",
   "metadata": {},
   "source": [
    "GEO study [GSE162152](https://www.ncbi.nlm.nih.gov/geo/query/acc.cgi?acc=GSE162152)\n",
    "\n",
    "txt files specific to circRNAs -- need raw data from SRA\n",
    "\n",
    "SRA files:\n",
    "        SRR13142136\n",
    "        SRR13142137\n",
    "        SRR13142138"
   ]
  },
  {
   "cell_type": "markdown",
   "metadata": {},
   "source": [
    "GEO study [GSE85420](https://www.ncbi.nlm.nih.gov/geo/query/acc.cgi?acc=GSE85420)\n",
    "\n",
    "txt files with processed data:\n",
    "    * mapped to the reference rat genome (rn5) using TopHat 2 aligner\n",
    "    * Aligned reads were used for assembly of novel transcripts and differential expression of novel and reference transcripts with Cuffdiff 2.1.1.\n",
    "    * Supplementary_files_format_and_content: XLSX file showing Log2(FPKM) for control and exposed condition and Log2 of their FPKM ratio for each transcript, as well as transcript coordinates and gene names.\n",
    "\n",
    "\n",
    "**Single - Read length 75** [see here](https://trace.ncbi.nlm.nih.gov/Traces/sra/?run=SRR4017427)\n",
    "\n",
    "\n",
    "SRA files:\n",
    "        SRR4017429\n",
    "        SRR4017448\n",
    "        SRR4017447\n",
    "        SRR4017446\n",
    "        SRR4017445\n",
    "        SRR4017431\n",
    "        SRR4017432\n",
    "        SRR4017433\n",
    "        SRR4017434\n",
    "        SRR4017435\n",
    "        SRR4017436\n",
    "        SRR4017437\n",
    "        SRR4017438\n",
    "        SRR4017439\n",
    "        SRR4017440\n",
    "        SRR4017441\n",
    "        SRR4017442\n",
    "        SRR4017443\n",
    "        SRR4017444"
   ]
  },
  {
   "cell_type": "code",
   "execution_count": 23,
   "metadata": {},
   "outputs": [],
   "source": [
    "# load in files from STAR --quantMode genecounts\n",
    "\n",
    "countPATH <- \"/bigdata/faustmanlab/bch/gse85420/counts\"\n",
    "\n",
    "files <- list.files(path=countPATH, pattern=\"*.tab\", full.names=TRUE)\n",
    "names(files) <- lapply(strsplit(files, \"/|_\"), \"[\",7)\n",
    "countslist <- lapply(files, read.delim, sep=\"\\t\", header=FALSE)\n",
    "names(countslist)<- names(files)"
   ]
  },
  {
   "cell_type": "code",
   "execution_count": 24,
   "metadata": {},
   "outputs": [
    {
     "data": {
      "text/html": [
       "<table class=\"dataframe\">\n",
       "<caption>A data.frame: 30564 × 4</caption>\n",
       "<thead>\n",
       "\t<tr><th scope=col>V1</th><th scope=col>V2</th><th scope=col>V3</th><th scope=col>V4</th></tr>\n",
       "\t<tr><th scope=col>&lt;chr&gt;</th><th scope=col>&lt;int&gt;</th><th scope=col>&lt;int&gt;</th><th scope=col>&lt;int&gt;</th></tr>\n",
       "</thead>\n",
       "<tbody>\n",
       "\t<tr><td>N_unmapped        </td><td> 193863</td><td> 193863</td><td> 193863</td></tr>\n",
       "\t<tr><td>N_multimapping    </td><td> 372450</td><td> 372450</td><td> 372450</td></tr>\n",
       "\t<tr><td>N_noFeature       </td><td>1296643</td><td>6754999</td><td>1369846</td></tr>\n",
       "\t<tr><td>N_ambiguous       </td><td> 155544</td><td>   1489</td><td>  68782</td></tr>\n",
       "\t<tr><td>ENSRNOG00000066169</td><td>      0</td><td>      0</td><td>      0</td></tr>\n",
       "\t<tr><td>ENSRNOG00000070168</td><td>      0</td><td>      0</td><td>      0</td></tr>\n",
       "\t<tr><td>ENSRNOG00000070901</td><td>     12</td><td>      0</td><td>     12</td></tr>\n",
       "\t<tr><td>ENSRNOG00000018029</td><td>      1</td><td>      0</td><td>      1</td></tr>\n",
       "\t<tr><td>ENSRNOG00000031391</td><td>      7</td><td>      0</td><td>      7</td></tr>\n",
       "\t<tr><td>ENSRNOG00000055342</td><td>      0</td><td>      0</td><td>      0</td></tr>\n",
       "\t<tr><td>ENSRNOG00000068698</td><td>      3</td><td>      0</td><td>      3</td></tr>\n",
       "\t<tr><td>ENSRNOG00000067904</td><td>      0</td><td>      0</td><td>      0</td></tr>\n",
       "\t<tr><td>ENSRNOG00000063979</td><td>      0</td><td>      0</td><td>      0</td></tr>\n",
       "\t<tr><td>ENSRNOG00000064851</td><td>      3</td><td>      2</td><td>      1</td></tr>\n",
       "\t<tr><td>ENSRNOG00000063562</td><td>     11</td><td>      0</td><td>     11</td></tr>\n",
       "\t<tr><td>ENSRNOG00000050129</td><td>      0</td><td>      0</td><td>      0</td></tr>\n",
       "\t<tr><td>ENSRNOG00000056886</td><td>      0</td><td>      0</td><td>      0</td></tr>\n",
       "\t<tr><td>ENSRNOG00000032625</td><td>     47</td><td>      0</td><td>     47</td></tr>\n",
       "\t<tr><td>ENSRNOG00000029315</td><td>      0</td><td>      0</td><td>      0</td></tr>\n",
       "\t<tr><td>ENSRNOG00000016356</td><td>    419</td><td>      6</td><td>    413</td></tr>\n",
       "\t<tr><td>ENSRNOG00000028288</td><td>      0</td><td>      0</td><td>      0</td></tr>\n",
       "\t<tr><td>ENSRNOG00000015810</td><td>     29</td><td>      1</td><td>     28</td></tr>\n",
       "\t<tr><td>ENSRNOG00000017538</td><td>   3243</td><td>      3</td><td>   3240</td></tr>\n",
       "\t<tr><td>ENSRNOG00000027204</td><td>     26</td><td>      1</td><td>     25</td></tr>\n",
       "\t<tr><td>ENSRNOG00000058651</td><td>      0</td><td>      0</td><td>      0</td></tr>\n",
       "\t<tr><td>ENSRNOG00000070886</td><td>      0</td><td>     15</td><td>      0</td></tr>\n",
       "\t<tr><td>ENSRNOG00000056005</td><td>      0</td><td>      0</td><td>      0</td></tr>\n",
       "\t<tr><td>ENSRNOG00000035453</td><td>      2</td><td>      0</td><td>      2</td></tr>\n",
       "\t<tr><td>ENSRNOG00000063396</td><td>      0</td><td>      0</td><td>      0</td></tr>\n",
       "\t<tr><td>ENSRNOG00000068709</td><td>      0</td><td>     20</td><td>      0</td></tr>\n",
       "\t<tr><td>⋮</td><td>⋮</td><td>⋮</td><td>⋮</td></tr>\n",
       "\t<tr><td>ENSRNOG00000066592</td><td>  0</td><td>  0</td><td>  0</td></tr>\n",
       "\t<tr><td>ENSRNOG00000065193</td><td>  0</td><td>  0</td><td>  0</td></tr>\n",
       "\t<tr><td>ENSRNOG00000069132</td><td>  0</td><td>  0</td><td>  0</td></tr>\n",
       "\t<tr><td>ENSRNOG00000070299</td><td>  0</td><td>  0</td><td>  0</td></tr>\n",
       "\t<tr><td>ENSRNOG00000068736</td><td>  0</td><td>  0</td><td>  0</td></tr>\n",
       "\t<tr><td>ENSRNOG00000065175</td><td>  0</td><td>  0</td><td>  0</td></tr>\n",
       "\t<tr><td>ENSRNOG00000062672</td><td>  0</td><td>  0</td><td>  0</td></tr>\n",
       "\t<tr><td>ENSRNOG00000062596</td><td>  0</td><td>  0</td><td>  0</td></tr>\n",
       "\t<tr><td>ENSRNOG00000066684</td><td>  0</td><td>  0</td><td>  0</td></tr>\n",
       "\t<tr><td>ENSRNOG00000067500</td><td>  0</td><td>  0</td><td>  0</td></tr>\n",
       "\t<tr><td>ENSRNOG00000067927</td><td>  0</td><td>  0</td><td>  0</td></tr>\n",
       "\t<tr><td>ENSRNOG00000062558</td><td>  1</td><td>  0</td><td>  1</td></tr>\n",
       "\t<tr><td>ENSRNOG00000069483</td><td> 54</td><td>  0</td><td> 54</td></tr>\n",
       "\t<tr><td>ENSRNOG00000062942</td><td>  1</td><td>  0</td><td>  1</td></tr>\n",
       "\t<tr><td>ENSRNOG00000070031</td><td>  3</td><td> 46</td><td>164</td></tr>\n",
       "\t<tr><td>ENSRNOG00000069827</td><td> 24</td><td>  1</td><td> 23</td></tr>\n",
       "\t<tr><td>ENSRNOG00000069226</td><td>228</td><td>218</td><td>217</td></tr>\n",
       "\t<tr><td>ENSRNOG00000068289</td><td> 12</td><td>  0</td><td> 12</td></tr>\n",
       "\t<tr><td>ENSRNOG00000062439</td><td> 64</td><td>  7</td><td> 57</td></tr>\n",
       "\t<tr><td>ENSRNOG00000066356</td><td> 25</td><td>  4</td><td> 21</td></tr>\n",
       "\t<tr><td>ENSRNOG00000068919</td><td>  0</td><td>  0</td><td>  0</td></tr>\n",
       "\t<tr><td>ENSRNOG00000068656</td><td> 16</td><td>  1</td><td> 15</td></tr>\n",
       "\t<tr><td>ENSRNOG00000064259</td><td> 38</td><td>  0</td><td> 38</td></tr>\n",
       "\t<tr><td>ENSRNOG00000065062</td><td>397</td><td>  1</td><td>396</td></tr>\n",
       "\t<tr><td>ENSRNOG00000062442</td><td>124</td><td>  1</td><td>123</td></tr>\n",
       "\t<tr><td>ENSRNOG00000070895</td><td>  0</td><td>  0</td><td>  0</td></tr>\n",
       "\t<tr><td>ENSRNOG00000066963</td><td> 27</td><td>  0</td><td> 27</td></tr>\n",
       "\t<tr><td>ENSRNOG00000065223</td><td>  0</td><td>  0</td><td>  0</td></tr>\n",
       "\t<tr><td>ENSRNOG00000069230</td><td>  9</td><td> 25</td><td> 25</td></tr>\n",
       "\t<tr><td>ENSRNOG00000071103</td><td> 43</td><td> 10</td><td> 59</td></tr>\n",
       "</tbody>\n",
       "</table>\n"
      ],
      "text/latex": [
       "A data.frame: 30564 × 4\n",
       "\\begin{tabular}{llll}\n",
       " V1 & V2 & V3 & V4\\\\\n",
       " <chr> & <int> & <int> & <int>\\\\\n",
       "\\hline\n",
       "\t N\\_unmapped         &  193863 &  193863 &  193863\\\\\n",
       "\t N\\_multimapping     &  372450 &  372450 &  372450\\\\\n",
       "\t N\\_noFeature        & 1296643 & 6754999 & 1369846\\\\\n",
       "\t N\\_ambiguous        &  155544 &    1489 &   68782\\\\\n",
       "\t ENSRNOG00000066169 &       0 &       0 &       0\\\\\n",
       "\t ENSRNOG00000070168 &       0 &       0 &       0\\\\\n",
       "\t ENSRNOG00000070901 &      12 &       0 &      12\\\\\n",
       "\t ENSRNOG00000018029 &       1 &       0 &       1\\\\\n",
       "\t ENSRNOG00000031391 &       7 &       0 &       7\\\\\n",
       "\t ENSRNOG00000055342 &       0 &       0 &       0\\\\\n",
       "\t ENSRNOG00000068698 &       3 &       0 &       3\\\\\n",
       "\t ENSRNOG00000067904 &       0 &       0 &       0\\\\\n",
       "\t ENSRNOG00000063979 &       0 &       0 &       0\\\\\n",
       "\t ENSRNOG00000064851 &       3 &       2 &       1\\\\\n",
       "\t ENSRNOG00000063562 &      11 &       0 &      11\\\\\n",
       "\t ENSRNOG00000050129 &       0 &       0 &       0\\\\\n",
       "\t ENSRNOG00000056886 &       0 &       0 &       0\\\\\n",
       "\t ENSRNOG00000032625 &      47 &       0 &      47\\\\\n",
       "\t ENSRNOG00000029315 &       0 &       0 &       0\\\\\n",
       "\t ENSRNOG00000016356 &     419 &       6 &     413\\\\\n",
       "\t ENSRNOG00000028288 &       0 &       0 &       0\\\\\n",
       "\t ENSRNOG00000015810 &      29 &       1 &      28\\\\\n",
       "\t ENSRNOG00000017538 &    3243 &       3 &    3240\\\\\n",
       "\t ENSRNOG00000027204 &      26 &       1 &      25\\\\\n",
       "\t ENSRNOG00000058651 &       0 &       0 &       0\\\\\n",
       "\t ENSRNOG00000070886 &       0 &      15 &       0\\\\\n",
       "\t ENSRNOG00000056005 &       0 &       0 &       0\\\\\n",
       "\t ENSRNOG00000035453 &       2 &       0 &       2\\\\\n",
       "\t ENSRNOG00000063396 &       0 &       0 &       0\\\\\n",
       "\t ENSRNOG00000068709 &       0 &      20 &       0\\\\\n",
       "\t ⋮ & ⋮ & ⋮ & ⋮\\\\\n",
       "\t ENSRNOG00000066592 &   0 &   0 &   0\\\\\n",
       "\t ENSRNOG00000065193 &   0 &   0 &   0\\\\\n",
       "\t ENSRNOG00000069132 &   0 &   0 &   0\\\\\n",
       "\t ENSRNOG00000070299 &   0 &   0 &   0\\\\\n",
       "\t ENSRNOG00000068736 &   0 &   0 &   0\\\\\n",
       "\t ENSRNOG00000065175 &   0 &   0 &   0\\\\\n",
       "\t ENSRNOG00000062672 &   0 &   0 &   0\\\\\n",
       "\t ENSRNOG00000062596 &   0 &   0 &   0\\\\\n",
       "\t ENSRNOG00000066684 &   0 &   0 &   0\\\\\n",
       "\t ENSRNOG00000067500 &   0 &   0 &   0\\\\\n",
       "\t ENSRNOG00000067927 &   0 &   0 &   0\\\\\n",
       "\t ENSRNOG00000062558 &   1 &   0 &   1\\\\\n",
       "\t ENSRNOG00000069483 &  54 &   0 &  54\\\\\n",
       "\t ENSRNOG00000062942 &   1 &   0 &   1\\\\\n",
       "\t ENSRNOG00000070031 &   3 &  46 & 164\\\\\n",
       "\t ENSRNOG00000069827 &  24 &   1 &  23\\\\\n",
       "\t ENSRNOG00000069226 & 228 & 218 & 217\\\\\n",
       "\t ENSRNOG00000068289 &  12 &   0 &  12\\\\\n",
       "\t ENSRNOG00000062439 &  64 &   7 &  57\\\\\n",
       "\t ENSRNOG00000066356 &  25 &   4 &  21\\\\\n",
       "\t ENSRNOG00000068919 &   0 &   0 &   0\\\\\n",
       "\t ENSRNOG00000068656 &  16 &   1 &  15\\\\\n",
       "\t ENSRNOG00000064259 &  38 &   0 &  38\\\\\n",
       "\t ENSRNOG00000065062 & 397 &   1 & 396\\\\\n",
       "\t ENSRNOG00000062442 & 124 &   1 & 123\\\\\n",
       "\t ENSRNOG00000070895 &   0 &   0 &   0\\\\\n",
       "\t ENSRNOG00000066963 &  27 &   0 &  27\\\\\n",
       "\t ENSRNOG00000065223 &   0 &   0 &   0\\\\\n",
       "\t ENSRNOG00000069230 &   9 &  25 &  25\\\\\n",
       "\t ENSRNOG00000071103 &  43 &  10 &  59\\\\\n",
       "\\end{tabular}\n"
      ],
      "text/markdown": [
       "\n",
       "A data.frame: 30564 × 4\n",
       "\n",
       "| V1 &lt;chr&gt; | V2 &lt;int&gt; | V3 &lt;int&gt; | V4 &lt;int&gt; |\n",
       "|---|---|---|---|\n",
       "| N_unmapped         |  193863 |  193863 |  193863 |\n",
       "| N_multimapping     |  372450 |  372450 |  372450 |\n",
       "| N_noFeature        | 1296643 | 6754999 | 1369846 |\n",
       "| N_ambiguous        |  155544 |    1489 |   68782 |\n",
       "| ENSRNOG00000066169 |       0 |       0 |       0 |\n",
       "| ENSRNOG00000070168 |       0 |       0 |       0 |\n",
       "| ENSRNOG00000070901 |      12 |       0 |      12 |\n",
       "| ENSRNOG00000018029 |       1 |       0 |       1 |\n",
       "| ENSRNOG00000031391 |       7 |       0 |       7 |\n",
       "| ENSRNOG00000055342 |       0 |       0 |       0 |\n",
       "| ENSRNOG00000068698 |       3 |       0 |       3 |\n",
       "| ENSRNOG00000067904 |       0 |       0 |       0 |\n",
       "| ENSRNOG00000063979 |       0 |       0 |       0 |\n",
       "| ENSRNOG00000064851 |       3 |       2 |       1 |\n",
       "| ENSRNOG00000063562 |      11 |       0 |      11 |\n",
       "| ENSRNOG00000050129 |       0 |       0 |       0 |\n",
       "| ENSRNOG00000056886 |       0 |       0 |       0 |\n",
       "| ENSRNOG00000032625 |      47 |       0 |      47 |\n",
       "| ENSRNOG00000029315 |       0 |       0 |       0 |\n",
       "| ENSRNOG00000016356 |     419 |       6 |     413 |\n",
       "| ENSRNOG00000028288 |       0 |       0 |       0 |\n",
       "| ENSRNOG00000015810 |      29 |       1 |      28 |\n",
       "| ENSRNOG00000017538 |    3243 |       3 |    3240 |\n",
       "| ENSRNOG00000027204 |      26 |       1 |      25 |\n",
       "| ENSRNOG00000058651 |       0 |       0 |       0 |\n",
       "| ENSRNOG00000070886 |       0 |      15 |       0 |\n",
       "| ENSRNOG00000056005 |       0 |       0 |       0 |\n",
       "| ENSRNOG00000035453 |       2 |       0 |       2 |\n",
       "| ENSRNOG00000063396 |       0 |       0 |       0 |\n",
       "| ENSRNOG00000068709 |       0 |      20 |       0 |\n",
       "| ⋮ | ⋮ | ⋮ | ⋮ |\n",
       "| ENSRNOG00000066592 |   0 |   0 |   0 |\n",
       "| ENSRNOG00000065193 |   0 |   0 |   0 |\n",
       "| ENSRNOG00000069132 |   0 |   0 |   0 |\n",
       "| ENSRNOG00000070299 |   0 |   0 |   0 |\n",
       "| ENSRNOG00000068736 |   0 |   0 |   0 |\n",
       "| ENSRNOG00000065175 |   0 |   0 |   0 |\n",
       "| ENSRNOG00000062672 |   0 |   0 |   0 |\n",
       "| ENSRNOG00000062596 |   0 |   0 |   0 |\n",
       "| ENSRNOG00000066684 |   0 |   0 |   0 |\n",
       "| ENSRNOG00000067500 |   0 |   0 |   0 |\n",
       "| ENSRNOG00000067927 |   0 |   0 |   0 |\n",
       "| ENSRNOG00000062558 |   1 |   0 |   1 |\n",
       "| ENSRNOG00000069483 |  54 |   0 |  54 |\n",
       "| ENSRNOG00000062942 |   1 |   0 |   1 |\n",
       "| ENSRNOG00000070031 |   3 |  46 | 164 |\n",
       "| ENSRNOG00000069827 |  24 |   1 |  23 |\n",
       "| ENSRNOG00000069226 | 228 | 218 | 217 |\n",
       "| ENSRNOG00000068289 |  12 |   0 |  12 |\n",
       "| ENSRNOG00000062439 |  64 |   7 |  57 |\n",
       "| ENSRNOG00000066356 |  25 |   4 |  21 |\n",
       "| ENSRNOG00000068919 |   0 |   0 |   0 |\n",
       "| ENSRNOG00000068656 |  16 |   1 |  15 |\n",
       "| ENSRNOG00000064259 |  38 |   0 |  38 |\n",
       "| ENSRNOG00000065062 | 397 |   1 | 396 |\n",
       "| ENSRNOG00000062442 | 124 |   1 | 123 |\n",
       "| ENSRNOG00000070895 |   0 |   0 |   0 |\n",
       "| ENSRNOG00000066963 |  27 |   0 |  27 |\n",
       "| ENSRNOG00000065223 |   0 |   0 |   0 |\n",
       "| ENSRNOG00000069230 |   9 |  25 |  25 |\n",
       "| ENSRNOG00000071103 |  43 |  10 |  59 |\n",
       "\n"
      ],
      "text/plain": [
       "      V1                 V2      V3      V4     \n",
       "1     N_unmapped          193863  193863  193863\n",
       "2     N_multimapping      372450  372450  372450\n",
       "3     N_noFeature        1296643 6754999 1369846\n",
       "4     N_ambiguous         155544    1489   68782\n",
       "5     ENSRNOG00000066169       0       0       0\n",
       "6     ENSRNOG00000070168       0       0       0\n",
       "7     ENSRNOG00000070901      12       0      12\n",
       "8     ENSRNOG00000018029       1       0       1\n",
       "9     ENSRNOG00000031391       7       0       7\n",
       "10    ENSRNOG00000055342       0       0       0\n",
       "11    ENSRNOG00000068698       3       0       3\n",
       "12    ENSRNOG00000067904       0       0       0\n",
       "13    ENSRNOG00000063979       0       0       0\n",
       "14    ENSRNOG00000064851       3       2       1\n",
       "15    ENSRNOG00000063562      11       0      11\n",
       "16    ENSRNOG00000050129       0       0       0\n",
       "17    ENSRNOG00000056886       0       0       0\n",
       "18    ENSRNOG00000032625      47       0      47\n",
       "19    ENSRNOG00000029315       0       0       0\n",
       "20    ENSRNOG00000016356     419       6     413\n",
       "21    ENSRNOG00000028288       0       0       0\n",
       "22    ENSRNOG00000015810      29       1      28\n",
       "23    ENSRNOG00000017538    3243       3    3240\n",
       "24    ENSRNOG00000027204      26       1      25\n",
       "25    ENSRNOG00000058651       0       0       0\n",
       "26    ENSRNOG00000070886       0      15       0\n",
       "27    ENSRNOG00000056005       0       0       0\n",
       "28    ENSRNOG00000035453       2       0       2\n",
       "29    ENSRNOG00000063396       0       0       0\n",
       "30    ENSRNOG00000068709       0      20       0\n",
       "⋮     ⋮                  ⋮       ⋮       ⋮      \n",
       "30535 ENSRNOG00000066592   0       0       0    \n",
       "30536 ENSRNOG00000065193   0       0       0    \n",
       "30537 ENSRNOG00000069132   0       0       0    \n",
       "30538 ENSRNOG00000070299   0       0       0    \n",
       "30539 ENSRNOG00000068736   0       0       0    \n",
       "30540 ENSRNOG00000065175   0       0       0    \n",
       "30541 ENSRNOG00000062672   0       0       0    \n",
       "30542 ENSRNOG00000062596   0       0       0    \n",
       "30543 ENSRNOG00000066684   0       0       0    \n",
       "30544 ENSRNOG00000067500   0       0       0    \n",
       "30545 ENSRNOG00000067927   0       0       0    \n",
       "30546 ENSRNOG00000062558   1       0       1    \n",
       "30547 ENSRNOG00000069483  54       0      54    \n",
       "30548 ENSRNOG00000062942   1       0       1    \n",
       "30549 ENSRNOG00000070031   3      46     164    \n",
       "30550 ENSRNOG00000069827  24       1      23    \n",
       "30551 ENSRNOG00000069226 228     218     217    \n",
       "30552 ENSRNOG00000068289  12       0      12    \n",
       "30553 ENSRNOG00000062439  64       7      57    \n",
       "30554 ENSRNOG00000066356  25       4      21    \n",
       "30555 ENSRNOG00000068919   0       0       0    \n",
       "30556 ENSRNOG00000068656  16       1      15    \n",
       "30557 ENSRNOG00000064259  38       0      38    \n",
       "30558 ENSRNOG00000065062 397       1     396    \n",
       "30559 ENSRNOG00000062442 124       1     123    \n",
       "30560 ENSRNOG00000070895   0       0       0    \n",
       "30561 ENSRNOG00000066963  27       0      27    \n",
       "30562 ENSRNOG00000065223   0       0       0    \n",
       "30563 ENSRNOG00000069230   9      25      25    \n",
       "30564 ENSRNOG00000071103  43      10      59    "
      ]
     },
     "metadata": {},
     "output_type": "display_data"
    }
   ],
   "source": [
    "countslist[[1]]"
   ]
  },
  {
   "cell_type": "code",
   "execution_count": 25,
   "metadata": {},
   "outputs": [],
   "source": [
    "colnames<- c(\"gene\", \"unstranded_counts\", \"htseq_count_Fstreadalign\",\"htseq_countrev_Sndreadalign\")\n",
    "\n",
    "\n",
    "for (i in seq_along(countslist)){\n",
    "  colnames(countslist[[i]]) <- colnames}\n",
    "\n",
    "counts_temp <- lapply(countslist, function(x) {x <- x %>% select(-c(unstranded_counts,htseq_count_Fstreadalign))})\n",
    "counts_use <- lapply(counts_temp, function(x) {x <- x[-c(1:4),]})\n"
   ]
  },
  {
   "cell_type": "code",
   "execution_count": 26,
   "metadata": {},
   "outputs": [
    {
     "data": {
      "text/html": [
       "<table class=\"dataframe\">\n",
       "<caption>A data.frame: 6 × 2</caption>\n",
       "<thead>\n",
       "\t<tr><th></th><th scope=col>gene</th><th scope=col>htseq_countrev_Sndreadalign</th></tr>\n",
       "\t<tr><th></th><th scope=col>&lt;chr&gt;</th><th scope=col>&lt;int&gt;</th></tr>\n",
       "</thead>\n",
       "<tbody>\n",
       "\t<tr><th scope=row>5</th><td>ENSRNOG00000066169</td><td> 0</td></tr>\n",
       "\t<tr><th scope=row>6</th><td>ENSRNOG00000070168</td><td> 0</td></tr>\n",
       "\t<tr><th scope=row>7</th><td>ENSRNOG00000070901</td><td>12</td></tr>\n",
       "\t<tr><th scope=row>8</th><td>ENSRNOG00000018029</td><td> 1</td></tr>\n",
       "\t<tr><th scope=row>9</th><td>ENSRNOG00000031391</td><td> 7</td></tr>\n",
       "\t<tr><th scope=row>10</th><td>ENSRNOG00000055342</td><td> 0</td></tr>\n",
       "</tbody>\n",
       "</table>\n"
      ],
      "text/latex": [
       "A data.frame: 6 × 2\n",
       "\\begin{tabular}{r|ll}\n",
       "  & gene & htseq\\_countrev\\_Sndreadalign\\\\\n",
       "  & <chr> & <int>\\\\\n",
       "\\hline\n",
       "\t5 & ENSRNOG00000066169 &  0\\\\\n",
       "\t6 & ENSRNOG00000070168 &  0\\\\\n",
       "\t7 & ENSRNOG00000070901 & 12\\\\\n",
       "\t8 & ENSRNOG00000018029 &  1\\\\\n",
       "\t9 & ENSRNOG00000031391 &  7\\\\\n",
       "\t10 & ENSRNOG00000055342 &  0\\\\\n",
       "\\end{tabular}\n"
      ],
      "text/markdown": [
       "\n",
       "A data.frame: 6 × 2\n",
       "\n",
       "| <!--/--> | gene &lt;chr&gt; | htseq_countrev_Sndreadalign &lt;int&gt; |\n",
       "|---|---|---|\n",
       "| 5 | ENSRNOG00000066169 |  0 |\n",
       "| 6 | ENSRNOG00000070168 |  0 |\n",
       "| 7 | ENSRNOG00000070901 | 12 |\n",
       "| 8 | ENSRNOG00000018029 |  1 |\n",
       "| 9 | ENSRNOG00000031391 |  7 |\n",
       "| 10 | ENSRNOG00000055342 |  0 |\n",
       "\n"
      ],
      "text/plain": [
       "   gene               htseq_countrev_Sndreadalign\n",
       "5  ENSRNOG00000066169  0                         \n",
       "6  ENSRNOG00000070168  0                         \n",
       "7  ENSRNOG00000070901 12                         \n",
       "8  ENSRNOG00000018029  1                         \n",
       "9  ENSRNOG00000031391  7                         \n",
       "10 ENSRNOG00000055342  0                         "
      ]
     },
     "metadata": {},
     "output_type": "display_data"
    }
   ],
   "source": [
    "head(counts_use[[1]])"
   ]
  },
  {
   "cell_type": "code",
   "execution_count": 27,
   "metadata": {},
   "outputs": [
    {
     "data": {
      "text/html": [
       "<table class=\"dataframe\">\n",
       "<caption>A data.frame: 6 × 20</caption>\n",
       "<thead>\n",
       "\t<tr><th></th><th scope=col>SRR4017429</th><th scope=col>SRR4017430</th><th scope=col>SRR4017431</th><th scope=col>SRR4017432</th><th scope=col>SRR4017433</th><th scope=col>SRR4017434</th><th scope=col>SRR4017435</th><th scope=col>SRR4017436</th><th scope=col>SRR4017437</th><th scope=col>SRR4017438</th><th scope=col>SRR4017439</th><th scope=col>SRR4017440</th><th scope=col>SRR4017441</th><th scope=col>SRR4017442</th><th scope=col>SRR4017443</th><th scope=col>SRR4017444</th><th scope=col>SRR4017445</th><th scope=col>SRR4017446</th><th scope=col>SRR4017447</th><th scope=col>SRR4017448</th></tr>\n",
       "\t<tr><th></th><th scope=col>&lt;int&gt;</th><th scope=col>&lt;int&gt;</th><th scope=col>&lt;int&gt;</th><th scope=col>&lt;int&gt;</th><th scope=col>&lt;int&gt;</th><th scope=col>&lt;int&gt;</th><th scope=col>&lt;int&gt;</th><th scope=col>&lt;int&gt;</th><th scope=col>&lt;int&gt;</th><th scope=col>&lt;int&gt;</th><th scope=col>&lt;int&gt;</th><th scope=col>&lt;int&gt;</th><th scope=col>&lt;int&gt;</th><th scope=col>&lt;int&gt;</th><th scope=col>&lt;int&gt;</th><th scope=col>&lt;int&gt;</th><th scope=col>&lt;int&gt;</th><th scope=col>&lt;int&gt;</th><th scope=col>&lt;int&gt;</th><th scope=col>&lt;int&gt;</th></tr>\n",
       "</thead>\n",
       "<tbody>\n",
       "\t<tr><th scope=row>ENSRNOG00000066169</th><td> 0</td><td>0</td><td> 1</td><td> 0</td><td> 0</td><td> 1</td><td> 1</td><td> 1</td><td> 0</td><td>0</td><td>0</td><td> 0</td><td> 1</td><td> 0</td><td> 2</td><td> 0</td><td> 0</td><td> 0</td><td> 1</td><td> 0</td></tr>\n",
       "\t<tr><th scope=row>ENSRNOG00000070168</th><td> 0</td><td>0</td><td> 0</td><td> 0</td><td> 0</td><td> 0</td><td> 0</td><td> 0</td><td> 0</td><td>0</td><td>0</td><td> 0</td><td> 0</td><td> 0</td><td> 0</td><td> 0</td><td> 0</td><td> 0</td><td> 0</td><td> 0</td></tr>\n",
       "\t<tr><th scope=row>ENSRNOG00000070901</th><td>12</td><td>7</td><td>10</td><td>21</td><td>18</td><td>18</td><td>19</td><td>20</td><td>14</td><td>8</td><td>9</td><td>11</td><td>26</td><td>28</td><td>26</td><td>26</td><td>35</td><td>37</td><td>32</td><td>39</td></tr>\n",
       "\t<tr><th scope=row>ENSRNOG00000018029</th><td> 1</td><td>0</td><td> 0</td><td> 0</td><td> 2</td><td> 2</td><td> 1</td><td> 3</td><td> 1</td><td>0</td><td>0</td><td> 2</td><td> 2</td><td> 0</td><td> 1</td><td> 3</td><td> 1</td><td> 2</td><td> 0</td><td> 2</td></tr>\n",
       "\t<tr><th scope=row>ENSRNOG00000031391</th><td> 7</td><td>6</td><td>11</td><td> 4</td><td> 8</td><td>13</td><td>12</td><td>16</td><td>11</td><td>7</td><td>7</td><td> 9</td><td>16</td><td>13</td><td>20</td><td> 9</td><td>15</td><td>20</td><td>15</td><td>19</td></tr>\n",
       "\t<tr><th scope=row>ENSRNOG00000055342</th><td> 0</td><td>0</td><td> 0</td><td> 0</td><td> 0</td><td> 0</td><td> 0</td><td> 0</td><td> 0</td><td>0</td><td>0</td><td> 0</td><td> 0</td><td> 0</td><td> 0</td><td> 0</td><td> 0</td><td> 0</td><td> 0</td><td> 0</td></tr>\n",
       "</tbody>\n",
       "</table>\n"
      ],
      "text/latex": [
       "A data.frame: 6 × 20\n",
       "\\begin{tabular}{r|llllllllllllllllllll}\n",
       "  & SRR4017429 & SRR4017430 & SRR4017431 & SRR4017432 & SRR4017433 & SRR4017434 & SRR4017435 & SRR4017436 & SRR4017437 & SRR4017438 & SRR4017439 & SRR4017440 & SRR4017441 & SRR4017442 & SRR4017443 & SRR4017444 & SRR4017445 & SRR4017446 & SRR4017447 & SRR4017448\\\\\n",
       "  & <int> & <int> & <int> & <int> & <int> & <int> & <int> & <int> & <int> & <int> & <int> & <int> & <int> & <int> & <int> & <int> & <int> & <int> & <int> & <int>\\\\\n",
       "\\hline\n",
       "\tENSRNOG00000066169 &  0 & 0 &  1 &  0 &  0 &  1 &  1 &  1 &  0 & 0 & 0 &  0 &  1 &  0 &  2 &  0 &  0 &  0 &  1 &  0\\\\\n",
       "\tENSRNOG00000070168 &  0 & 0 &  0 &  0 &  0 &  0 &  0 &  0 &  0 & 0 & 0 &  0 &  0 &  0 &  0 &  0 &  0 &  0 &  0 &  0\\\\\n",
       "\tENSRNOG00000070901 & 12 & 7 & 10 & 21 & 18 & 18 & 19 & 20 & 14 & 8 & 9 & 11 & 26 & 28 & 26 & 26 & 35 & 37 & 32 & 39\\\\\n",
       "\tENSRNOG00000018029 &  1 & 0 &  0 &  0 &  2 &  2 &  1 &  3 &  1 & 0 & 0 &  2 &  2 &  0 &  1 &  3 &  1 &  2 &  0 &  2\\\\\n",
       "\tENSRNOG00000031391 &  7 & 6 & 11 &  4 &  8 & 13 & 12 & 16 & 11 & 7 & 7 &  9 & 16 & 13 & 20 &  9 & 15 & 20 & 15 & 19\\\\\n",
       "\tENSRNOG00000055342 &  0 & 0 &  0 &  0 &  0 &  0 &  0 &  0 &  0 & 0 & 0 &  0 &  0 &  0 &  0 &  0 &  0 &  0 &  0 &  0\\\\\n",
       "\\end{tabular}\n"
      ],
      "text/markdown": [
       "\n",
       "A data.frame: 6 × 20\n",
       "\n",
       "| <!--/--> | SRR4017429 &lt;int&gt; | SRR4017430 &lt;int&gt; | SRR4017431 &lt;int&gt; | SRR4017432 &lt;int&gt; | SRR4017433 &lt;int&gt; | SRR4017434 &lt;int&gt; | SRR4017435 &lt;int&gt; | SRR4017436 &lt;int&gt; | SRR4017437 &lt;int&gt; | SRR4017438 &lt;int&gt; | SRR4017439 &lt;int&gt; | SRR4017440 &lt;int&gt; | SRR4017441 &lt;int&gt; | SRR4017442 &lt;int&gt; | SRR4017443 &lt;int&gt; | SRR4017444 &lt;int&gt; | SRR4017445 &lt;int&gt; | SRR4017446 &lt;int&gt; | SRR4017447 &lt;int&gt; | SRR4017448 &lt;int&gt; |\n",
       "|---|---|---|---|---|---|---|---|---|---|---|---|---|---|---|---|---|---|---|---|---|\n",
       "| ENSRNOG00000066169 |  0 | 0 |  1 |  0 |  0 |  1 |  1 |  1 |  0 | 0 | 0 |  0 |  1 |  0 |  2 |  0 |  0 |  0 |  1 |  0 |\n",
       "| ENSRNOG00000070168 |  0 | 0 |  0 |  0 |  0 |  0 |  0 |  0 |  0 | 0 | 0 |  0 |  0 |  0 |  0 |  0 |  0 |  0 |  0 |  0 |\n",
       "| ENSRNOG00000070901 | 12 | 7 | 10 | 21 | 18 | 18 | 19 | 20 | 14 | 8 | 9 | 11 | 26 | 28 | 26 | 26 | 35 | 37 | 32 | 39 |\n",
       "| ENSRNOG00000018029 |  1 | 0 |  0 |  0 |  2 |  2 |  1 |  3 |  1 | 0 | 0 |  2 |  2 |  0 |  1 |  3 |  1 |  2 |  0 |  2 |\n",
       "| ENSRNOG00000031391 |  7 | 6 | 11 |  4 |  8 | 13 | 12 | 16 | 11 | 7 | 7 |  9 | 16 | 13 | 20 |  9 | 15 | 20 | 15 | 19 |\n",
       "| ENSRNOG00000055342 |  0 | 0 |  0 |  0 |  0 |  0 |  0 |  0 |  0 | 0 | 0 |  0 |  0 |  0 |  0 |  0 |  0 |  0 |  0 |  0 |\n",
       "\n"
      ],
      "text/plain": [
       "                   SRR4017429 SRR4017430 SRR4017431 SRR4017432 SRR4017433\n",
       "ENSRNOG00000066169  0         0           1          0          0        \n",
       "ENSRNOG00000070168  0         0           0          0          0        \n",
       "ENSRNOG00000070901 12         7          10         21         18        \n",
       "ENSRNOG00000018029  1         0           0          0          2        \n",
       "ENSRNOG00000031391  7         6          11          4          8        \n",
       "ENSRNOG00000055342  0         0           0          0          0        \n",
       "                   SRR4017434 SRR4017435 SRR4017436 SRR4017437 SRR4017438\n",
       "ENSRNOG00000066169  1          1          1          0         0         \n",
       "ENSRNOG00000070168  0          0          0          0         0         \n",
       "ENSRNOG00000070901 18         19         20         14         8         \n",
       "ENSRNOG00000018029  2          1          3          1         0         \n",
       "ENSRNOG00000031391 13         12         16         11         7         \n",
       "ENSRNOG00000055342  0          0          0          0         0         \n",
       "                   SRR4017439 SRR4017440 SRR4017441 SRR4017442 SRR4017443\n",
       "ENSRNOG00000066169 0           0          1          0          2        \n",
       "ENSRNOG00000070168 0           0          0          0          0        \n",
       "ENSRNOG00000070901 9          11         26         28         26        \n",
       "ENSRNOG00000018029 0           2          2          0          1        \n",
       "ENSRNOG00000031391 7           9         16         13         20        \n",
       "ENSRNOG00000055342 0           0          0          0          0        \n",
       "                   SRR4017444 SRR4017445 SRR4017446 SRR4017447 SRR4017448\n",
       "ENSRNOG00000066169  0          0          0          1          0        \n",
       "ENSRNOG00000070168  0          0          0          0          0        \n",
       "ENSRNOG00000070901 26         35         37         32         39        \n",
       "ENSRNOG00000018029  3          1          2          0          2        \n",
       "ENSRNOG00000031391  9         15         20         15         19        \n",
       "ENSRNOG00000055342  0          0          0          0          0        "
      ]
     },
     "metadata": {},
     "output_type": "display_data"
    }
   ],
   "source": [
    "\n",
    "all_counts <- reduce(counts_use, full_join, by = \"gene\")\n",
    "colnames(all_counts)<-c(\"gene\", names(counts_use))\n",
    "\n",
    "rownames(all_counts)<- all_counts$gene\n",
    "all_counts <- all_counts[,-1]\n",
    "\n",
    "\n",
    "\n",
    "head(all_counts)"
   ]
  },
  {
   "cell_type": "markdown",
   "metadata": {},
   "source": [
    "[GSE41637](https://www.ncbi.nlm.nih.gov/geo/query/acc.cgi?acc=GSE41637)\n",
    "\n",
    "Supplementary files include mapped reads:\n",
    "    * Mapped to rn4\n",
    "\n",
    "SRA files:\n",
    "        SRR594427 (strain F344/cr1)\n",
    "        SRR594436 (strain BN/SsNHsd)\n",
    "        SRR594445 (strain Sprague-Dawley)\n",
    "\n",
    "\n"
   ]
  },
  {
   "cell_type": "markdown",
   "metadata": {},
   "source": [
    "# To combine datasets into one count and metadata file. Need to standardize metadata entries and add column for study identifier\n",
    "\n",
    "\n",
    "### Target metadata table structure\n",
    "\n",
    "| *Study* | *Strain* | *Sample Name* | *Age (weeks)* |\n",
    "|----|----|----|----|\n",
    "| ... | ... | ... | ... |\n",
    "\n"
   ]
  },
  {
   "cell_type": "code",
   "execution_count": 28,
   "metadata": {},
   "outputs": [],
   "source": [
    "# make combine metadata object\n",
    "\n",
    "meta_combined <- rbind(meta_combine_1,meta_combine_2)\n",
    "\n",
    "rownames(meta_combined) <- meta_combined$Run\n"
   ]
  },
  {
   "cell_type": "markdown",
   "metadata": {},
   "source": [
    "Keep \"Run\" column to be used in \"reduce counts\" function in final DEseq2 object"
   ]
  },
  {
   "cell_type": "code",
   "execution_count": 29,
   "metadata": {},
   "outputs": [
    {
     "data": {
      "text/html": [
       "<table class=\"dataframe\">\n",
       "<caption>A data.frame: 6 × 43</caption>\n",
       "<thead>\n",
       "\t<tr><th></th><th scope=col>SRR6396793</th><th scope=col>SRR6396794</th><th scope=col>SRR6396795</th><th scope=col>SRR6396796</th><th scope=col>SRR6396797</th><th scope=col>SRR6396798</th><th scope=col>SRR6396799</th><th scope=col>SRR6396800</th><th scope=col>SRR6396801</th><th scope=col>SRR6396802</th><th scope=col>⋯</th><th scope=col>SRR1170509</th><th scope=col>SRR1170510</th><th scope=col>SRR1170511</th><th scope=col>SRR1170512</th><th scope=col>SRR1170513</th><th scope=col>SRR1170514</th><th scope=col>SRR1170515</th><th scope=col>SRR1170516</th><th scope=col>SRR1170517</th><th scope=col>SRR1170518</th></tr>\n",
       "\t<tr><th></th><th scope=col>&lt;int&gt;</th><th scope=col>&lt;int&gt;</th><th scope=col>&lt;int&gt;</th><th scope=col>&lt;int&gt;</th><th scope=col>&lt;int&gt;</th><th scope=col>&lt;int&gt;</th><th scope=col>&lt;int&gt;</th><th scope=col>&lt;int&gt;</th><th scope=col>&lt;int&gt;</th><th scope=col>&lt;int&gt;</th><th scope=col>⋯</th><th scope=col>&lt;int&gt;</th><th scope=col>&lt;int&gt;</th><th scope=col>&lt;int&gt;</th><th scope=col>&lt;int&gt;</th><th scope=col>&lt;int&gt;</th><th scope=col>&lt;int&gt;</th><th scope=col>&lt;int&gt;</th><th scope=col>&lt;int&gt;</th><th scope=col>&lt;int&gt;</th><th scope=col>&lt;int&gt;</th></tr>\n",
       "</thead>\n",
       "<tbody>\n",
       "\t<tr><th scope=row>ENSRNOG00000000001</th><td>  1</td><td>  1</td><td>  0</td><td>  0</td><td>  0</td><td>   0</td><td>106</td><td>113</td><td>300</td><td>250</td><td>⋯</td><td>  3</td><td>  1</td><td> 8</td><td>11</td><td>3</td><td>4</td><td>4</td><td>4</td><td>2</td><td>4</td></tr>\n",
       "\t<tr><th scope=row>ENSRNOG00000000007</th><td>104</td><td>101</td><td>454</td><td>106</td><td>322</td><td> 457</td><td> 31</td><td> 30</td><td> 77</td><td> 64</td><td>⋯</td><td> 75</td><td> 79</td><td> 3</td><td> 5</td><td>2</td><td>0</td><td>1</td><td>0</td><td>1</td><td>1</td></tr>\n",
       "\t<tr><th scope=row>ENSRNOG00000000008</th><td>  0</td><td>  0</td><td>  1</td><td>  0</td><td>  0</td><td>   3</td><td> 87</td><td> 83</td><td>210</td><td> 84</td><td>⋯</td><td>  1</td><td>  5</td><td> 0</td><td> 0</td><td>2</td><td>2</td><td>3</td><td>2</td><td>1</td><td>0</td></tr>\n",
       "\t<tr><th scope=row>ENSRNOG00000000009</th><td>436</td><td>377</td><td>744</td><td>148</td><td>866</td><td>1005</td><td>  1</td><td>  1</td><td>  3</td><td>  0</td><td>⋯</td><td>357</td><td>385</td><td>14</td><td>18</td><td>3</td><td>4</td><td>0</td><td>0</td><td>0</td><td>1</td></tr>\n",
       "\t<tr><th scope=row>ENSRNOG00000000010</th><td> 23</td><td> 13</td><td> 36</td><td>  7</td><td> 30</td><td>  32</td><td>105</td><td>105</td><td>257</td><td>222</td><td>⋯</td><td> 11</td><td>  5</td><td> 2</td><td> 3</td><td>0</td><td>0</td><td>6</td><td>2</td><td>2</td><td>2</td></tr>\n",
       "\t<tr><th scope=row>ENSRNOG00000000012</th><td>  4</td><td>  3</td><td>  5</td><td>  2</td><td>  2</td><td>   6</td><td> 95</td><td> 63</td><td>131</td><td> 46</td><td>⋯</td><td>  2</td><td>  3</td><td> 2</td><td> 3</td><td>0</td><td>1</td><td>2</td><td>1</td><td>0</td><td>2</td></tr>\n",
       "</tbody>\n",
       "</table>\n"
      ],
      "text/latex": [
       "A data.frame: 6 × 43\n",
       "\\begin{tabular}{r|lllllllllllllllllllll}\n",
       "  & SRR6396793 & SRR6396794 & SRR6396795 & SRR6396796 & SRR6396797 & SRR6396798 & SRR6396799 & SRR6396800 & SRR6396801 & SRR6396802 & ⋯ & SRR1170509 & SRR1170510 & SRR1170511 & SRR1170512 & SRR1170513 & SRR1170514 & SRR1170515 & SRR1170516 & SRR1170517 & SRR1170518\\\\\n",
       "  & <int> & <int> & <int> & <int> & <int> & <int> & <int> & <int> & <int> & <int> & ⋯ & <int> & <int> & <int> & <int> & <int> & <int> & <int> & <int> & <int> & <int>\\\\\n",
       "\\hline\n",
       "\tENSRNOG00000000001 &   1 &   1 &   0 &   0 &   0 &    0 & 106 & 113 & 300 & 250 & ⋯ &   3 &   1 &  8 & 11 & 3 & 4 & 4 & 4 & 2 & 4\\\\\n",
       "\tENSRNOG00000000007 & 104 & 101 & 454 & 106 & 322 &  457 &  31 &  30 &  77 &  64 & ⋯ &  75 &  79 &  3 &  5 & 2 & 0 & 1 & 0 & 1 & 1\\\\\n",
       "\tENSRNOG00000000008 &   0 &   0 &   1 &   0 &   0 &    3 &  87 &  83 & 210 &  84 & ⋯ &   1 &   5 &  0 &  0 & 2 & 2 & 3 & 2 & 1 & 0\\\\\n",
       "\tENSRNOG00000000009 & 436 & 377 & 744 & 148 & 866 & 1005 &   1 &   1 &   3 &   0 & ⋯ & 357 & 385 & 14 & 18 & 3 & 4 & 0 & 0 & 0 & 1\\\\\n",
       "\tENSRNOG00000000010 &  23 &  13 &  36 &   7 &  30 &   32 & 105 & 105 & 257 & 222 & ⋯ &  11 &   5 &  2 &  3 & 0 & 0 & 6 & 2 & 2 & 2\\\\\n",
       "\tENSRNOG00000000012 &   4 &   3 &   5 &   2 &   2 &    6 &  95 &  63 & 131 &  46 & ⋯ &   2 &   3 &  2 &  3 & 0 & 1 & 2 & 1 & 0 & 2\\\\\n",
       "\\end{tabular}\n"
      ],
      "text/markdown": [
       "\n",
       "A data.frame: 6 × 43\n",
       "\n",
       "| <!--/--> | SRR6396793 &lt;int&gt; | SRR6396794 &lt;int&gt; | SRR6396795 &lt;int&gt; | SRR6396796 &lt;int&gt; | SRR6396797 &lt;int&gt; | SRR6396798 &lt;int&gt; | SRR6396799 &lt;int&gt; | SRR6396800 &lt;int&gt; | SRR6396801 &lt;int&gt; | SRR6396802 &lt;int&gt; | ⋯ ⋯ | SRR1170509 &lt;int&gt; | SRR1170510 &lt;int&gt; | SRR1170511 &lt;int&gt; | SRR1170512 &lt;int&gt; | SRR1170513 &lt;int&gt; | SRR1170514 &lt;int&gt; | SRR1170515 &lt;int&gt; | SRR1170516 &lt;int&gt; | SRR1170517 &lt;int&gt; | SRR1170518 &lt;int&gt; |\n",
       "|---|---|---|---|---|---|---|---|---|---|---|---|---|---|---|---|---|---|---|---|---|---|\n",
       "| ENSRNOG00000000001 |   1 |   1 |   0 |   0 |   0 |    0 | 106 | 113 | 300 | 250 | ⋯ |   3 |   1 |  8 | 11 | 3 | 4 | 4 | 4 | 2 | 4 |\n",
       "| ENSRNOG00000000007 | 104 | 101 | 454 | 106 | 322 |  457 |  31 |  30 |  77 |  64 | ⋯ |  75 |  79 |  3 |  5 | 2 | 0 | 1 | 0 | 1 | 1 |\n",
       "| ENSRNOG00000000008 |   0 |   0 |   1 |   0 |   0 |    3 |  87 |  83 | 210 |  84 | ⋯ |   1 |   5 |  0 |  0 | 2 | 2 | 3 | 2 | 1 | 0 |\n",
       "| ENSRNOG00000000009 | 436 | 377 | 744 | 148 | 866 | 1005 |   1 |   1 |   3 |   0 | ⋯ | 357 | 385 | 14 | 18 | 3 | 4 | 0 | 0 | 0 | 1 |\n",
       "| ENSRNOG00000000010 |  23 |  13 |  36 |   7 |  30 |   32 | 105 | 105 | 257 | 222 | ⋯ |  11 |   5 |  2 |  3 | 0 | 0 | 6 | 2 | 2 | 2 |\n",
       "| ENSRNOG00000000012 |   4 |   3 |   5 |   2 |   2 |    6 |  95 |  63 | 131 |  46 | ⋯ |   2 |   3 |  2 |  3 | 0 | 1 | 2 | 1 | 0 | 2 |\n",
       "\n"
      ],
      "text/plain": [
       "                   SRR6396793 SRR6396794 SRR6396795 SRR6396796 SRR6396797\n",
       "ENSRNOG00000000001   1          1          0          0          0       \n",
       "ENSRNOG00000000007 104        101        454        106        322       \n",
       "ENSRNOG00000000008   0          0          1          0          0       \n",
       "ENSRNOG00000000009 436        377        744        148        866       \n",
       "ENSRNOG00000000010  23         13         36          7         30       \n",
       "ENSRNOG00000000012   4          3          5          2          2       \n",
       "                   SRR6396798 SRR6396799 SRR6396800 SRR6396801 SRR6396802 ⋯\n",
       "ENSRNOG00000000001    0       106        113        300        250        ⋯\n",
       "ENSRNOG00000000007  457        31         30         77         64        ⋯\n",
       "ENSRNOG00000000008    3        87         83        210         84        ⋯\n",
       "ENSRNOG00000000009 1005         1          1          3          0        ⋯\n",
       "ENSRNOG00000000010   32       105        105        257        222        ⋯\n",
       "ENSRNOG00000000012    6        95         63        131         46        ⋯\n",
       "                   SRR1170509 SRR1170510 SRR1170511 SRR1170512 SRR1170513\n",
       "ENSRNOG00000000001   3          1         8         11         3         \n",
       "ENSRNOG00000000007  75         79         3          5         2         \n",
       "ENSRNOG00000000008   1          5         0          0         2         \n",
       "ENSRNOG00000000009 357        385        14         18         3         \n",
       "ENSRNOG00000000010  11          5         2          3         0         \n",
       "ENSRNOG00000000012   2          3         2          3         0         \n",
       "                   SRR1170514 SRR1170515 SRR1170516 SRR1170517 SRR1170518\n",
       "ENSRNOG00000000001 4          4          4          2          4         \n",
       "ENSRNOG00000000007 0          1          0          1          1         \n",
       "ENSRNOG00000000008 2          3          2          1          0         \n",
       "ENSRNOG00000000009 4          0          0          0          1         \n",
       "ENSRNOG00000000010 0          6          2          2          2         \n",
       "ENSRNOG00000000012 1          2          1          0          2         "
      ]
     },
     "metadata": {},
     "output_type": "display_data"
    }
   ],
   "source": [
    "# combine count objects\n",
    "\n",
    "## Very important to make sure rows of metadata and columns of counts data match exactly\n",
    "\n",
    "# all(rownames(coldata) == colnames(cts))\n",
    "\n",
    "combined_counts <- merge(counts108348, counts53960, by=0, )\n",
    "\n",
    "rownames(combined_counts) <- combined_counts[,1]\n",
    "\n",
    "combined_counts <- combined_counts[,-1]\n",
    "\n",
    "head(combined_counts)"
   ]
  },
  {
   "cell_type": "code",
   "execution_count": 30,
   "metadata": {},
   "outputs": [
    {
     "data": {
      "text/html": [
       "FALSE"
      ],
      "text/latex": [
       "FALSE"
      ],
      "text/markdown": [
       "FALSE"
      ],
      "text/plain": [
       "[1] FALSE"
      ]
     },
     "metadata": {},
     "output_type": "display_data"
    },
    {
     "data": {
      "text/html": [
       "<style>\n",
       ".list-inline {list-style: none; margin:0; padding: 0}\n",
       ".list-inline>li {display: inline-block}\n",
       ".list-inline>li:not(:last-child)::after {content: \"\\00b7\"; padding: 0 .5ex}\n",
       "</style>\n",
       "<ol class=list-inline><li>'SRR6396793'</li><li>'SRR6396794'</li><li>'SRR6396795'</li><li>'SRR6396796'</li><li>'SRR6396797'</li><li>'SRR6396798'</li><li>'SRR6396799'</li><li>'SRR6396800'</li><li>'SRR6396801'</li><li>'SRR6396802'</li><li>'SRR6396803'</li><li>'SRR1170487'</li><li>'SRR1170488'</li><li>'SRR1170489'</li><li>'SRR1170490'</li><li>'SRR1170492'</li><li>'SRR1170491'</li><li>'SRR1170493'</li><li>'SRR1170494'</li><li>'SRR1170495'</li><li>'SRR1170496'</li><li>'SRR1170497'</li><li>'SRR1170498'</li><li>'SRR1170499'</li><li>'SRR1170500'</li><li>'SRR1170501'</li><li>'SRR1170502'</li><li>'SRR1170503'</li><li>'SRR1170504'</li><li>'SRR1170506'</li><li>'SRR1170505'</li><li>'SRR1170508'</li><li>'SRR1170507'</li><li>'SRR1170509'</li><li>'SRR1170510'</li><li>'SRR1170512'</li><li>'SRR1170511'</li><li>'SRR1170513'</li><li>'SRR1170514'</li><li>'SRR1170515'</li><li>'SRR1170516'</li><li>'SRR1170518'</li><li>'SRR1170517'</li></ol>\n"
      ],
      "text/latex": [
       "\\begin{enumerate*}\n",
       "\\item 'SRR6396793'\n",
       "\\item 'SRR6396794'\n",
       "\\item 'SRR6396795'\n",
       "\\item 'SRR6396796'\n",
       "\\item 'SRR6396797'\n",
       "\\item 'SRR6396798'\n",
       "\\item 'SRR6396799'\n",
       "\\item 'SRR6396800'\n",
       "\\item 'SRR6396801'\n",
       "\\item 'SRR6396802'\n",
       "\\item 'SRR6396803'\n",
       "\\item 'SRR1170487'\n",
       "\\item 'SRR1170488'\n",
       "\\item 'SRR1170489'\n",
       "\\item 'SRR1170490'\n",
       "\\item 'SRR1170492'\n",
       "\\item 'SRR1170491'\n",
       "\\item 'SRR1170493'\n",
       "\\item 'SRR1170494'\n",
       "\\item 'SRR1170495'\n",
       "\\item 'SRR1170496'\n",
       "\\item 'SRR1170497'\n",
       "\\item 'SRR1170498'\n",
       "\\item 'SRR1170499'\n",
       "\\item 'SRR1170500'\n",
       "\\item 'SRR1170501'\n",
       "\\item 'SRR1170502'\n",
       "\\item 'SRR1170503'\n",
       "\\item 'SRR1170504'\n",
       "\\item 'SRR1170506'\n",
       "\\item 'SRR1170505'\n",
       "\\item 'SRR1170508'\n",
       "\\item 'SRR1170507'\n",
       "\\item 'SRR1170509'\n",
       "\\item 'SRR1170510'\n",
       "\\item 'SRR1170512'\n",
       "\\item 'SRR1170511'\n",
       "\\item 'SRR1170513'\n",
       "\\item 'SRR1170514'\n",
       "\\item 'SRR1170515'\n",
       "\\item 'SRR1170516'\n",
       "\\item 'SRR1170518'\n",
       "\\item 'SRR1170517'\n",
       "\\end{enumerate*}\n"
      ],
      "text/markdown": [
       "1. 'SRR6396793'\n",
       "2. 'SRR6396794'\n",
       "3. 'SRR6396795'\n",
       "4. 'SRR6396796'\n",
       "5. 'SRR6396797'\n",
       "6. 'SRR6396798'\n",
       "7. 'SRR6396799'\n",
       "8. 'SRR6396800'\n",
       "9. 'SRR6396801'\n",
       "10. 'SRR6396802'\n",
       "11. 'SRR6396803'\n",
       "12. 'SRR1170487'\n",
       "13. 'SRR1170488'\n",
       "14. 'SRR1170489'\n",
       "15. 'SRR1170490'\n",
       "16. 'SRR1170492'\n",
       "17. 'SRR1170491'\n",
       "18. 'SRR1170493'\n",
       "19. 'SRR1170494'\n",
       "20. 'SRR1170495'\n",
       "21. 'SRR1170496'\n",
       "22. 'SRR1170497'\n",
       "23. 'SRR1170498'\n",
       "24. 'SRR1170499'\n",
       "25. 'SRR1170500'\n",
       "26. 'SRR1170501'\n",
       "27. 'SRR1170502'\n",
       "28. 'SRR1170503'\n",
       "29. 'SRR1170504'\n",
       "30. 'SRR1170506'\n",
       "31. 'SRR1170505'\n",
       "32. 'SRR1170508'\n",
       "33. 'SRR1170507'\n",
       "34. 'SRR1170509'\n",
       "35. 'SRR1170510'\n",
       "36. 'SRR1170512'\n",
       "37. 'SRR1170511'\n",
       "38. 'SRR1170513'\n",
       "39. 'SRR1170514'\n",
       "40. 'SRR1170515'\n",
       "41. 'SRR1170516'\n",
       "42. 'SRR1170518'\n",
       "43. 'SRR1170517'\n",
       "\n",
       "\n"
      ],
      "text/plain": [
       " [1] \"SRR6396793\" \"SRR6396794\" \"SRR6396795\" \"SRR6396796\" \"SRR6396797\"\n",
       " [6] \"SRR6396798\" \"SRR6396799\" \"SRR6396800\" \"SRR6396801\" \"SRR6396802\"\n",
       "[11] \"SRR6396803\" \"SRR1170487\" \"SRR1170488\" \"SRR1170489\" \"SRR1170490\"\n",
       "[16] \"SRR1170492\" \"SRR1170491\" \"SRR1170493\" \"SRR1170494\" \"SRR1170495\"\n",
       "[21] \"SRR1170496\" \"SRR1170497\" \"SRR1170498\" \"SRR1170499\" \"SRR1170500\"\n",
       "[26] \"SRR1170501\" \"SRR1170502\" \"SRR1170503\" \"SRR1170504\" \"SRR1170506\"\n",
       "[31] \"SRR1170505\" \"SRR1170508\" \"SRR1170507\" \"SRR1170509\" \"SRR1170510\"\n",
       "[36] \"SRR1170512\" \"SRR1170511\" \"SRR1170513\" \"SRR1170514\" \"SRR1170515\"\n",
       "[41] \"SRR1170516\" \"SRR1170518\" \"SRR1170517\""
      ]
     },
     "metadata": {},
     "output_type": "display_data"
    },
    {
     "name": "stdout",
     "output_type": "stream",
     "text": [
      "[1] \"break\"\n"
     ]
    },
    {
     "data": {
      "text/html": [
       "<style>\n",
       ".list-inline {list-style: none; margin:0; padding: 0}\n",
       ".list-inline>li {display: inline-block}\n",
       ".list-inline>li:not(:last-child)::after {content: \"\\00b7\"; padding: 0 .5ex}\n",
       "</style>\n",
       "<ol class=list-inline><li>'SRR6396793'</li><li>'SRR6396794'</li><li>'SRR6396795'</li><li>'SRR6396796'</li><li>'SRR6396797'</li><li>'SRR6396798'</li><li>'SRR6396799'</li><li>'SRR6396800'</li><li>'SRR6396801'</li><li>'SRR6396802'</li><li>'SRR6396803'</li><li>'SRR1170487'</li><li>'SRR1170488'</li><li>'SRR1170489'</li><li>'SRR1170490'</li><li>'SRR1170491'</li><li>'SRR1170492'</li><li>'SRR1170493'</li><li>'SRR1170494'</li><li>'SRR1170495'</li><li>'SRR1170496'</li><li>'SRR1170497'</li><li>'SRR1170498'</li><li>'SRR1170499'</li><li>'SRR1170500'</li><li>'SRR1170501'</li><li>'SRR1170502'</li><li>'SRR1170503'</li><li>'SRR1170504'</li><li>'SRR1170505'</li><li>'SRR1170506'</li><li>'SRR1170507'</li><li>'SRR1170508'</li><li>'SRR1170509'</li><li>'SRR1170510'</li><li>'SRR1170511'</li><li>'SRR1170512'</li><li>'SRR1170513'</li><li>'SRR1170514'</li><li>'SRR1170515'</li><li>'SRR1170516'</li><li>'SRR1170517'</li><li>'SRR1170518'</li></ol>\n"
      ],
      "text/latex": [
       "\\begin{enumerate*}\n",
       "\\item 'SRR6396793'\n",
       "\\item 'SRR6396794'\n",
       "\\item 'SRR6396795'\n",
       "\\item 'SRR6396796'\n",
       "\\item 'SRR6396797'\n",
       "\\item 'SRR6396798'\n",
       "\\item 'SRR6396799'\n",
       "\\item 'SRR6396800'\n",
       "\\item 'SRR6396801'\n",
       "\\item 'SRR6396802'\n",
       "\\item 'SRR6396803'\n",
       "\\item 'SRR1170487'\n",
       "\\item 'SRR1170488'\n",
       "\\item 'SRR1170489'\n",
       "\\item 'SRR1170490'\n",
       "\\item 'SRR1170491'\n",
       "\\item 'SRR1170492'\n",
       "\\item 'SRR1170493'\n",
       "\\item 'SRR1170494'\n",
       "\\item 'SRR1170495'\n",
       "\\item 'SRR1170496'\n",
       "\\item 'SRR1170497'\n",
       "\\item 'SRR1170498'\n",
       "\\item 'SRR1170499'\n",
       "\\item 'SRR1170500'\n",
       "\\item 'SRR1170501'\n",
       "\\item 'SRR1170502'\n",
       "\\item 'SRR1170503'\n",
       "\\item 'SRR1170504'\n",
       "\\item 'SRR1170505'\n",
       "\\item 'SRR1170506'\n",
       "\\item 'SRR1170507'\n",
       "\\item 'SRR1170508'\n",
       "\\item 'SRR1170509'\n",
       "\\item 'SRR1170510'\n",
       "\\item 'SRR1170511'\n",
       "\\item 'SRR1170512'\n",
       "\\item 'SRR1170513'\n",
       "\\item 'SRR1170514'\n",
       "\\item 'SRR1170515'\n",
       "\\item 'SRR1170516'\n",
       "\\item 'SRR1170517'\n",
       "\\item 'SRR1170518'\n",
       "\\end{enumerate*}\n"
      ],
      "text/markdown": [
       "1. 'SRR6396793'\n",
       "2. 'SRR6396794'\n",
       "3. 'SRR6396795'\n",
       "4. 'SRR6396796'\n",
       "5. 'SRR6396797'\n",
       "6. 'SRR6396798'\n",
       "7. 'SRR6396799'\n",
       "8. 'SRR6396800'\n",
       "9. 'SRR6396801'\n",
       "10. 'SRR6396802'\n",
       "11. 'SRR6396803'\n",
       "12. 'SRR1170487'\n",
       "13. 'SRR1170488'\n",
       "14. 'SRR1170489'\n",
       "15. 'SRR1170490'\n",
       "16. 'SRR1170491'\n",
       "17. 'SRR1170492'\n",
       "18. 'SRR1170493'\n",
       "19. 'SRR1170494'\n",
       "20. 'SRR1170495'\n",
       "21. 'SRR1170496'\n",
       "22. 'SRR1170497'\n",
       "23. 'SRR1170498'\n",
       "24. 'SRR1170499'\n",
       "25. 'SRR1170500'\n",
       "26. 'SRR1170501'\n",
       "27. 'SRR1170502'\n",
       "28. 'SRR1170503'\n",
       "29. 'SRR1170504'\n",
       "30. 'SRR1170505'\n",
       "31. 'SRR1170506'\n",
       "32. 'SRR1170507'\n",
       "33. 'SRR1170508'\n",
       "34. 'SRR1170509'\n",
       "35. 'SRR1170510'\n",
       "36. 'SRR1170511'\n",
       "37. 'SRR1170512'\n",
       "38. 'SRR1170513'\n",
       "39. 'SRR1170514'\n",
       "40. 'SRR1170515'\n",
       "41. 'SRR1170516'\n",
       "42. 'SRR1170517'\n",
       "43. 'SRR1170518'\n",
       "\n",
       "\n"
      ],
      "text/plain": [
       " [1] \"SRR6396793\" \"SRR6396794\" \"SRR6396795\" \"SRR6396796\" \"SRR6396797\"\n",
       " [6] \"SRR6396798\" \"SRR6396799\" \"SRR6396800\" \"SRR6396801\" \"SRR6396802\"\n",
       "[11] \"SRR6396803\" \"SRR1170487\" \"SRR1170488\" \"SRR1170489\" \"SRR1170490\"\n",
       "[16] \"SRR1170491\" \"SRR1170492\" \"SRR1170493\" \"SRR1170494\" \"SRR1170495\"\n",
       "[21] \"SRR1170496\" \"SRR1170497\" \"SRR1170498\" \"SRR1170499\" \"SRR1170500\"\n",
       "[26] \"SRR1170501\" \"SRR1170502\" \"SRR1170503\" \"SRR1170504\" \"SRR1170505\"\n",
       "[31] \"SRR1170506\" \"SRR1170507\" \"SRR1170508\" \"SRR1170509\" \"SRR1170510\"\n",
       "[36] \"SRR1170511\" \"SRR1170512\" \"SRR1170513\" \"SRR1170514\" \"SRR1170515\"\n",
       "[41] \"SRR1170516\" \"SRR1170517\" \"SRR1170518\""
      ]
     },
     "metadata": {},
     "output_type": "display_data"
    }
   ],
   "source": [
    "all(rownames(meta_combined) == colnames(combined_counts))\n",
    "\n",
    "rownames(meta_combined)\n",
    "print(\"break\")\n",
    "\n",
    "colnames(combined_counts)\n"
   ]
  },
  {
   "cell_type": "code",
   "execution_count": 31,
   "metadata": {},
   "outputs": [
    {
     "data": {
      "text/html": [
       "TRUE"
      ],
      "text/latex": [
       "TRUE"
      ],
      "text/markdown": [
       "TRUE"
      ],
      "text/plain": [
       "[1] TRUE"
      ]
     },
     "metadata": {},
     "output_type": "display_data"
    },
    {
     "data": {
      "text/html": [
       "TRUE"
      ],
      "text/latex": [
       "TRUE"
      ],
      "text/markdown": [
       "TRUE"
      ],
      "text/plain": [
       "[1] TRUE"
      ]
     },
     "metadata": {},
     "output_type": "display_data"
    }
   ],
   "source": [
    "all(rownames(meta_combined) %in% colnames(combined_counts))\n",
    "\n",
    "combined_counts <- combined_counts[, rownames(meta_combined)]\n",
    "all(rownames(meta_combined) == colnames(combined_counts))"
   ]
  },
  {
   "cell_type": "code",
   "execution_count": 32,
   "metadata": {},
   "outputs": [
    {
     "data": {
      "text/html": [
       "<style>\n",
       ".list-inline {list-style: none; margin:0; padding: 0}\n",
       ".list-inline>li {display: inline-block}\n",
       ".list-inline>li:not(:last-child)::after {content: \"\\00b7\"; padding: 0 .5ex}\n",
       "</style>\n",
       "<ol class=list-inline><li>'study'</li><li>'sample'</li><li>'strain'</li><li>'age_week'</li><li>'Run'</li></ol>\n"
      ],
      "text/latex": [
       "\\begin{enumerate*}\n",
       "\\item 'study'\n",
       "\\item 'sample'\n",
       "\\item 'strain'\n",
       "\\item 'age\\_week'\n",
       "\\item 'Run'\n",
       "\\end{enumerate*}\n"
      ],
      "text/markdown": [
       "1. 'study'\n",
       "2. 'sample'\n",
       "3. 'strain'\n",
       "4. 'age_week'\n",
       "5. 'Run'\n",
       "\n",
       "\n"
      ],
      "text/plain": [
       "[1] \"study\"    \"sample\"   \"strain\"   \"age_week\" \"Run\"     "
      ]
     },
     "metadata": {},
     "output_type": "display_data"
    }
   ],
   "source": [
    "colnames(meta_combined)"
   ]
  },
  {
   "cell_type": "code",
   "execution_count": 33,
   "metadata": {},
   "outputs": [],
   "source": [
    "write.csv(combined_counts, \"/bigdata/faustmanlab/bch/csv_files/combined_counts.csv\")\n",
    "\n",
    "write.csv(meta_combined, \"/bigdata/faustmanlab/bch/csv_files/combined_metadata.csv\")"
   ]
  },
  {
   "cell_type": "code",
   "execution_count": 34,
   "metadata": {},
   "outputs": [
    {
     "name": "stderr",
     "output_type": "stream",
     "text": [
      "Warning message in DESeqDataSet(se, design = design, ignoreRank):\n",
      "“some variables in design formula are characters, converting to factors”\n",
      "  Note: levels of factors in the design contain characters other than\n",
      "  letters, numbers, '_' and '.'. It is recommended (but not required) to use\n",
      "  only letters, numbers, and delimiters '_' or '.', as these are safe characters\n",
      "  for column names in R. [This is a message, not a warning or an error]\n",
      "\n"
     ]
    }
   ],
   "source": [
    "# build deseq2 object\n",
    "\n",
    "dds_comb <- DESeqDataSetFromMatrix(countData = combined_counts, \n",
    "                                colData = meta_combined, \n",
    "                                design = ~ strain + age_week)\n"
   ]
  },
  {
   "cell_type": "code",
   "execution_count": 35,
   "metadata": {},
   "outputs": [
    {
     "name": "stderr",
     "output_type": "stream",
     "text": [
      "estimating size factors\n",
      "\n",
      "  Note: levels of factors in the design contain characters other than\n",
      "  letters, numbers, '_' and '.'. It is recommended (but not required) to use\n",
      "  only letters, numbers, and delimiters '_' or '.', as these are safe characters\n",
      "  for column names in R. [This is a message, not a warning or an error]\n",
      "\n",
      "estimating dispersions\n",
      "\n",
      "gene-wise dispersion estimates\n",
      "\n",
      "mean-dispersion relationship\n",
      "\n",
      "-- note: fitType='parametric', but the dispersion trend was not well captured by the\n",
      "   function: y = a/x + b, and a local regression fit was automatically substituted.\n",
      "   specify fitType='local' or 'mean' to avoid this message next time.\n",
      "\n",
      "  Note: levels of factors in the design contain characters other than\n",
      "  letters, numbers, '_' and '.'. It is recommended (but not required) to use\n",
      "  only letters, numbers, and delimiters '_' or '.', as these are safe characters\n",
      "  for column names in R. [This is a message, not a warning or an error]\n",
      "\n",
      "final dispersion estimates\n",
      "\n",
      "  Note: levels of factors in the design contain characters other than\n",
      "  letters, numbers, '_' and '.'. It is recommended (but not required) to use\n",
      "  only letters, numbers, and delimiters '_' or '.', as these are safe characters\n",
      "  for column names in R. [This is a message, not a warning or an error]\n",
      "\n",
      "fitting model and testing\n",
      "\n"
     ]
    }
   ],
   "source": [
    "dds_comb <- collapseReplicates(dds_comb, groupby= dds_comb$sample, dds_comb$Run)\n",
    "\n",
    "dds_comb <- DESeq(dds_comb)"
   ]
  },
  {
   "cell_type": "code",
   "execution_count": 36,
   "metadata": {},
   "outputs": [
    {
     "name": "stdout",
     "output_type": "stream",
     "text": [
      "\n",
      "out of 28728 with nonzero total read count\n",
      "adjusted p-value < 0.1\n",
      "LFC > 0 (up)       : 9313, 32%\n",
      "LFC < 0 (down)     : 8069, 28%\n",
      "outliers [1]       : 373, 1.3%\n",
      "low counts [2]     : 2776, 9.7%\n",
      "(mean count < 0)\n",
      "[1] see 'cooksCutoff' argument of ?results\n",
      "[2] see 'independentFiltering' argument of ?results\n",
      "\n"
     ]
    }
   ],
   "source": [
    "res <- results(dds_comb)\n",
    "summary(res) "
   ]
  },
  {
   "cell_type": "code",
   "execution_count": 37,
   "metadata": {},
   "outputs": [
    {
     "data": {
      "image/png": "[encoded data removed]",
      "text/plain": [
       "plot without title"
      ]
     },
     "metadata": {
      "image/png": {
       "height": 420,
       "width": 420
      }
     },
     "output_type": "display_data"
    }
   ],
   "source": [
    "vsdata <- vst(dds_comb, blind=FALSE)\n",
    "plotPCA(vsdata, intgroup=\"study\") "
   ]
  },
  {
   "cell_type": "code",
   "execution_count": 40,
   "metadata": {},
   "outputs": [
    {
     "data": {
      "text/html": [
       "<strong>png:</strong> 2"
      ],
      "text/latex": [
       "\\textbf{png:} 2"
      ],
      "text/markdown": [
       "**png:** 2"
      ],
      "text/plain": [
       "png \n",
       "  2 "
      ]
     },
     "metadata": {},
     "output_type": "display_data"
    }
   ],
   "source": [
    "\n",
    "\n",
    "pcaData <- plotPCA(vsdata, intgroup=c(\"strain\", \"study\"), returnData=TRUE)\n",
    "percentVar <- round(100 * attr(pcaData, \"percentVar\"))\n",
    "p <- ggplot(pcaData, aes(PC1, PC2, color=study, shape=strain)) +\n",
    "  geom_point(size=3) +\n",
    "  xlab(paste0(\"PC1: \",percentVar[1],\"% variance\")) +\n",
    "  ylab(paste0(\"PC2: \",percentVar[2],\"% variance\")) + \n",
    "  coord_fixed()\n",
    "\n",
    "\n",
    "png(\"pcs.png\")\n",
    "print(p)\n",
    "dev.off()"
   ]
  }
 ],
 "metadata": {
  "kernelspec": {
   "display_name": "R",
   "language": "R",
   "name": "ir"
  },
  "language_info": {
   "codemirror_mode": "r",
   "file_extension": ".r",
   "mimetype": "text/x-r-source",
   "name": "R",
   "pygments_lexer": "r",
   "version": "4.1.3"
  },
  "orig_nbformat": 4
 },
 "nbformat": 4,
 "nbformat_minor": 2
}
