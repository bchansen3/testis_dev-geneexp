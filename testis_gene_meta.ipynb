{
 "cells": [
  {
   "cell_type": "markdown",
   "metadata": {},
   "source": [
    "# Gene Expression Analysis of Rat Testis Across Developmental Stages\n",
    "\n",
    "## Brad Hansen\n",
    "\n",
    "### Data from [NCBI GEO](https://www.ncbi.nlm.nih.gov/geo/)\n",
    "\n",
    "Search terms: *testis*, *rat*, *testes*, *postnatal*,\n",
    "\n",
    "Only RNA-seq data used (not microarray).\n",
    "\n",
    "Data used:\n",
    "\n",
    "GEO study [GSE108348](https://www.ncbi.nlm.nih.gov/geo/query/acc.cgi?acc=GSE108348)\n",
    "\n",
    "> Study GSE108348 includes transcriptomes from three species (*mouse, rat, chicken*), four organs (*testis, brain, liver, kidney*), across five developmental stages (*E 13.5, E 18.5-19, PND 1-2, 8-10 weeks, 24 months*). This project considers the testis data for rats (Wistar) across the development stages. The data is Bulk RNA-seq from a Illumina HiSeq 2000.\n",
    "\n",
    "GEO study [GSE162152](https://www.ncbi.nlm.nih.gov/geo/query/acc.cgi?acc=GSE162152)\n",
    "\n",
    "> Study GSE162152 includes gene expression profiling of testis (*also liver and cerebellum*) across five species (*opossum, mouse, rat, rhesus macaque, human*). The authors specifically targeted circRNAs through RNA R treatment, though this analysis only uses the untreated samples. The data is Bulk RNA-seq from Illumina HiSeq 2500. Rat samples taken at 16 weeks of age.\n",
    "\n",
    "GEO study [GSE125483](https://www.ncbi.nlm.nih.gov/geo/query/acc.cgi?acc=GSE125483)\n",
    "\n",
    "> Study GSE1235483 includes gene expression profiles from 12 tissues, across 4 species (*cynomolgus macaque, mouse, rat, and dog*). Here we use testis data from 9 week old brown norway rats.\n",
    "\n",
    "GEO study [GSE85420](https://www.ncbi.nlm.nih.gov/geo/query/acc.cgi?acc=GSE85420)\n",
    "\n",
    "> Study GSE85420 includes gene expression profiling after exposure to 2,2',4'4' --Tetrabromodiphenyl Ether. This study looks at the testis RNA-seq data for the control group of Wistar rats at PND 120 (\\~17 weeks)\n",
    "\n",
    "GEO study [GSE41637](https://www.ncbi.nlm.nih.gov/geo/query/acc.cgi?acc=GSE41637)\n",
    "\n",
    "> Study GSE41637 looks at transciptome differences across mammals. The study reports that samples taken from animals *of breeding age* due to transcriptome stability. Samples analyses (for Rattus norvegicus) using Illumina Genome Analyzer IIx.\n",
    "\n",
    "GEO study [GSE53960](https://www.ncbi.nlm.nih.gov/geo/query/acc.cgi?acc=GSE53960)\n",
    "\n",
    "> Study GSE53960 assesses the *\"transcriptomic profiling across 11 organs, 4 ages, and 2 sexes of Fischer 344 rats.\"* This study uses the testis data from 2, 6, 21, and 104 week old Fischer 344 rats.\n",
    "\n",
    "\n",
    "# Periods Covered\n",
    "\n",
    "\n",
    "| Period     | Species    | Strain      | Source                        |\n",
    "|-------|-----|-----|----|\n",
    "| Embryonic Day 13.5 (*midstage embryo*)      | Rat        | Wistar                            | [GSE108348](https://www.ncbi.nlm.nih.gov/geo/query/acc.cgi?acc=GSE108348)                                                                            |\n",
    "| Embryonic Day 18.5-19 (*late Embryo*)       | Rat        | Wistar                            | [GSE108348](https://www.ncbi.nlm.nih.gov/geo/query/acc.cgi?acc=GSE108348)                                                                            |\n",
    "| Post Natal Day 1-2 (*neonate*)              | Rat        | Wistar                            | [GSE108348](https://www.ncbi.nlm.nih.gov/geo/query/acc.cgi?acc=GSE108348)                                                                            |\n",
    "| 2 weeks old (*young*)                       | Rat        | Fischer 344                       | [GSE53960](https://www.ncbi.nlm.nih.gov/geo/query/acc.cgi?acc=GSE53960)                                                                              |\n",
    "| 6 weeks old (*young*)                       | Rat        | Fischer 344                       | [GSE53960](https://www.ncbi.nlm.nih.gov/geo/query/acc.cgi?acc=GSE53960)                                                                              |\n",
    "| 8-10 weeks old (*young adult*), 9 weeks old | Rat        | Wistar, Brown rat                 | [GSE108348](https://www.ncbi.nlm.nih.gov/geo/query/acc.cgi?acc=GSE108348), [GSE125483](https://www.ncbi.nlm.nih.gov/geo/query/acc.cgi?acc=GSE125483) |\n",
    "| 16 weeks old (*adult*)                      | Rat        | Norway Brown (*NCBI Taxon 10116*) | [GSE162152](https://www.ncbi.nlm.nih.gov/geo/query/acc.cgi?acc=GSE162152)                                                                            |\n",
    "| 17 weeks old (*adult*)                      | Rat        | Wistar                            | [GSE85420](https://www.ncbi.nlm.nih.gov/geo/query/acc.cgi?acc=GSE85420)                                                                              |\n",
    "| 21 weeks old (*adult*)                      | Rat        | Fischer 344                       | [GSE53960](https://www.ncbi.nlm.nih.gov/geo/query/acc.cgi?acc=GSE53960)                                                                              |\n",
    "| 2 years old (*aged adult*)                  | Rat        | Wistar , Fisher 344               | [GSE108348](https://www.ncbi.nlm.nih.gov/geo/query/acc.cgi?acc=GSE108348), [GSE53960](https://www.ncbi.nlm.nih.gov/geo/query/acc.cgi?acc=GSE53960)   |\n",
    "| *Breeding Age*                              | Rat        | Sprague-Dawley                    | [GSE41637](https://www.ncbi.nlm.nih.gov/geo/query/acc.cgi?acc=GSE41637)                                                                              |\n"
   ]
  },
  {
   "cell_type": "code",
   "execution_count": 9,
   "metadata": {},
   "outputs": [],
   "source": [
    "library(plyranges)\n",
    "library(tidyverse)\n",
    "library(dplyr)\n",
    "library(plyr)\n",
    "library(DESeq2)\n",
    "library(DEGreport)"
   ]
  },
  {
   "cell_type": "markdown",
   "metadata": {},
   "source": [
    "GEO study [GSE108348](https://www.ncbi.nlm.nih.gov/geo/query/acc.cgi?acc=GSE108348)\n",
    "\n",
    "Data available: text file of unique read counts \n",
    "    * Aligned with HISAT2 (2.0.5)\n",
    "    * used Ensembl release 94 annotations as a reference and we assembled additional gene models with StringTie 1.3.5.\n",
    "    * Genome build = rn6\n",
    "    * uniquely mapped read counts using the Rsubread library in R (featureCounts) version 1.32.4, in R version 3.5.\n",
    "\n",
    "Strandness of data == Illumina Truseq == use reverse (column 4 in STAR output)\n",
    "\n",
    "SRR reads:\n",
    "        SRR6396793\n",
    "        SRR6396803\n",
    "        SRR6396794\n",
    "        SRR6396795\n",
    "        SRR6396796\n",
    "        SRR6396797\n",
    "        SRR6396798\n",
    "        SRR6396799\n",
    "        SRR6396800\n",
    "        SRR6396801\n",
    "        SRR6396802"
   ]
  },
  {
   "cell_type": "code",
   "execution_count": null,
   "metadata": {},
   "outputs": [],
   "source": [
    "# load in files from STAR --quantMode genecounts\n",
    "\n",
    "countPATH <- \"/bigdata/faustmanlab/bch/gse108348_counts/counts\"\n",
    "\n",
    "files <- list.files(path=countPATH, pattern=\"*.tab\", full.names=TRUE)\n",
    "names(files) <- lapply(strsplit(files, \"/|_\"), \"[\",8)\n",
    "countslist <- lapply(files, read.delim, sep=\"\\t\", header=FALSE)\n",
    "names(countslist)<- names(files)\n"
   ]
  },
  {
   "cell_type": "code",
   "execution_count": null,
   "metadata": {},
   "outputs": [],
   "source": [
    "colnames<- c(\"gene\", \"unstranded_counts\", \"htseq_count_Fstreadalign\",\"htseq_countrev_Sndreadalign\")\n",
    "\n",
    "\n",
    "for (i in seq_along(countslist)){\n",
    "  colnames(countslist[[i]]) <- colnames}\n",
    "\n",
    "counts_temp <- lapply(countslist, function(x) {x <- x %>% select(-c(unstranded_counts,htseq_count_Fstreadalign))})\n",
    "counts_use <- lapply(counts_temp, function(x) {x <- x[-c(1:4),]})\n",
    "\n",
    "counts_use[[1]]"
   ]
  },
  {
   "cell_type": "code",
   "execution_count": null,
   "metadata": {},
   "outputs": [],
   "source": [
    "\n",
    "all_counts <- reduce(counts_use, full_join, by = \"gene\")\n",
    "colnames(all_counts)<-c(\"gene\", names(counts_use))\n",
    "\n",
    "rownames(all_counts)<- all_counts$gene\n",
    "all_counts <- all_counts[,-1]\n",
    "\n",
    "\n",
    "\n",
    "head(all_counts)\n"
   ]
  },
  {
   "cell_type": "code",
   "execution_count": null,
   "metadata": {},
   "outputs": [],
   "source": [
    "\n",
    "# add metadata\n",
    "\n",
    "metadata <- read.csv(\"/bigdata/faustmanlab/bch/gse108348_counts/gse108348meta.txt\")\n",
    "\n",
    "colnames(metadata)\n",
    "\n",
    "metadata<-select(metadata,'Run', 'BioSample', 'Developmental_stage', 'Experiment', 'Sample.Name')\n",
    "\n",
    "metadata"
   ]
  },
  {
   "cell_type": "code",
   "execution_count": null,
   "metadata": {},
   "outputs": [],
   "source": [
    "dds <- DESeqDataSetFromMatrix(countData=all_counts,\n",
    "                                colData = metadata,\n",
    "                                 design = ~Developmental_stage)\n",
    "\n"
   ]
  },
  {
   "cell_type": "code",
   "execution_count": null,
   "metadata": {},
   "outputs": [],
   "source": [
    "dds <- collapseReplicates(dds, groupby= dds$Sample.Name, dds$Run)\n",
    "\n",
    "dds"
   ]
  },
  {
   "cell_type": "code",
   "execution_count": null,
   "metadata": {},
   "outputs": [],
   "source": [
    "dds <- DESeq(dds)\n",
    "\n"
   ]
  },
  {
   "cell_type": "code",
   "execution_count": null,
   "metadata": {},
   "outputs": [],
   "source": [
    "res <- results(dds)\n",
    "head(results(dds))\n",
    "summary(res) "
   ]
  },
  {
   "cell_type": "code",
   "execution_count": null,
   "metadata": {},
   "outputs": [],
   "source": [
    "vsdata <- vst(dds, blind=FALSE)\n",
    "plotPCA(vsdata, intgroup=\"Developmental_stage\") "
   ]
  },
  {
   "cell_type": "markdown",
   "metadata": {},
   "source": [
    "GEO study [GSE53960](https://www.ncbi.nlm.nih.gov/geo/query/acc.cgi?acc=GSE53960)\n",
    "\n",
    "TAR of text files:\n",
    "    * \tSequenced reads were trimmed for adaptor sequence, and masked for low-complexity or low-quality sequence, then mapped to rn4 whole genome using TopHat v2.0.4 with default parameters\n",
    "    * Alignment results were then processed using Cufflinks v2.0.2 for gene and transcript quantification with default parameters. For samples with 2~3 technical replicates, average FPKM (Fragment Per Kilobase per Million mapped reads) values were used.\n",
    "    * Genome_build: rn4\n",
    "\n",
    "\n",
    "**Single -- Read length 50** [see here](https://trace.ncbi.nlm.nih.gov/Traces/sra/?run=SRR1170509)\n",
    "\n",
    "**unstranded reads -- use first column of STAR output** Method: [Illumina Tru-seq](https://www.illumina.com/products/by-type/sequencing-kits/library-prep-kits/truseq-rna-v2.html)\n",
    "\n",
    "\n",
    "\n",
    "\n",
    "\n",
    "\n",
    "\n",
    "SRR reads:\n",
    "        SRR1170487\n",
    "        SRR1170488\n",
    "        SRR1170489\n",
    "        SRR1170490\n",
    "        SRR1170491\n",
    "        SRR1170492\n",
    "        SRR1170493\n",
    "        SRR1170494\n",
    "        SRR1170495\n",
    "        SRR1170496\n",
    "        SRR1170497\n",
    "        SRR1170498\n",
    "        SRR1170499\n",
    "        SRR1170500\n",
    "        SRR1170501\n",
    "        SRR1170502\n",
    "        SRR1170503\n",
    "        SRR1170504\n",
    "        SRR1170505\n",
    "        SRR1170506\n",
    "        SRR1170507\n",
    "        SRR1170508\n",
    "        SRR1170509\n",
    "        SRR1170510\n",
    "        SRR1170511\n",
    "        SRR1170512\n",
    "        SRR1170513\n",
    "        SRR1170514\n",
    "        SRR1170515\n",
    "        SRR1170516\n",
    "        SRR1170517\n",
    "        SRR1170518"
   ]
  },
  {
   "cell_type": "code",
   "execution_count": 18,
   "metadata": {},
   "outputs": [],
   "source": [
    "# load in files from STAR --quantMode genecounts\n",
    "\n",
    "countPATH <- \"/bigdata/faustmanlab/bch/gse53960/counts\"\n",
    "\n",
    "files <- list.files(path=countPATH, pattern=\"*.tab\", full.names=TRUE)\n",
    "names(files) <- lapply(strsplit(files, \"/|_\"), \"[\",7)\n",
    "countslist <- lapply(files, read.delim, sep=\"\\t\", header=FALSE)\n",
    "names(countslist)<- names(files)"
   ]
  },
  {
   "cell_type": "code",
   "execution_count": 17,
   "metadata": {},
   "outputs": [
    {
     "data": {
      "text/html": [
       "<style>\n",
       ".list-inline {list-style: none; margin:0; padding: 0}\n",
       ".list-inline>li {display: inline-block}\n",
       ".list-inline>li:not(:last-child)::after {content: \"\\00b7\"; padding: 0 .5ex}\n",
       "</style>\n",
       "<ol class=list-inline><li>'SRR1170487'</li><li>'SRR1170488'</li><li>'SRR1170489'</li><li>'SRR1170490'</li><li>'SRR1170491'</li><li>'SRR1170492'</li><li>'SRR1170493'</li><li>'SRR1170494'</li><li>'SRR1170495'</li><li>'SRR1170496'</li><li>'SRR1170497'</li><li>'SRR1170498'</li><li>'SRR1170499'</li><li>'SRR1170500'</li><li>'SRR1170501'</li><li>'SRR1170502'</li><li>'SRR1170503'</li><li>'SRR1170504'</li><li>'SRR1170505'</li><li>'SRR1170506'</li><li>'SRR1170507'</li><li>'SRR1170508'</li><li>'SRR1170509'</li><li>'SRR1170510'</li><li>'SRR1170511'</li><li>'SRR1170512'</li><li>'SRR1170513'</li><li>'SRR1170514'</li><li>'SRR1170515'</li><li>'SRR1170516'</li><li>'SRR1170517'</li><li>'SRR1170518'</li></ol>\n"
      ],
      "text/latex": [
       "\\begin{enumerate*}\n",
       "\\item 'SRR1170487'\n",
       "\\item 'SRR1170488'\n",
       "\\item 'SRR1170489'\n",
       "\\item 'SRR1170490'\n",
       "\\item 'SRR1170491'\n",
       "\\item 'SRR1170492'\n",
       "\\item 'SRR1170493'\n",
       "\\item 'SRR1170494'\n",
       "\\item 'SRR1170495'\n",
       "\\item 'SRR1170496'\n",
       "\\item 'SRR1170497'\n",
       "\\item 'SRR1170498'\n",
       "\\item 'SRR1170499'\n",
       "\\item 'SRR1170500'\n",
       "\\item 'SRR1170501'\n",
       "\\item 'SRR1170502'\n",
       "\\item 'SRR1170503'\n",
       "\\item 'SRR1170504'\n",
       "\\item 'SRR1170505'\n",
       "\\item 'SRR1170506'\n",
       "\\item 'SRR1170507'\n",
       "\\item 'SRR1170508'\n",
       "\\item 'SRR1170509'\n",
       "\\item 'SRR1170510'\n",
       "\\item 'SRR1170511'\n",
       "\\item 'SRR1170512'\n",
       "\\item 'SRR1170513'\n",
       "\\item 'SRR1170514'\n",
       "\\item 'SRR1170515'\n",
       "\\item 'SRR1170516'\n",
       "\\item 'SRR1170517'\n",
       "\\item 'SRR1170518'\n",
       "\\end{enumerate*}\n"
      ],
      "text/markdown": [
       "1. 'SRR1170487'\n",
       "2. 'SRR1170488'\n",
       "3. 'SRR1170489'\n",
       "4. 'SRR1170490'\n",
       "5. 'SRR1170491'\n",
       "6. 'SRR1170492'\n",
       "7. 'SRR1170493'\n",
       "8. 'SRR1170494'\n",
       "9. 'SRR1170495'\n",
       "10. 'SRR1170496'\n",
       "11. 'SRR1170497'\n",
       "12. 'SRR1170498'\n",
       "13. 'SRR1170499'\n",
       "14. 'SRR1170500'\n",
       "15. 'SRR1170501'\n",
       "16. 'SRR1170502'\n",
       "17. 'SRR1170503'\n",
       "18. 'SRR1170504'\n",
       "19. 'SRR1170505'\n",
       "20. 'SRR1170506'\n",
       "21. 'SRR1170507'\n",
       "22. 'SRR1170508'\n",
       "23. 'SRR1170509'\n",
       "24. 'SRR1170510'\n",
       "25. 'SRR1170511'\n",
       "26. 'SRR1170512'\n",
       "27. 'SRR1170513'\n",
       "28. 'SRR1170514'\n",
       "29. 'SRR1170515'\n",
       "30. 'SRR1170516'\n",
       "31. 'SRR1170517'\n",
       "32. 'SRR1170518'\n",
       "\n",
       "\n"
      ],
      "text/plain": [
       " [1] \"SRR1170487\" \"SRR1170488\" \"SRR1170489\" \"SRR1170490\" \"SRR1170491\"\n",
       " [6] \"SRR1170492\" \"SRR1170493\" \"SRR1170494\" \"SRR1170495\" \"SRR1170496\"\n",
       "[11] \"SRR1170497\" \"SRR1170498\" \"SRR1170499\" \"SRR1170500\" \"SRR1170501\"\n",
       "[16] \"SRR1170502\" \"SRR1170503\" \"SRR1170504\" \"SRR1170505\" \"SRR1170506\"\n",
       "[21] \"SRR1170507\" \"SRR1170508\" \"SRR1170509\" \"SRR1170510\" \"SRR1170511\"\n",
       "[26] \"SRR1170512\" \"SRR1170513\" \"SRR1170514\" \"SRR1170515\" \"SRR1170516\"\n",
       "[31] \"SRR1170517\" \"SRR1170518\""
      ]
     },
     "metadata": {},
     "output_type": "display_data"
    }
   ],
   "source": [
    "names(files)"
   ]
  },
  {
   "cell_type": "code",
   "execution_count": 19,
   "metadata": {},
   "outputs": [],
   "source": [
    "colnames<- c(\"gene\", \"unstranded_counts\", \"htseq_count_Fstreadalign\",\"htseq_countrev_Sndreadalign\")\n",
    "\n",
    "\n",
    "for (i in seq_along(countslist)){\n",
    "  colnames(countslist[[i]]) <- colnames}\n",
    "\n",
    "counts_temp <- lapply(countslist, function(x) {x <- x %>% select(-c(htseq_countrev_Sndreadalign,htseq_count_Fstreadalign))})\n",
    "counts_use <- lapply(counts_temp, function(x) {x <- x[-c(1:4),]})"
   ]
  },
  {
   "cell_type": "code",
   "execution_count": null,
   "metadata": {},
   "outputs": [],
   "source": [
    "counts_use[[1]]\n"
   ]
  },
  {
   "cell_type": "code",
   "execution_count": null,
   "metadata": {},
   "outputs": [],
   "source": [
    "colnames<- c(\"gene\", \"unstranded_counts\", \"htseq_count_Fstreadalign\",\"htseq_countrev_Sndreadalign\")\n",
    "\n",
    "\n",
    "for (i in seq_along(countslist)){\n",
    "  colnames(countslist[[i]]) <- colnames}\n",
    "\n",
    "counts_temp <- lapply(countslist, function(x) {x <- x %>% select(-c(unstranded_counts,htseq_count_Fstreadalign))})\n",
    "counts_use <- lapply(counts_temp, function(x) {x <- x[-c(1:4),]})\n",
    "\n"
   ]
  },
  {
   "cell_type": "code",
   "execution_count": null,
   "metadata": {},
   "outputs": [],
   "source": [
    "\n",
    "all_counts <- reduce(counts_use, full_join, by = \"gene\")\n",
    "colnames(all_counts)<-c(\"gene\", names(counts_use))\n",
    "\n",
    "rownames(all_counts)<- all_counts$gene\n",
    "all_counts <- all_counts[,-1]\n",
    "\n",
    "\n",
    "\n",
    "head(all_counts)"
   ]
  },
  {
   "cell_type": "markdown",
   "metadata": {},
   "source": [
    "GEO study [GSE162152](https://www.ncbi.nlm.nih.gov/geo/query/acc.cgi?acc=GSE162152)\n",
    "\n",
    "txt files specific to circRNAs -- need raw data from SRA\n",
    "\n",
    "SRA files:\n",
    "        SRR13142136\n",
    "        SRR13142137\n",
    "        SRR13142138"
   ]
  },
  {
   "cell_type": "markdown",
   "metadata": {},
   "source": [
    "GEO study [GSE85420](https://www.ncbi.nlm.nih.gov/geo/query/acc.cgi?acc=GSE85420) \n",
    "\n",
    "txt files with processed data:\n",
    "    * mapped to the reference rat genome (rn5) using TopHat 2 aligner\n",
    "    * Aligned reads were used for assembly of novel transcripts and differential expression of novel and reference transcripts with Cuffdiff 2.1.1.\n",
    "    * Supplementary_files_format_and_content: XLSX file showing Log2(FPKM) for control and exposed condition and Log2 of their FPKM ratio for each transcript, as well as transcript coordinates and gene names.\n",
    "\n",
    "\n",
    "**Single - Read length 75** [see here](https://trace.ncbi.nlm.nih.gov/Traces/sra/?run=SRR4017427)\n",
    "\n",
    "\n",
    "SRA files:\n",
    "        SRR4017429\n",
    "        SRR4017448\n",
    "        SRR4017447\n",
    "        SRR4017446\n",
    "        SRR4017445\n",
    "        SRR4017431\n",
    "        SRR4017432\n",
    "        SRR4017433\n",
    "        SRR4017434\n",
    "        SRR4017435\n",
    "        SRR4017436\n",
    "        SRR4017437\n",
    "        SRR4017438\n",
    "        SRR4017439\n",
    "        SRR4017440\n",
    "        SRR4017441\n",
    "        SRR4017442\n",
    "        SRR4017443\n",
    "        SRR4017444"
   ]
  },
  {
   "cell_type": "markdown",
   "metadata": {},
   "source": [
    "[GSE41637](https://www.ncbi.nlm.nih.gov/geo/query/acc.cgi?acc=GSE41637)\n",
    "\n",
    "Supplementary files include mapped reads:\n",
    "    * Mapped to rn4\n",
    "\n",
    "SRA files:\n",
    "        SRR594427 (strain F344/cr1)\n",
    "        SRR594436 (strain BN/SsNHsd)\n",
    "        SRR594445 (strain Sprague-Dawley)\n",
    "\n",
    "\n"
   ]
  }
 ],
 "metadata": {
  "kernelspec": {
   "display_name": "R",
   "language": "R",
   "name": "ir"
  },
  "language_info": {
   "codemirror_mode": "r",
   "file_extension": ".r",
   "mimetype": "text/x-r-source",
   "name": "R",
   "pygments_lexer": "r",
   "version": "4.1.3"
  },
  "orig_nbformat": 4
 },
 "nbformat": 4,
 "nbformat_minor": 2
}
