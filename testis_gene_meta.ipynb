{
 "cells": [
  {
   "cell_type": "markdown",
   "metadata": {},
   "source": [
    "# Gene Expression Analysis of Rat Testis Across Developmental Stages\n",
    "\n",
    "## Brad Hansen\n",
    "\n",
    "### Data from [NCBI GEO](https://www.ncbi.nlm.nih.gov/geo/)\n",
    "\n",
    "Search terms: *testis*, *rat*, *testes*, *postnatal*,\n",
    "\n",
    "Only RNA-seq data used (not microarray).\n",
    "\n",
    "Data used:\n",
    "\n",
    "GEO study [GSE108348](https://www.ncbi.nlm.nih.gov/geo/query/acc.cgi?acc=GSE108348)\n",
    "\n",
    "> Study GSE108348 includes transcriptomes from three species (*mouse, rat, chicken*), four organs (*testis, brain, liver, kidney*), across five developmental stages (*E 13.5, E 18.5-19, PND 1-2, 8-10 weeks, 24 months*). This project considers the testis data for rats (Wistar) across the development stages. The data is Bulk RNA-seq from a Illumina HiSeq 2000.\n",
    "\n",
    "GEO study [GSE162152](https://www.ncbi.nlm.nih.gov/geo/query/acc.cgi?acc=GSE162152)\n",
    "\n",
    "> Study GSE162152 includes gene expression profiling of testis (*also liver and cerebellum*) across five species (*opossum, mouse, rat, rhesus macaque, human*). The authors specifically targeted circRNAs through RNA R treatment, though this analysis only uses the untreated samples. The data is Bulk RNA-seq from Illumina HiSeq 2500. Rat samples taken at 16 weeks of age.\n",
    "\n",
    "GEO study [GSE125483](https://www.ncbi.nlm.nih.gov/geo/query/acc.cgi?acc=GSE125483)\n",
    "\n",
    "> Study GSE1235483 includes gene expression profiles from 12 tissues, across 4 species (*cynomolgus macaque, mouse, rat, and dog*). Here we use testis data from 9 week old brown norway rats.\n",
    "\n",
    "GEO study [GSE85420](https://www.ncbi.nlm.nih.gov/geo/query/acc.cgi?acc=GSE85420)\n",
    "\n",
    "> Study GSE85420 includes gene expression profiling after exposure to 2,2',4'4' --Tetrabromodiphenyl Ether. This study looks at the testis RNA-seq data for the control group of Wistar rats at PND 120 (\\~17 weeks)\n",
    "\n",
    "GEO study [GSE41637](https://www.ncbi.nlm.nih.gov/geo/query/acc.cgi?acc=GSE41637)\n",
    "\n",
    "> Study GSE41637 looks at transciptome differences across mammals. The study reports that samples taken from animals *of breeding age* due to transcriptome stability. Samples analyses (for Rattus norvegicus) using Illumina Genome Analyzer IIx.\n",
    "\n",
    "GEO study [GSE53960](https://www.ncbi.nlm.nih.gov/geo/query/acc.cgi?acc=GSE53960)\n",
    "\n",
    "> Study GSE53960 assesses the *\"transcriptomic profiling across 11 organs, 4 ages, and 2 sexes of Fischer 344 rats.\"* This study uses the testis data from 2, 6, 21, and 104 week old Fischer 344 rats.\n",
    "\n",
    "\n",
    "# Periods Covered\n",
    "\n",
    "\n",
    "| Period     | Species    | Strain      | Source                        |\n",
    "|-------|-----|-----|----|\n",
    "| Embryonic Day 13.5 (*midstage embryo*)      | Rat        | Wistar                            | [GSE108348](https://www.ncbi.nlm.nih.gov/geo/query/acc.cgi?acc=GSE108348)                                                                            |\n",
    "| Embryonic Day 18.5-19 (*late Embryo*)       | Rat        | Wistar                            | [GSE108348](https://www.ncbi.nlm.nih.gov/geo/query/acc.cgi?acc=GSE108348)                                                                            |\n",
    "| Post Natal Day 1-2 (*neonate*)              | Rat        | Wistar                            | [GSE108348](https://www.ncbi.nlm.nih.gov/geo/query/acc.cgi?acc=GSE108348)                                                                            |\n",
    "| 2 weeks old (*young*)                       | Rat        | Fischer 344                       | [GSE53960](https://www.ncbi.nlm.nih.gov/geo/query/acc.cgi?acc=GSE53960)                                                                              |\n",
    "| 6 weeks old (*young*)                       | Rat        | Fischer 344                       | [GSE53960](https://www.ncbi.nlm.nih.gov/geo/query/acc.cgi?acc=GSE53960)                                                                              |\n",
    "| 8-10 weeks old (*young adult*), 9 weeks old | Rat        | Wistar, Brown rat                 | [GSE108348](https://www.ncbi.nlm.nih.gov/geo/query/acc.cgi?acc=GSE108348), [GSE125483](https://www.ncbi.nlm.nih.gov/geo/query/acc.cgi?acc=GSE125483) |\n",
    "| 16 weeks old (*adult*)                      | Rat        | Norway Brown (*NCBI Taxon 10116*) | [GSE162152](https://www.ncbi.nlm.nih.gov/geo/query/acc.cgi?acc=GSE162152)                                                                            |\n",
    "| 17 weeks old (*adult*)                      | Rat        | Wistar                            | [GSE85420](https://www.ncbi.nlm.nih.gov/geo/query/acc.cgi?acc=GSE85420)                                                                              |\n",
    "| 21 weeks old (*adult*)                      | Rat        | Fischer 344                       | [GSE53960](https://www.ncbi.nlm.nih.gov/geo/query/acc.cgi?acc=GSE53960)                                                                              |\n",
    "| 2 years old (*aged adult*)                  | Rat        | Wistar , Fisher 344               | [GSE108348](https://www.ncbi.nlm.nih.gov/geo/query/acc.cgi?acc=GSE108348), [GSE53960](https://www.ncbi.nlm.nih.gov/geo/query/acc.cgi?acc=GSE53960)   |\n",
    "| *Breeding Age*                              | Rat        | Sprague-Dawley                    | [GSE41637](https://www.ncbi.nlm.nih.gov/geo/query/acc.cgi?acc=GSE41637)                                                                              |\n"
   ]
  },
  {
   "cell_type": "code",
   "execution_count": null,
   "metadata": {},
   "outputs": [],
   "source": [
    "library(plyranges)\n",
    "library(tidyverse)\n",
    "library(dplyr)\n",
    "library(plyr)\n",
    "library(DESeq2)\n",
    "library(DEGreport)"
   ]
  },
  {
   "cell_type": "markdown",
   "metadata": {},
   "source": [
    "GEO study [GSE108348](https://www.ncbi.nlm.nih.gov/geo/query/acc.cgi?acc=GSE108348)\n",
    "\n",
    "Data available: text file of unique read counts \n",
    "    * Aligned with HISAT2 (2.0.5)\n",
    "    * used Ensembl release 94 annotations as a reference and we assembled additional gene models with StringTie 1.3.5.\n",
    "    * Genome build = rn6\n",
    "    * uniquely mapped read counts using the Rsubread library in R (featureCounts) version 1.32.4, in R version 3.5.\n",
    "\n",
    "Strandness of data == Illumina Truseq == use reverse (column 4 in STAR output)\n",
    "\n",
    "SRR reads:\n",
    "        SRR6396793\n",
    "        SRR6396803\n",
    "        SRR6396794\n",
    "        SRR6396795\n",
    "        SRR6396796\n",
    "        SRR6396797\n",
    "        SRR6396798\n",
    "        SRR6396799\n",
    "        SRR6396800\n",
    "        SRR6396801\n",
    "        SRR6396802"
   ]
  },
  {
   "cell_type": "code",
   "execution_count": null,
   "metadata": {},
   "outputs": [],
   "source": [
    "# load in files from STAR --quantMode genecounts\n",
    "\n",
    "countPATH <- \"/bigdata/faustmanlab/bch/gse108348_counts/counts\"\n",
    "\n",
    "files <- list.files(path=countPATH, pattern=\"*.tab\", full.names=TRUE)\n",
    "names(files) <- lapply(strsplit(files, \"/|_\"), \"[\",8)\n",
    "countslist <- lapply(files, read.delim, sep=\"\\t\", header=FALSE)\n",
    "names(countslist)<- names(files)\n"
   ]
  },
  {
   "cell_type": "code",
   "execution_count": null,
   "metadata": {},
   "outputs": [],
   "source": [
    "colnames<- c(\"gene\", \"unstranded_counts\", \"htseq_count_Fstreadalign\",\"htseq_countrev_Sndreadalign\")\n",
    "\n",
    "\n",
    "for (i in seq_along(countslist)){\n",
    "  colnames(countslist[[i]]) <- colnames}\n",
    "\n",
    "counts_temp <- lapply(countslist, function(x) {x <- x %>% select(-c(unstranded_counts,htseq_count_Fstreadalign))})\n",
    "counts_use <- lapply(counts_temp, function(x) {x <- x[-c(1:4),]})\n",
    "\n",
    "counts_use[[1]]"
   ]
  },
  {
   "cell_type": "code",
   "execution_count": null,
   "metadata": {},
   "outputs": [],
   "source": [
    "\n",
    "all_counts <- reduce(counts_use, full_join, by = \"gene\")\n",
    "colnames(all_counts)<-c(\"gene\", names(counts_use))\n",
    "\n",
    "rownames(all_counts)<- all_counts$gene\n",
    "all_counts <- all_counts[,-1]\n",
    "\n",
    "\n",
    "\n",
    "head(all_counts)\n"
   ]
  },
  {
   "cell_type": "code",
   "execution_count": null,
   "metadata": {},
   "outputs": [],
   "source": [
    "\n",
    "# add metadata\n",
    "\n",
    "metadata <- read.csv(\"/bigdata/faustmanlab/bch/gse108348_counts/gse108348meta.txt\")\n",
    "\n",
    "colnames(metadata)\n",
    "\n",
    "metadata<-select(metadata,'Run', 'BioSample', 'Developmental_stage', 'Experiment', 'Sample.Name')\n",
    "\n",
    "metadata"
   ]
  },
  {
   "cell_type": "code",
   "execution_count": null,
   "metadata": {},
   "outputs": [],
   "source": [
    "dds <- DESeqDataSetFromMatrix(countData=all_counts,\n",
    "                                colData = metadata,\n",
    "                                 design = ~Developmental_stage)\n",
    "\n"
   ]
  },
  {
   "cell_type": "code",
   "execution_count": null,
   "metadata": {},
   "outputs": [],
   "source": [
    "dds <- collapseReplicates(dds, groupby= dds$Sample.Name, dds$Run)\n",
    "\n",
    "dds"
   ]
  },
  {
   "cell_type": "code",
   "execution_count": null,
   "metadata": {},
   "outputs": [],
   "source": [
    "dds <- DESeq(dds)\n",
    "\n"
   ]
  },
  {
   "cell_type": "code",
   "execution_count": null,
   "metadata": {},
   "outputs": [],
   "source": [
    "res <- results(dds)\n",
    "head(results(dds))\n",
    "summary(res) "
   ]
  },
  {
   "cell_type": "code",
   "execution_count": null,
   "metadata": {},
   "outputs": [],
   "source": [
    "vsdata <- vst(dds, blind=FALSE)\n",
    "plotPCA(vsdata, intgroup=\"Developmental_stage\") "
   ]
  },
  {
   "cell_type": "markdown",
   "metadata": {},
   "source": [
    "GEO study [GSE53960](https://www.ncbi.nlm.nih.gov/geo/query/acc.cgi?acc=GSE53960)\n",
    "\n",
    "TAR of text files:\n",
    "    * \tSequenced reads were trimmed for adaptor sequence, and masked for low-complexity or low-quality sequence, then mapped to rn4 whole genome using TopHat v2.0.4 with default parameters\n",
    "    * Alignment results were then processed using Cufflinks v2.0.2 for gene and transcript quantification with default parameters. For samples with 2~3 technical replicates, average FPKM (Fragment Per Kilobase per Million mapped reads) values were used.\n",
    "    * Genome_build: rn4\n",
    "\n",
    "\n",
    "**Single -- Read length 50** [see here](https://trace.ncbi.nlm.nih.gov/Traces/sra/?run=SRR1170509)\n",
    "\n",
    "**unstranded reads -- use first column of STAR output** Method: [Illumina Tru-seq](https://www.illumina.com/products/by-type/sequencing-kits/library-prep-kits/truseq-rna-v2.html)\n",
    "\n",
    "\n",
    "\n",
    "\n",
    "\n",
    "\n",
    "\n",
    "SRR reads:\n",
    "        SRR1170487\n",
    "        SRR1170488\n",
    "        SRR1170489\n",
    "        SRR1170490\n",
    "        SRR1170491\n",
    "        SRR1170492\n",
    "        SRR1170493\n",
    "        SRR1170494\n",
    "        SRR1170495\n",
    "        SRR1170496\n",
    "        SRR1170497\n",
    "        SRR1170498\n",
    "        SRR1170499\n",
    "        SRR1170500\n",
    "        SRR1170501\n",
    "        SRR1170502\n",
    "        SRR1170503\n",
    "        SRR1170504\n",
    "        SRR1170505\n",
    "        SRR1170506\n",
    "        SRR1170507\n",
    "        SRR1170508\n",
    "        SRR1170509\n",
    "        SRR1170510\n",
    "        SRR1170511\n",
    "        SRR1170512\n",
    "        SRR1170513\n",
    "        SRR1170514\n",
    "        SRR1170515\n",
    "        SRR1170516\n",
    "        SRR1170517\n",
    "        SRR1170518"
   ]
  },
  {
   "cell_type": "code",
   "execution_count": 21,
   "metadata": {},
   "outputs": [],
   "source": [
    "# load in files from STAR --quantMode genecounts\n",
    "\n",
    "countPATH <- \"/bigdata/faustmanlab/bch/gse53960/counts\"\n",
    "\n",
    "files <- list.files(path=countPATH, pattern=\"*.tab\", full.names=TRUE)\n",
    "names(files) <- lapply(strsplit(files, \"/|_\"), \"[\",7)\n",
    "countslist <- lapply(files, read.delim, sep=\"\\t\", header=FALSE)\n",
    "names(countslist)<- names(files)"
   ]
  },
  {
   "cell_type": "code",
   "execution_count": 22,
   "metadata": {},
   "outputs": [],
   "source": [
    "colnames<- c(\"gene\", \"unstranded_counts\", \"htseq_count_Fstreadalign\",\"htseq_countrev_Sndreadalign\")\n",
    "\n",
    "## select the \"unstranded_counts\" - this is specific to each study and based on the information available in NCBI Geo\n",
    "\n",
    "for (i in seq_along(countslist)){\n",
    "  colnames(countslist[[i]]) <- colnames}\n",
    "\n",
    "counts_temp <- lapply(countslist, function(x) {x <- x %>% select(-c(htseq_countrev_Sndreadalign,htseq_count_Fstreadalign))})\n",
    "counts_use <- lapply(counts_temp, function(x) {x <- x[-c(1:4),]})"
   ]
  },
  {
   "cell_type": "code",
   "execution_count": 23,
   "metadata": {},
   "outputs": [],
   "source": [
    "colnames<- c(\"gene\", \"unstranded_counts\", \"htseq_count_Fstreadalign\",\"htseq_countrev_Sndreadalign\")\n",
    "\n",
    "\n",
    "for (i in seq_along(countslist)){\n",
    "  colnames(countslist[[i]]) <- colnames}\n",
    "\n",
    "counts_temp <- lapply(countslist, function(x) {x <- x %>% select(-c(unstranded_counts,htseq_count_Fstreadalign))})\n",
    "counts_use <- lapply(counts_temp, function(x) {x <- x[-c(1:4),]})\n",
    "\n"
   ]
  },
  {
   "cell_type": "code",
   "execution_count": 24,
   "metadata": {},
   "outputs": [
    {
     "data": {
      "text/html": [
       "<table class=\"dataframe\">\n",
       "<caption>A data.frame: 6 × 32</caption>\n",
       "<thead>\n",
       "\t<tr><th></th><th scope=col>SRR1170487</th><th scope=col>SRR1170488</th><th scope=col>SRR1170489</th><th scope=col>SRR1170490</th><th scope=col>SRR1170491</th><th scope=col>SRR1170492</th><th scope=col>SRR1170493</th><th scope=col>SRR1170494</th><th scope=col>SRR1170495</th><th scope=col>SRR1170496</th><th scope=col>⋯</th><th scope=col>SRR1170509</th><th scope=col>SRR1170510</th><th scope=col>SRR1170511</th><th scope=col>SRR1170512</th><th scope=col>SRR1170513</th><th scope=col>SRR1170514</th><th scope=col>SRR1170515</th><th scope=col>SRR1170516</th><th scope=col>SRR1170517</th><th scope=col>SRR1170518</th></tr>\n",
       "\t<tr><th></th><th scope=col>&lt;int&gt;</th><th scope=col>&lt;int&gt;</th><th scope=col>&lt;int&gt;</th><th scope=col>&lt;int&gt;</th><th scope=col>&lt;int&gt;</th><th scope=col>&lt;int&gt;</th><th scope=col>&lt;int&gt;</th><th scope=col>&lt;int&gt;</th><th scope=col>&lt;int&gt;</th><th scope=col>&lt;int&gt;</th><th scope=col>⋯</th><th scope=col>&lt;int&gt;</th><th scope=col>&lt;int&gt;</th><th scope=col>&lt;int&gt;</th><th scope=col>&lt;int&gt;</th><th scope=col>&lt;int&gt;</th><th scope=col>&lt;int&gt;</th><th scope=col>&lt;int&gt;</th><th scope=col>&lt;int&gt;</th><th scope=col>&lt;int&gt;</th><th scope=col>&lt;int&gt;</th></tr>\n",
       "</thead>\n",
       "<tbody>\n",
       "\t<tr><th scope=row>ENSRNOG00000066169</th><td>  2</td><td> 1</td><td>  1</td><td>  1</td><td>  0</td><td>  0</td><td>  2</td><td> 1</td><td>0</td><td> 0</td><td>⋯</td><td> 0</td><td> 0</td><td> 7</td><td> 5</td><td> 1</td><td> 5</td><td>  1</td><td>  1</td><td>  1</td><td>  5</td></tr>\n",
       "\t<tr><th scope=row>ENSRNOG00000070168</th><td>  0</td><td> 0</td><td>  0</td><td>  0</td><td>  0</td><td>  0</td><td>  0</td><td> 0</td><td>0</td><td> 0</td><td>⋯</td><td> 0</td><td> 0</td><td> 0</td><td> 0</td><td> 0</td><td> 0</td><td>  0</td><td>  0</td><td>  0</td><td>  0</td></tr>\n",
       "\t<tr><th scope=row>ENSRNOG00000070901</th><td>100</td><td>76</td><td>138</td><td>113</td><td>146</td><td>119</td><td>106</td><td>72</td><td>6</td><td>13</td><td>⋯</td><td>15</td><td>13</td><td>75</td><td>89</td><td>74</td><td>74</td><td>108</td><td>114</td><td>113</td><td>121</td></tr>\n",
       "\t<tr><th scope=row>ENSRNOG00000018029</th><td> 12</td><td> 8</td><td> 11</td><td> 17</td><td> 12</td><td> 19</td><td> 12</td><td> 9</td><td>0</td><td> 2</td><td>⋯</td><td> 1</td><td> 2</td><td> 3</td><td>11</td><td>10</td><td> 8</td><td>  3</td><td>  3</td><td>  5</td><td>  8</td></tr>\n",
       "\t<tr><th scope=row>ENSRNOG00000031391</th><td> 40</td><td>43</td><td> 58</td><td> 64</td><td> 83</td><td> 64</td><td> 66</td><td>35</td><td>6</td><td> 7</td><td>⋯</td><td>14</td><td> 4</td><td> 0</td><td> 3</td><td> 7</td><td> 2</td><td>  1</td><td>  0</td><td>  0</td><td>  1</td></tr>\n",
       "\t<tr><th scope=row>ENSRNOG00000055342</th><td>  0</td><td> 0</td><td>  0</td><td>  0</td><td>  0</td><td>  0</td><td>  0</td><td> 0</td><td>0</td><td> 0</td><td>⋯</td><td> 0</td><td> 0</td><td> 0</td><td> 0</td><td> 0</td><td> 0</td><td>  0</td><td>  0</td><td>  0</td><td>  0</td></tr>\n",
       "</tbody>\n",
       "</table>\n"
      ],
      "text/latex": [
       "A data.frame: 6 × 32\n",
       "\\begin{tabular}{r|lllllllllllllllllllll}\n",
       "  & SRR1170487 & SRR1170488 & SRR1170489 & SRR1170490 & SRR1170491 & SRR1170492 & SRR1170493 & SRR1170494 & SRR1170495 & SRR1170496 & ⋯ & SRR1170509 & SRR1170510 & SRR1170511 & SRR1170512 & SRR1170513 & SRR1170514 & SRR1170515 & SRR1170516 & SRR1170517 & SRR1170518\\\\\n",
       "  & <int> & <int> & <int> & <int> & <int> & <int> & <int> & <int> & <int> & <int> & ⋯ & <int> & <int> & <int> & <int> & <int> & <int> & <int> & <int> & <int> & <int>\\\\\n",
       "\\hline\n",
       "\tENSRNOG00000066169 &   2 &  1 &   1 &   1 &   0 &   0 &   2 &  1 & 0 &  0 & ⋯ &  0 &  0 &  7 &  5 &  1 &  5 &   1 &   1 &   1 &   5\\\\\n",
       "\tENSRNOG00000070168 &   0 &  0 &   0 &   0 &   0 &   0 &   0 &  0 & 0 &  0 & ⋯ &  0 &  0 &  0 &  0 &  0 &  0 &   0 &   0 &   0 &   0\\\\\n",
       "\tENSRNOG00000070901 & 100 & 76 & 138 & 113 & 146 & 119 & 106 & 72 & 6 & 13 & ⋯ & 15 & 13 & 75 & 89 & 74 & 74 & 108 & 114 & 113 & 121\\\\\n",
       "\tENSRNOG00000018029 &  12 &  8 &  11 &  17 &  12 &  19 &  12 &  9 & 0 &  2 & ⋯ &  1 &  2 &  3 & 11 & 10 &  8 &   3 &   3 &   5 &   8\\\\\n",
       "\tENSRNOG00000031391 &  40 & 43 &  58 &  64 &  83 &  64 &  66 & 35 & 6 &  7 & ⋯ & 14 &  4 &  0 &  3 &  7 &  2 &   1 &   0 &   0 &   1\\\\\n",
       "\tENSRNOG00000055342 &   0 &  0 &   0 &   0 &   0 &   0 &   0 &  0 & 0 &  0 & ⋯ &  0 &  0 &  0 &  0 &  0 &  0 &   0 &   0 &   0 &   0\\\\\n",
       "\\end{tabular}\n"
      ],
      "text/markdown": [
       "\n",
       "A data.frame: 6 × 32\n",
       "\n",
       "| <!--/--> | SRR1170487 &lt;int&gt; | SRR1170488 &lt;int&gt; | SRR1170489 &lt;int&gt; | SRR1170490 &lt;int&gt; | SRR1170491 &lt;int&gt; | SRR1170492 &lt;int&gt; | SRR1170493 &lt;int&gt; | SRR1170494 &lt;int&gt; | SRR1170495 &lt;int&gt; | SRR1170496 &lt;int&gt; | ⋯ ⋯ | SRR1170509 &lt;int&gt; | SRR1170510 &lt;int&gt; | SRR1170511 &lt;int&gt; | SRR1170512 &lt;int&gt; | SRR1170513 &lt;int&gt; | SRR1170514 &lt;int&gt; | SRR1170515 &lt;int&gt; | SRR1170516 &lt;int&gt; | SRR1170517 &lt;int&gt; | SRR1170518 &lt;int&gt; |\n",
       "|---|---|---|---|---|---|---|---|---|---|---|---|---|---|---|---|---|---|---|---|---|---|\n",
       "| ENSRNOG00000066169 |   2 |  1 |   1 |   1 |   0 |   0 |   2 |  1 | 0 |  0 | ⋯ |  0 |  0 |  7 |  5 |  1 |  5 |   1 |   1 |   1 |   5 |\n",
       "| ENSRNOG00000070168 |   0 |  0 |   0 |   0 |   0 |   0 |   0 |  0 | 0 |  0 | ⋯ |  0 |  0 |  0 |  0 |  0 |  0 |   0 |   0 |   0 |   0 |\n",
       "| ENSRNOG00000070901 | 100 | 76 | 138 | 113 | 146 | 119 | 106 | 72 | 6 | 13 | ⋯ | 15 | 13 | 75 | 89 | 74 | 74 | 108 | 114 | 113 | 121 |\n",
       "| ENSRNOG00000018029 |  12 |  8 |  11 |  17 |  12 |  19 |  12 |  9 | 0 |  2 | ⋯ |  1 |  2 |  3 | 11 | 10 |  8 |   3 |   3 |   5 |   8 |\n",
       "| ENSRNOG00000031391 |  40 | 43 |  58 |  64 |  83 |  64 |  66 | 35 | 6 |  7 | ⋯ | 14 |  4 |  0 |  3 |  7 |  2 |   1 |   0 |   0 |   1 |\n",
       "| ENSRNOG00000055342 |   0 |  0 |   0 |   0 |   0 |   0 |   0 |  0 | 0 |  0 | ⋯ |  0 |  0 |  0 |  0 |  0 |  0 |   0 |   0 |   0 |   0 |\n",
       "\n"
      ],
      "text/plain": [
       "                   SRR1170487 SRR1170488 SRR1170489 SRR1170490 SRR1170491\n",
       "ENSRNOG00000066169   2         1           1          1          0       \n",
       "ENSRNOG00000070168   0         0           0          0          0       \n",
       "ENSRNOG00000070901 100        76         138        113        146       \n",
       "ENSRNOG00000018029  12         8          11         17         12       \n",
       "ENSRNOG00000031391  40        43          58         64         83       \n",
       "ENSRNOG00000055342   0         0           0          0          0       \n",
       "                   SRR1170492 SRR1170493 SRR1170494 SRR1170495 SRR1170496 ⋯\n",
       "ENSRNOG00000066169   0          2         1         0           0         ⋯\n",
       "ENSRNOG00000070168   0          0         0         0           0         ⋯\n",
       "ENSRNOG00000070901 119        106        72         6          13         ⋯\n",
       "ENSRNOG00000018029  19         12         9         0           2         ⋯\n",
       "ENSRNOG00000031391  64         66        35         6           7         ⋯\n",
       "ENSRNOG00000055342   0          0         0         0           0         ⋯\n",
       "                   SRR1170509 SRR1170510 SRR1170511 SRR1170512 SRR1170513\n",
       "ENSRNOG00000066169  0          0          7          5          1        \n",
       "ENSRNOG00000070168  0          0          0          0          0        \n",
       "ENSRNOG00000070901 15         13         75         89         74        \n",
       "ENSRNOG00000018029  1          2          3         11         10        \n",
       "ENSRNOG00000031391 14          4          0          3          7        \n",
       "ENSRNOG00000055342  0          0          0          0          0        \n",
       "                   SRR1170514 SRR1170515 SRR1170516 SRR1170517 SRR1170518\n",
       "ENSRNOG00000066169  5           1          1          1          5       \n",
       "ENSRNOG00000070168  0           0          0          0          0       \n",
       "ENSRNOG00000070901 74         108        114        113        121       \n",
       "ENSRNOG00000018029  8           3          3          5          8       \n",
       "ENSRNOG00000031391  2           1          0          0          1       \n",
       "ENSRNOG00000055342  0           0          0          0          0       "
      ]
     },
     "metadata": {},
     "output_type": "display_data"
    }
   ],
   "source": [
    "\n",
    "all_counts <- reduce(counts_use, full_join, by = \"gene\")\n",
    "colnames(all_counts)<-c(\"gene\", names(counts_use))\n",
    "\n",
    "rownames(all_counts)<- all_counts$gene\n",
    "all_counts <- all_counts[,-1]\n",
    "\n",
    "\n",
    "\n",
    "head(all_counts)"
   ]
  },
  {
   "cell_type": "markdown",
   "metadata": {},
   "source": [
    "GEO study [GSE162152](https://www.ncbi.nlm.nih.gov/geo/query/acc.cgi?acc=GSE162152)\n",
    "\n",
    "txt files specific to circRNAs -- need raw data from SRA\n",
    "\n",
    "SRA files:\n",
    "        SRR13142136\n",
    "        SRR13142137\n",
    "        SRR13142138"
   ]
  },
  {
   "cell_type": "markdown",
   "metadata": {},
   "source": [
    "GEO study [GSE85420](https://www.ncbi.nlm.nih.gov/geo/query/acc.cgi?acc=GSE85420) \n",
    "\n",
    "txt files with processed data:\n",
    "    * mapped to the reference rat genome (rn5) using TopHat 2 aligner\n",
    "    * Aligned reads were used for assembly of novel transcripts and differential expression of novel and reference transcripts with Cuffdiff 2.1.1.\n",
    "    * Supplementary_files_format_and_content: XLSX file showing Log2(FPKM) for control and exposed condition and Log2 of their FPKM ratio for each transcript, as well as transcript coordinates and gene names.\n",
    "\n",
    "\n",
    "**Single - Read length 75** [see here](https://trace.ncbi.nlm.nih.gov/Traces/sra/?run=SRR4017427)\n",
    "\n",
    "\n",
    "SRA files:\n",
    "        SRR4017429\n",
    "        SRR4017448\n",
    "        SRR4017447\n",
    "        SRR4017446\n",
    "        SRR4017445\n",
    "        SRR4017431\n",
    "        SRR4017432\n",
    "        SRR4017433\n",
    "        SRR4017434\n",
    "        SRR4017435\n",
    "        SRR4017436\n",
    "        SRR4017437\n",
    "        SRR4017438\n",
    "        SRR4017439\n",
    "        SRR4017440\n",
    "        SRR4017441\n",
    "        SRR4017442\n",
    "        SRR4017443\n",
    "        SRR4017444"
   ]
  },
  {
   "cell_type": "markdown",
   "metadata": {},
   "source": [
    "[GSE41637](https://www.ncbi.nlm.nih.gov/geo/query/acc.cgi?acc=GSE41637)\n",
    "\n",
    "Supplementary files include mapped reads:\n",
    "    * Mapped to rn4\n",
    "\n",
    "SRA files:\n",
    "        SRR594427 (strain F344/cr1)\n",
    "        SRR594436 (strain BN/SsNHsd)\n",
    "        SRR594445 (strain Sprague-Dawley)\n",
    "\n",
    "\n"
   ]
  }
 ],
 "metadata": {
  "kernelspec": {
   "display_name": "R",
   "language": "R",
   "name": "ir"
  },
  "language_info": {
   "codemirror_mode": "r",
   "file_extension": ".r",
   "mimetype": "text/x-r-source",
   "name": "R",
   "pygments_lexer": "r",
   "version": "4.1.3"
  },
  "orig_nbformat": 4
 },
 "nbformat": 4,
 "nbformat_minor": 2
}
